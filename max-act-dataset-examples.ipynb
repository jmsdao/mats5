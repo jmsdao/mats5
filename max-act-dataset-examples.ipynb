{
 "cells": [
  {
   "cell_type": "code",
   "execution_count": 4,
   "metadata": {},
   "outputs": [],
   "source": [
    "# Handy snippet to get repo root from anywhere in the repo\n",
    "import sys\n",
    "from subprocess import check_output\n",
    "ROOT = check_output('git rev-parse --show-toplevel', shell=True).decode(\"utf-8\").strip()\n",
    "if ROOT not in sys.path: sys.path.append(ROOT)"
   ]
  },
  {
   "cell_type": "code",
   "execution_count": 38,
   "metadata": {},
   "outputs": [],
   "source": [
    "import torch as t\n",
    "import einops\n",
    "\n",
    "from datasets import load_dataset\n",
    "from tqdm.auto import trange\n",
    "from circuitsvis.activations import text_neuron_activations\n",
    "from llama2 import load_model\n",
    "\n",
    "from jaxtyping import Float\n",
    "\n",
    "\n",
    "t.set_grad_enabled(False)\n",
    "device = \"cuda\" if t.cuda.is_available() else \"cpu\""
   ]
  },
  {
   "cell_type": "code",
   "execution_count": 2,
   "metadata": {},
   "outputs": [
    {
     "data": {
      "application/vnd.jupyter.widget-view+json": {
       "model_id": "ca18663d4b7e42c48493a3d38f3aff7e",
       "version_major": 2,
       "version_minor": 0
      },
      "text/plain": [
       "Loading checkpoint shards:   0%|          | 0/2 [00:00<?, ?it/s]"
      ]
     },
     "metadata": {},
     "output_type": "display_data"
    },
    {
     "name": "stderr",
     "output_type": "stream",
     "text": [
      "/workspace/mamba-envs/mats/lib/python3.10/site-packages/transformers/generation/configuration_utils.py:389: UserWarning: `do_sample` is set to `False`. However, `temperature` is set to `0.9` -- this flag is only used in sample-based generation modes. You should set `do_sample=True` or unset `temperature`. This was detected when initializing the generation config instance, which means the corresponding file may hold incorrect parameterization and should be fixed.\n",
      "  warnings.warn(\n",
      "/workspace/mamba-envs/mats/lib/python3.10/site-packages/transformers/generation/configuration_utils.py:394: UserWarning: `do_sample` is set to `False`. However, `top_p` is set to `0.6` -- this flag is only used in sample-based generation modes. You should set `do_sample=True` or unset `top_p`. This was detected when initializing the generation config instance, which means the corresponding file may hold incorrect parameterization and should be fixed.\n",
      "  warnings.warn(\n"
     ]
    }
   ],
   "source": [
    "model = load_model(device=device)"
   ]
  },
  {
   "cell_type": "code",
   "execution_count": 5,
   "metadata": {},
   "outputs": [
    {
     "data": {
      "text/plain": [
       "'shape: (layer pos d_model)'"
      ]
     },
     "execution_count": 5,
     "metadata": {},
     "output_type": "execute_result"
    }
   ],
   "source": [
    "directions = t.load(f\"{ROOT}/directions/llama2-7b_cities_mm.pt\")\n",
    "directions.shape\n",
    "\"shape: (layer pos d_model)\""
   ]
  },
  {
   "cell_type": "code",
   "execution_count": 113,
   "metadata": {},
   "outputs": [
    {
     "data": {
      "text/plain": [
       "torch.Size([1496, 32, 2, 4096])"
      ]
     },
     "execution_count": 113,
     "metadata": {},
     "output_type": "execute_result"
    }
   ],
   "source": [
    "city_activations = t.load(f\"{ROOT}/activations/llama2-7b_cities.pt\")\n",
    "city_activations.shape"
   ]
  },
  {
   "cell_type": "code",
   "execution_count": 116,
   "metadata": {},
   "outputs": [
    {
     "data": {
      "text/plain": [
       "'shape: (pos layer statement)'"
      ]
     },
     "execution_count": 116,
     "metadata": {},
     "output_type": "execute_result"
    }
   ],
   "source": [
    "projections = einops.einsum(\n",
    "    city_activations,\n",
    "    directions / directions.norm(dim=-1, keepdim=True),\n",
    "    \"statement layer pos d_model, layer pos d_model -> pos layer statement\"\n",
    ")\n",
    "\"shape: (pos layer statement)\"\n",
    "\n",
    "def city_proj_mean(pos, layer):\n",
    "    return projections[pos, layer].mean().item()\n",
    "\n",
    "def city_proj_std(pos, layer):\n",
    "    return projections[pos, layer].std().item()"
   ]
  },
  {
   "cell_type": "code",
   "execution_count": 117,
   "metadata": {},
   "outputs": [],
   "source": []
  },
  {
   "cell_type": "code",
   "execution_count": null,
   "metadata": {},
   "outputs": [],
   "source": []
  },
  {
   "cell_type": "code",
   "execution_count": 118,
   "metadata": {},
   "outputs": [],
   "source": [
    "def get_direction_activations(model, prompt, layer, dir_pos, scale=True, device=device):\n",
    "    _, cache = model.run_with_cache(\n",
    "        prompt,\n",
    "        return_type=\"loss\",\n",
    "        names_filter=f\"blocks.{layer}.hook_resid_post\",\n",
    "    )\n",
    "    chosen_dir = directions[layer, dir_pos].to(device)\n",
    "    activations = cache[f'blocks.{layer}.hook_resid_post'][0] @ chosen_dir\n",
    "    if scale:\n",
    "        activations = (activations - city_proj_mean(dir_pos, layer)) / city_proj_std(dir_pos, layer)\n",
    "    return activations"
   ]
  },
  {
   "cell_type": "code",
   "execution_count": 83,
   "metadata": {},
   "outputs": [],
   "source": [
    "# dataset = load_dataset('c4', 'en', split='train', streaming=True)\n",
    "dataset = load_dataset('wikipedia', '20220301.en', split='train', streaming=True)\n",
    "iter_dataset = iter(dataset)"
   ]
  },
  {
   "cell_type": "code",
   "execution_count": 91,
   "metadata": {},
   "outputs": [],
   "source": [
    "import pandas as pd\n",
    "df = pd.DataFrame()\n",
    "text = []\n",
    "top1_acts = []\n",
    "top2_acts = []\n",
    "top3_acts = []\n",
    "bot1_acts = []\n",
    "bot2_acts = []\n",
    "bot3_acts = []"
   ]
  },
  {
   "cell_type": "code",
   "execution_count": 92,
   "metadata": {},
   "outputs": [
    {
     "data": {
      "application/vnd.jupyter.widget-view+json": {
       "model_id": "e9b9a24f4afa4934a83e024a114ea459",
       "version_major": 2,
       "version_minor": 0
      },
      "text/plain": [
       "  0%|          | 0/50 [00:00<?, ?it/s]"
      ]
     },
     "metadata": {},
     "output_type": "display_data"
    }
   ],
   "source": [
    "for _ in trange(50):\n",
    "    sample = next(iter_dataset)\n",
    "    tokens = model.to_tokens(sample[\"text\"])[..., :256]\n",
    "\n",
    "    _, cache = model.run_with_cache(\n",
    "        tokens,\n",
    "        return_type=\"loss\",\n",
    "        names_filter=\"blocks.11.hook_resid_post\",\n",
    "    )\n",
    "    activations = cache['blocks.11.hook_resid_post'][0] @ chosen_dir\n",
    "\n",
    "    top1, top2, top3 = activations.topk(3).values.tolist()\n",
    "    bot1, bot2, bot3 = activations.topk(3, largest=False).values.tolist()\n",
    "\n",
    "    text.append(sample[\"text\"])\n",
    "    top1_acts.append(top1)\n",
    "    top2_acts.append(top2)\n",
    "    top3_acts.append(top3)\n",
    "    bot1_acts.append(bot1)\n",
    "    bot2_acts.append(bot2)\n",
    "    bot3_acts.append(bot3)\n"
   ]
  },
  {
   "cell_type": "code",
   "execution_count": 93,
   "metadata": {},
   "outputs": [],
   "source": [
    "df[\"text\"] = text\n",
    "df[\"top1\"] = top1_acts\n",
    "df[\"top2\"] = top2_acts\n",
    "df[\"top3\"] = top3_acts\n",
    "df[\"bot1\"] = bot1_acts\n",
    "df[\"bot2\"] = bot2_acts\n",
    "df[\"bot3\"] = bot3_acts"
   ]
  },
  {
   "cell_type": "code",
   "execution_count": 98,
   "metadata": {},
   "outputs": [
    {
     "data": {
      "text/html": [
       "<div>\n",
       "<style scoped>\n",
       "    .dataframe tbody tr th:only-of-type {\n",
       "        vertical-align: middle;\n",
       "    }\n",
       "\n",
       "    .dataframe tbody tr th {\n",
       "        vertical-align: top;\n",
       "    }\n",
       "\n",
       "    .dataframe thead th {\n",
       "        text-align: right;\n",
       "    }\n",
       "</style>\n",
       "<table border=\"1\" class=\"dataframe\">\n",
       "  <thead>\n",
       "    <tr style=\"text-align: right;\">\n",
       "      <th></th>\n",
       "      <th>text</th>\n",
       "      <th>top1</th>\n",
       "      <th>top2</th>\n",
       "      <th>top3</th>\n",
       "      <th>bot1</th>\n",
       "      <th>bot2</th>\n",
       "      <th>bot3</th>\n",
       "    </tr>\n",
       "  </thead>\n",
       "  <tbody>\n",
       "    <tr>\n",
       "      <th>47</th>\n",
       "      <td>Arraignment is a formal reading of a criminal ...</td>\n",
       "      <td>1347.252563</td>\n",
       "      <td>458.780518</td>\n",
       "      <td>51.564903</td>\n",
       "      <td>-28.007977</td>\n",
       "      <td>-21.545948</td>\n",
       "      <td>-8.347266</td>\n",
       "    </tr>\n",
       "    <tr>\n",
       "      <th>48</th>\n",
       "      <td>\"America the Beautiful\" is a patriotic America...</td>\n",
       "      <td>1253.946777</td>\n",
       "      <td>458.780518</td>\n",
       "      <td>51.258194</td>\n",
       "      <td>-23.840515</td>\n",
       "      <td>-13.100718</td>\n",
       "      <td>-9.871751</td>\n",
       "    </tr>\n",
       "    <tr>\n",
       "      <th>20</th>\n",
       "      <td>Agricultural science (or agriscience for short...</td>\n",
       "      <td>1381.436768</td>\n",
       "      <td>458.780518</td>\n",
       "      <td>61.355854</td>\n",
       "      <td>-21.421581</td>\n",
       "      <td>-7.659249</td>\n",
       "      <td>-4.730247</td>\n",
       "    </tr>\n",
       "    <tr>\n",
       "      <th>29</th>\n",
       "      <td>The Austroasiatic languages , also known as Mo...</td>\n",
       "      <td>1348.820923</td>\n",
       "      <td>458.780518</td>\n",
       "      <td>52.505398</td>\n",
       "      <td>-17.960320</td>\n",
       "      <td>-5.729125</td>\n",
       "      <td>-5.578624</td>\n",
       "    </tr>\n",
       "    <tr>\n",
       "      <th>40</th>\n",
       "      <td>Aberdeen is a city in Scotland, United Kingdom...</td>\n",
       "      <td>1251.796631</td>\n",
       "      <td>458.780518</td>\n",
       "      <td>78.915894</td>\n",
       "      <td>-17.826765</td>\n",
       "      <td>-17.741428</td>\n",
       "      <td>-16.025068</td>\n",
       "    </tr>\n",
       "    <tr>\n",
       "      <th>28</th>\n",
       "      <td>Andre Kirk Agassi ( ; born April 29, 1970) is ...</td>\n",
       "      <td>1308.811401</td>\n",
       "      <td>458.780518</td>\n",
       "      <td>55.577190</td>\n",
       "      <td>-16.197714</td>\n",
       "      <td>-7.686803</td>\n",
       "      <td>-6.584397</td>\n",
       "    </tr>\n",
       "    <tr>\n",
       "      <th>25</th>\n",
       "      <td>Austin is the capital of Texas in the United S...</td>\n",
       "      <td>1260.507935</td>\n",
       "      <td>458.780518</td>\n",
       "      <td>83.717796</td>\n",
       "      <td>-15.112831</td>\n",
       "      <td>-13.808863</td>\n",
       "      <td>-13.666355</td>\n",
       "    </tr>\n",
       "    <tr>\n",
       "      <th>39</th>\n",
       "      <td>Ada may refer to:\\n\\nPlaces\\n\\nAfrica\\n Ada Fo...</td>\n",
       "      <td>1163.383911</td>\n",
       "      <td>458.780518</td>\n",
       "      <td>48.575985</td>\n",
       "      <td>-14.517107</td>\n",
       "      <td>-12.535902</td>\n",
       "      <td>-10.518171</td>\n",
       "    </tr>\n",
       "    <tr>\n",
       "      <th>35</th>\n",
       "      <td>Amphibians are ectothermic, tetrapod vertebrat...</td>\n",
       "      <td>1311.817993</td>\n",
       "      <td>458.780518</td>\n",
       "      <td>37.890564</td>\n",
       "      <td>-14.172328</td>\n",
       "      <td>-3.547485</td>\n",
       "      <td>-3.216492</td>\n",
       "    </tr>\n",
       "    <tr>\n",
       "      <th>27</th>\n",
       "      <td>Apollo is one of the  Olympian deities in clas...</td>\n",
       "      <td>1322.135254</td>\n",
       "      <td>458.780518</td>\n",
       "      <td>42.068859</td>\n",
       "      <td>-14.035411</td>\n",
       "      <td>-7.777155</td>\n",
       "      <td>-3.137388</td>\n",
       "    </tr>\n",
       "  </tbody>\n",
       "</table>\n",
       "</div>"
      ],
      "text/plain": [
       "                                                 text         top1  \\\n",
       "47  Arraignment is a formal reading of a criminal ...  1347.252563   \n",
       "48  \"America the Beautiful\" is a patriotic America...  1253.946777   \n",
       "20  Agricultural science (or agriscience for short...  1381.436768   \n",
       "29  The Austroasiatic languages , also known as Mo...  1348.820923   \n",
       "40  Aberdeen is a city in Scotland, United Kingdom...  1251.796631   \n",
       "28  Andre Kirk Agassi ( ; born April 29, 1970) is ...  1308.811401   \n",
       "25  Austin is the capital of Texas in the United S...  1260.507935   \n",
       "39  Ada may refer to:\\n\\nPlaces\\n\\nAfrica\\n Ada Fo...  1163.383911   \n",
       "35  Amphibians are ectothermic, tetrapod vertebrat...  1311.817993   \n",
       "27  Apollo is one of the  Olympian deities in clas...  1322.135254   \n",
       "\n",
       "          top2       top3       bot1       bot2       bot3  \n",
       "47  458.780518  51.564903 -28.007977 -21.545948  -8.347266  \n",
       "48  458.780518  51.258194 -23.840515 -13.100718  -9.871751  \n",
       "20  458.780518  61.355854 -21.421581  -7.659249  -4.730247  \n",
       "29  458.780518  52.505398 -17.960320  -5.729125  -5.578624  \n",
       "40  458.780518  78.915894 -17.826765 -17.741428 -16.025068  \n",
       "28  458.780518  55.577190 -16.197714  -7.686803  -6.584397  \n",
       "25  458.780518  83.717796 -15.112831 -13.808863 -13.666355  \n",
       "39  458.780518  48.575985 -14.517107 -12.535902 -10.518171  \n",
       "35  458.780518  37.890564 -14.172328  -3.547485  -3.216492  \n",
       "27  458.780518  42.068859 -14.035411  -7.777155  -3.137388  "
      ]
     },
     "execution_count": 98,
     "metadata": {},
     "output_type": "execute_result"
    }
   ],
   "source": [
    "# df.sort_values(\"top1\", ascending=False).head(10)\n",
    "df.sort_values(\"bot1\", ascending=True).head(10)"
   ]
  },
  {
   "cell_type": "code",
   "execution_count": 141,
   "metadata": {},
   "outputs": [],
   "source": [
    "# prompt = df.text.iloc[27]\n",
    "# prompt = next(iter_dataset)[\"text\"]\n",
    "prompt = \"The city of Paris is in Australia. The city of Rome is in Italy.\"\n",
    "# prompt = \"The city of Rome is in Italy. The city of Paris is in Australia.\""
   ]
  },
  {
   "cell_type": "code",
   "execution_count": 146,
   "metadata": {},
   "outputs": [
    {
     "data": {
      "text/html": [
       "<div id=\"circuits-vis-d1aa0937-c15a\" style=\"margin: 15px 0;\"/>\n",
       "    <script crossorigin type=\"module\">\n",
       "    import { render, TextNeuronActivations } from \"https://unpkg.com/circuitsvis@1.41.0/dist/cdn/esm.js\";\n",
       "    render(\n",
       "      \"circuits-vis-d1aa0937-c15a\",\n",
       "      TextNeuronActivations,\n",
       "      {\"tokens\": [\"<s>\", \"The\", \"city\", \"of\", \"Paris\", \"is\", \"in\", \"Australia\", \".\", \"The\", \"city\", \"of\", \"Rome\", \"is\", \"in\", \"Italy\", \".\"], \"activations\": [[[1.0254195928573608]], [[-58.72221374511719]], [[-54.39595031738281]], [[-58.87398147583008]], [[-56.45223617553711]], [[-50.79378128051758]], [[-50.89719772338867]], [[-56.02629089355469]], [[113.06208038330078]], [[-51.86507034301758]], [[-49.319766998291016]], [[-57.23410415649414]], [[-51.909812927246094]], [[-54.70961380004883]], [[-63.62685012817383]], [[-55.86296463012695]], [[-54.300411224365234]]], \"firstDimensionName\": \"Layer\", \"secondDimensionName\": \"Neuron\"}\n",
       "    )\n",
       "    </script>"
      ],
      "text/plain": [
       "<circuitsvis.utils.render.RenderedHTML at 0x7f5ac1b49fc0>"
      ]
     },
     "execution_count": 146,
     "metadata": {},
     "output_type": "execute_result"
    }
   ],
   "source": [
    "tokens_str = model.to_str_tokens(prompt)\n",
    "# activations = get_direction_activations(model, prompt, 24, 0)\n",
    "activations = get_direction_activations(model, prompt, 24, 1)\n",
    "text_neuron_activations(tokens_str, activations[:, None, None])"
   ]
  },
  {
   "cell_type": "code",
   "execution_count": null,
   "metadata": {},
   "outputs": [],
   "source": []
  },
  {
   "cell_type": "code",
   "execution_count": null,
   "metadata": {},
   "outputs": [],
   "source": []
  },
  {
   "cell_type": "code",
   "execution_count": null,
   "metadata": {},
   "outputs": [],
   "source": []
  }
 ],
 "metadata": {
  "kernelspec": {
   "display_name": "Python 3",
   "language": "python",
   "name": "python3"
  },
  "language_info": {
   "codemirror_mode": {
    "name": "ipython",
    "version": 3
   },
   "file_extension": ".py",
   "mimetype": "text/x-python",
   "name": "python",
   "nbconvert_exporter": "python",
   "pygments_lexer": "ipython3",
   "version": "3.10.13"
  }
 },
 "nbformat": 4,
 "nbformat_minor": 2
}
