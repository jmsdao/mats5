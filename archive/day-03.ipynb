{
 "cells": [
  {
   "cell_type": "code",
   "execution_count": 15,
   "metadata": {},
   "outputs": [],
   "source": [
    "import torch as t\n",
    "\n",
    "from functools import partial\n",
    "from tqdm.auto import tqdm\n",
    "from llama2 import load_model\n",
    "\n",
    "\n",
    "t.set_grad_enabled(False)\n",
    "device = \"cuda\" if t.cuda.is_available() else \"cpu\""
   ]
  },
  {
   "cell_type": "code",
   "execution_count": 3,
   "metadata": {},
   "outputs": [
    {
     "data": {
      "application/vnd.jupyter.widget-view+json": {
       "model_id": "c12efe03f442434db97254eb67652a82",
       "version_major": 2,
       "version_minor": 0
      },
      "text/plain": [
       "Loading checkpoint shards:   0%|          | 0/2 [00:00<?, ?it/s]"
      ]
     },
     "metadata": {},
     "output_type": "display_data"
    },
    {
     "name": "stderr",
     "output_type": "stream",
     "text": [
      "/workspace/mamba-envs/mats/lib/python3.10/site-packages/transformers/generation/configuration_utils.py:389: UserWarning: `do_sample` is set to `False`. However, `temperature` is set to `0.9` -- this flag is only used in sample-based generation modes. You should set `do_sample=True` or unset `temperature`. This was detected when initializing the generation config instance, which means the corresponding file may hold incorrect parameterization and should be fixed.\n",
      "  warnings.warn(\n",
      "/workspace/mamba-envs/mats/lib/python3.10/site-packages/transformers/generation/configuration_utils.py:394: UserWarning: `do_sample` is set to `False`. However, `top_p` is set to `0.6` -- this flag is only used in sample-based generation modes. You should set `do_sample=True` or unset `top_p`. This was detected when initializing the generation config instance, which means the corresponding file may hold incorrect parameterization and should be fixed.\n",
      "  warnings.warn(\n"
     ]
    }
   ],
   "source": [
    "model = load_model(device=device)"
   ]
  },
  {
   "cell_type": "code",
   "execution_count": 6,
   "metadata": {},
   "outputs": [
    {
     "data": {
      "text/plain": [
       "'layer pos d_model'"
      ]
     },
     "execution_count": 6,
     "metadata": {},
     "output_type": "execute_result"
    }
   ],
   "source": [
    "directions = t.load(\"directions/llama2-7b_cities_mm.pt\").to(device)\n",
    "\"shape: (layer pos d_model)\""
   ]
  },
  {
   "cell_type": "code",
   "execution_count": 7,
   "metadata": {},
   "outputs": [],
   "source": [
    "def generate_with_hooks(model, toks, max_tokens_generated=64, fwd_hooks=[], include_prompt=False) -> str:\n",
    "    assert toks.shape[0] == 1, \"batch size must be 1\"\n",
    "    all_toks = t.zeros((toks.shape[0], toks.shape[1] + max_tokens_generated), dtype=t.long).to(device)\n",
    "    all_toks[:, :toks.shape[1]] = toks\n",
    "\n",
    "    \n",
    "    model.reset_hooks()\n",
    "    for i in tqdm(range(max_tokens_generated)):\n",
    "        logits = model.run_with_hooks(\n",
    "            all_toks[:, :-max_tokens_generated + i],\n",
    "            return_type=\"logits\",\n",
    "            fwd_hooks=fwd_hooks,\n",
    "        )[0,-1] # get the first element in the batch, and the last logits tensor in the sequence\n",
    "\n",
    "        # greedy sampling (temperature=0)\n",
    "        next_token = logits.argmax()\n",
    "        all_toks[0,-max_tokens_generated+i] = next_token\n",
    "\n",
    "    if include_prompt:\n",
    "        return model.tokenizer.decode(all_toks[0])\n",
    "    else:\n",
    "        return model.tokenizer.decode(all_toks[0, toks.shape[1]:])"
   ]
  },
  {
   "cell_type": "code",
   "execution_count": 18,
   "metadata": {},
   "outputs": [],
   "source": [
    "def direction_addition_hook(\n",
    "    activations,\n",
    "    hook,\n",
    "    token_positions=\"all\",\n",
    "    layer=0,\n",
    "    alpha=5.0,\n",
    "    direction_token=-1,\n",
    "):\n",
    "    \"\"\"\n",
    "    activations: shape (batch pos d_model)\n",
    "    \"\"\"\n",
    "    if token_positions == \"all\":\n",
    "        activations[:, :, :] += alpha * directions[layer, direction_token, :]\n",
    "    else:\n",
    "        raise NotImplementedError\n",
    "    return activations"
   ]
  },
  {
   "cell_type": "code",
   "execution_count": 52,
   "metadata": {},
   "outputs": [
    {
     "data": {
      "application/vnd.jupyter.widget-view+json": {
       "model_id": "9d3bdb0eed0f4bf0a0cc912a930dc4ae",
       "version_major": 2,
       "version_minor": 0
      },
      "text/plain": [
       "  0%|          | 0/100 [00:00<?, ?it/s]"
      ]
     },
     "metadata": {},
     "output_type": "display_data"
    },
    {
     "name": "stdout",
     "output_type": "stream",
     "text": [
      "('<s> An essay about the city of London: its history, its government, its '\n",
      " 'trade, its manufactures, its population, its wealth, its poverty, its '\n",
      " 'morals, its amusements, its churches, its schools, its hospitals, its '\n",
      " 'prisons, its police, its charities, its public buildings, its streets, its '\n",
      " 'squares, its parks, its markets, its shops, its theatres, its clubs, its '\n",
      " 'taverns, its coffee-houses, its public-houses')\n"
     ]
    }
   ],
   "source": [
    "toks = model.to_tokens(\"An essay about the city of London:\")\n",
    "pp(generate_with_hooks(model, toks, max_tokens_generated=100, include_prompt=True))"
   ]
  },
  {
   "cell_type": "code",
   "execution_count": 53,
   "metadata": {},
   "outputs": [
    {
     "data": {
      "application/vnd.jupyter.widget-view+json": {
       "model_id": "ee070ef03471482b87946c53b1953202",
       "version_major": 2,
       "version_minor": 0
      },
      "text/plain": [
       "  0%|          | 0/100 [00:00<?, ?it/s]"
      ]
     },
     "metadata": {},
     "output_type": "display_data"
    },
    {
     "name": "stdout",
     "output_type": "stream",
     "text": [
      "('<s> An essay about the city of London:\\n'\n",
      " 'The city of London is a city of the United Kingdom. It is located in the '\n",
      " 'south-east of England. The city is located on the Thames River. The city is '\n",
      " 'located in the county of Kent. The city is located in the south-east of '\n",
      " 'England. The city is located in the county of Kent. The city is located in '\n",
      " 'the south-east of England. The city is located in the county of Kent. The '\n",
      " 'city is located in the south-east of England.')\n"
     ]
    }
   ],
   "source": [
    "layer = 11\n",
    "partialed_hook = partial(\n",
    "    direction_addition_hook,\n",
    "    layer=layer,\n",
    "    alpha=-15.0,\n",
    "    direction_token=-1,\n",
    ")\n",
    "fwd_hooks = [\n",
    "    (f\"blocks.{layer}.hook_resid_post\", partialed_hook),\n",
    "]\n",
    "out_text = generate_with_hooks(model, toks, max_tokens_generated=100, fwd_hooks=fwd_hooks, include_prompt=True)\n",
    "pp(out_text)"
   ]
  },
  {
   "cell_type": "code",
   "execution_count": null,
   "metadata": {},
   "outputs": [],
   "source": []
  },
  {
   "cell_type": "code",
   "execution_count": null,
   "metadata": {},
   "outputs": [],
   "source": []
  },
  {
   "cell_type": "code",
   "execution_count": null,
   "metadata": {},
   "outputs": [],
   "source": []
  },
  {
   "cell_type": "code",
   "execution_count": null,
   "metadata": {},
   "outputs": [],
   "source": []
  },
  {
   "cell_type": "code",
   "execution_count": 14,
   "metadata": {},
   "outputs": [
    {
     "data": {
      "application/vnd.jupyter.widget-view+json": {
       "model_id": "03cb3486f66c4403972d5a173f851a76",
       "version_major": 2,
       "version_minor": 0
      },
      "text/plain": [
       "  0%|          | 0/12 [00:00<?, ?it/s]"
      ]
     },
     "metadata": {},
     "output_type": "display_data"
    },
    {
     "data": {
      "text/plain": [
       "'<s> The city of Marseille is in France. It is the second largest city in France. It is located'"
      ]
     },
     "execution_count": 14,
     "metadata": {},
     "output_type": "execute_result"
    }
   ],
   "source": [
    "toks = model.to_tokens(\"The city of Marseille is in France.\")\n",
    "generate_with_hooks(model, toks, max_tokens_generated=12, include_prompt=True)"
   ]
  },
  {
   "cell_type": "code",
   "execution_count": null,
   "metadata": {},
   "outputs": [],
   "source": []
  },
  {
   "cell_type": "code",
   "execution_count": null,
   "metadata": {},
   "outputs": [],
   "source": []
  }
 ],
 "metadata": {
  "kernelspec": {
   "display_name": "Python 3",
   "language": "python",
   "name": "python3"
  },
  "language_info": {
   "codemirror_mode": {
    "name": "ipython",
    "version": 3
   },
   "file_extension": ".py",
   "mimetype": "text/x-python",
   "name": "python",
   "nbconvert_exporter": "python",
   "pygments_lexer": "ipython3",
   "version": "3.10.13"
  }
 },
 "nbformat": 4,
 "nbformat_minor": 2
}
