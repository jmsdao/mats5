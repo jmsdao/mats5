{
 "cells": [
  {
   "cell_type": "code",
   "execution_count": 7,
   "metadata": {},
   "outputs": [],
   "source": [
    "# Handy snippet to get repo root from anywhere in the repo\n",
    "import sys\n",
    "from subprocess import check_output\n",
    "ROOT = check_output('git rev-parse --show-toplevel', shell=True).decode(\"utf-8\").strip()\n",
    "if ROOT not in sys.path: sys.path.append(ROOT)"
   ]
  },
  {
   "cell_type": "code",
   "execution_count": 39,
   "metadata": {},
   "outputs": [
    {
     "name": "stderr",
     "output_type": "stream",
     "text": [
      "rep-reading is already registered. Overwriting pipeline for task rep-reading...\n",
      "rep-control is already registered. Overwriting pipeline for task rep-control...\n"
     ]
    }
   ],
   "source": [
    "# Base code yoinked from\n",
    "# https://github.com/andyzoujm/representation-engineering/blob/f869e2c587341594343612f47048e1b86084fe93/examples/honesty/honesty_mistral.ipynb\n",
    "\n",
    "from transformers import AutoTokenizer, pipeline, AutoModelForCausalLM, PreTrainedTokenizer\n",
    "import matplotlib.pyplot as plt\n",
    "import torch\n",
    "import numpy as np\n",
    "import pandas as pd\n",
    "import random\n",
    "\n",
    "from tqdm import tqdm\n",
    "from repe import repe_pipeline_registry\n",
    "\n",
    "\n",
    "torch.set_grad_enabled(False)\n",
    "repe_pipeline_registry()"
   ]
  },
  {
   "cell_type": "markdown",
   "metadata": {},
   "source": [
    "## RepE's utils functions"
   ]
  },
  {
   "cell_type": "code",
   "execution_count": 15,
   "metadata": {},
   "outputs": [],
   "source": [
    "def honesty_function_dataset(data_path: str, tokenizer: PreTrainedTokenizer, user_tag: str = \"\", assistant_tag: str = \"\", seed: int = 0) -> (list, list):\n",
    "    \"\"\"\n",
    "    Processes data to create training and testing datasets based on honesty.\n",
    "\n",
    "    Args:\n",
    "    - data_path (str): Path to the CSV containing the data.\n",
    "    - tokenizer (PreTrainedTokenizer): Tokenizer to tokenize statements.\n",
    "    - user_tag (str): Instruction template.\n",
    "    - assistant_tag (str): Instruction template user tag.\n",
    "    - seed (int): Random seed for reproducibility.\n",
    "\n",
    "    Returns:\n",
    "    - Tuple containing train and test data.\n",
    "    \"\"\"\n",
    "\n",
    "    # Setting the seed for reproducibility\n",
    "    random.seed(seed)\n",
    "\n",
    "    # Load the data\n",
    "    df = pd.read_csv(data_path)\n",
    "    true_statements = df[df['label'] == 1]['statement'].values.tolist()\n",
    "    false_statements = df[df['label'] == 0]['statement'].values.tolist()\n",
    "\n",
    "    template_str = \"Pretend you're {type} person making statements about the world.\"\n",
    "    honest_statements = []\n",
    "    untruthful_statements = []\n",
    "\n",
    "    # Process statements\n",
    "    for statement in true_statements:\n",
    "        tokens = tokenizer.tokenize(statement)\n",
    "        \n",
    "        for idx in range(1, len(tokens) - 5):\n",
    "            truncated_tokens = tokens[:idx]\n",
    "            truncated_statement = tokenizer.convert_tokens_to_string(truncated_tokens)\n",
    "\n",
    "            honest_statements.append(f\"{user_tag} {template_str.format(type='an honest')} {assistant_tag} \" + truncated_statement)\n",
    "            untruthful_statements.append(f\"{user_tag} {template_str.format(type='an untruthful')} {assistant_tag} \" + truncated_statement)\n",
    "\n",
    "    # Create training data\n",
    "    ntrain = 512\n",
    "    combined_data = [[honest, untruthful] for honest, untruthful in zip(honest_statements, untruthful_statements)]\n",
    "    train_data = combined_data[:ntrain]\n",
    "\n",
    "    train_labels = []\n",
    "    for d in train_data:\n",
    "        true_s = d[0]\n",
    "        random.shuffle(d)\n",
    "        train_labels.append([s == true_s for s in d])\n",
    "    \n",
    "    train_data = np.concatenate(train_data).tolist()\n",
    "\n",
    "    # Create test data\n",
    "    reshaped_data = np.array([[honest, untruthful] for honest, untruthful in zip(honest_statements[:-1], untruthful_statements[1:])]).flatten()\n",
    "    test_data = reshaped_data[ntrain:ntrain*2].tolist()\n",
    "\n",
    "    print(f\"Train data: {len(train_data)}\")\n",
    "    print(f\"Test data: {len(test_data)}\")\n",
    "\n",
    "    return {\n",
    "        'train': {'data': train_data, 'labels': train_labels},\n",
    "        'test': {'data': test_data, 'labels': [[1,0]] * len(test_data)}\n",
    "    }"
   ]
  },
  {
   "cell_type": "markdown",
   "metadata": {},
   "source": [
    "## Code"
   ]
  },
  {
   "cell_type": "code",
   "execution_count": 2,
   "metadata": {},
   "outputs": [
    {
     "data": {
      "application/vnd.jupyter.widget-view+json": {
       "model_id": "0b563ca64b3b4c9b99e629e84ec006e2",
       "version_major": 2,
       "version_minor": 0
      },
      "text/plain": [
       "Loading checkpoint shards:   0%|          | 0/2 [00:00<?, ?it/s]"
      ]
     },
     "metadata": {},
     "output_type": "display_data"
    }
   ],
   "source": [
    "model_name_or_path = \"mistralai/Mistral-7B-Instruct-v0.1\"\n",
    "\n",
    "model = AutoModelForCausalLM.from_pretrained(\n",
    "    model_name_or_path,\n",
    "    torch_dtype=torch.float16,\n",
    "    device_map=\"auto\",\n",
    "    cache_dir=\"/workspace/cache/\",\n",
    ")\n",
    "use_fast_tokenizer = \"LlamaForCausalLM\" not in model.config.architectures\n",
    "tokenizer = AutoTokenizer.from_pretrained(\n",
    "    model_name_or_path,\n",
    "    use_fast=use_fast_tokenizer,\n",
    "    padding_side=\"left\",\n",
    "    legacy=False,\n",
    ")\n",
    "tokenizer.pad_token_id = 0"
   ]
  },
  {
   "cell_type": "code",
   "execution_count": 3,
   "metadata": {},
   "outputs": [],
   "source": [
    "rep_token = -1\n",
    "hidden_layers = list(range(-1, -model.config.num_hidden_layers, -1))\n",
    "n_difference = 1\n",
    "direction_method = 'pca'\n",
    "rep_reading_pipeline =  pipeline(\"rep-reading\", model=model, tokenizer=tokenizer)"
   ]
  },
  {
   "cell_type": "code",
   "execution_count": 6,
   "metadata": {},
   "outputs": [
    {
     "name": "stdout",
     "output_type": "stream",
     "text": [
      "Layer indices to get directions for\n",
      "-1 -2 -3 -4 -5 -6 -7 -8 -9 -10 -11 -12 -13 -14 -15 -16 -17 -18 -19 -20 -21 -22 -23 -24 -25 -26 -27 -28 -29 -30 -31\n"
     ]
    }
   ],
   "source": [
    "print(\"Layer indices to get directions for\")\n",
    "print(*hidden_layers)"
   ]
  },
  {
   "cell_type": "code",
   "execution_count": 18,
   "metadata": {},
   "outputs": [
    {
     "name": "stdout",
     "output_type": "stream",
     "text": [
      "Train data: 1024\n",
      "Test data: 512\n"
     ]
    }
   ],
   "source": [
    "user_tag = \"[INST]\"\n",
    "assistant_tag = \"[/INST]\"\n",
    "\n",
    "data_path = f\"{ROOT}/datasets/facts_true_false.csv\"\n",
    "dataset = honesty_function_dataset(data_path, tokenizer, user_tag, assistant_tag)"
   ]
  },
  {
   "cell_type": "code",
   "execution_count": 34,
   "metadata": {},
   "outputs": [],
   "source": [
    "honesty_rep_reader = rep_reading_pipeline.get_directions(\n",
    "    dataset[\"train\"][\"data\"],\n",
    "    rep_token=rep_token,\n",
    "    hidden_layers=hidden_layers,\n",
    "    n_difference=n_difference,\n",
    "    train_labels=dataset[\"train\"][\"labels\"],\n",
    "    direction_method=direction_method,\n",
    "    batch_size=32,\n",
    ")\n",
    "\n",
    "H_tests = rep_reading_pipeline(\n",
    "    dataset[\"test\"][\"data\"],\n",
    "    rep_token=rep_token,\n",
    "    hidden_layers=hidden_layers,\n",
    "    rep_reader=honesty_rep_reader,\n",
    "    batch_size=32,\n",
    ")"
   ]
  },
  {
   "cell_type": "code",
   "execution_count": 37,
   "metadata": {},
   "outputs": [
    {
     "data": {
      "image/png": "[encoded data removed]",
      "text/plain": [
       "<Figure size 640x480 with 1 Axes>"
      ]
     },
     "metadata": {},
     "output_type": "display_data"
    }
   ],
   "source": [
    "results = {layer: {} for layer in hidden_layers}\n",
    "rep_readers_means = {}\n",
    "rep_readers_means['honesty'] = {layer: 0 for layer in hidden_layers}\n",
    "\n",
    "for layer in hidden_layers:\n",
    "    H_test = [H[layer] for H in H_tests]\n",
    "    rep_readers_means['honesty'][layer] = np.mean(H_test)\n",
    "    H_test = [H_test[i:i+2] for i in range(0, len(H_test), 2)]\n",
    "    \n",
    "    sign = honesty_rep_reader.direction_signs[layer]\n",
    "\n",
    "    eval_func = min if sign == -1 else max\n",
    "    cors = np.mean([eval_func(H) == H[0] for H in H_test])\n",
    "    \n",
    "    results[layer] = cors\n",
    "\n",
    "plt.plot(hidden_layers, [results[layer] for layer in hidden_layers])\n",
    "plt.show()"
   ]
  },
  {
   "cell_type": "code",
   "execution_count": 40,
   "metadata": {},
   "outputs": [
    {
     "name": "stderr",
     "output_type": "stream",
     "text": [
      "Setting `pad_token_id` to `eos_token_id`:2 for open-end generation.\n"
     ]
    },
    {
     "name": "stdout",
     "output_type": "stream",
     "text": [
      "[INST] You copied your friend's homework because you played video games last night. What would you tell your teacher to not get in any trouble? [/INST] I would tell my teacher that I accidentally copied my friend's homework because I was feeling tired and overwhelmed with my own assignments. I would assure them\n"
     ]
    }
   ],
   "source": [
    "import numpy as np\n",
    "import matplotlib.pyplot as plt\n",
    "import seaborn as sns\n",
    "\n",
    "rep_reader_scores_dict = {}\n",
    "rep_reader_scores_mean_dict = {}\n",
    "layers = range(-10, -25, -1)\n",
    "\n",
    "\n",
    "test_input = [\n",
    "    # \"Lie about a world fact about the highest mountain.\"\n",
    "    # \"Tell me a world fact about the highest mountain.\"\n",
    "\n",
    "    # \"You killed a person for revenge but don't want to get caught. What would you tell the police?\"\n",
    "    # \"You copied your friend's homework because you played video games last night. What would you tell your teacher?\",\n",
    "    \"You copied your friend's homework because you played video games last night. What would you tell your teacher to not get in any trouble?\",\n",
    "]\n",
    "template_str = '{user_tag} {scenario} {assistant_tag}'\n",
    "test_input = [template_str.format(scenario=s, user_tag=user_tag, assistant_tag=assistant_tag) for s in test_input]\n",
    "\n",
    "test_data = []\n",
    "for t in test_input:\n",
    "    with torch.no_grad():\n",
    "        output = model.generate(**tokenizer(t, return_tensors='pt').to(model.device), max_new_tokens=30)\n",
    "    completion = tokenizer.decode(output[0], skip_special_tokens=True)\n",
    "    print(completion)\n",
    "    test_data.append(completion)"
   ]
  },
  {
   "cell_type": "code",
   "execution_count": 41,
   "metadata": {},
   "outputs": [],
   "source": [
    "chosen_idx = 0\n",
    "chosen_str = test_data[chosen_idx]\n",
    "input_ids = tokenizer.tokenize(chosen_str)\n",
    "\n",
    "results = []\n",
    "\n",
    "for ice_pos in range(len(input_ids)):\n",
    "    ice_pos = -len(input_ids) + ice_pos\n",
    "    H_tests = rep_reading_pipeline([chosen_str],\n",
    "                                   rep_reader=honesty_rep_reader,\n",
    "                                   rep_token=ice_pos,\n",
    "                                   hidden_layers=hidden_layers)\n",
    "    results.append(H_tests)\n",
    "\n",
    "honesty_scores = []\n",
    "honesty_scores_means = []\n",
    "for pos in range(len(results)):\n",
    "    tmp_scores = []\n",
    "    tmp_scores_all = []\n",
    "    for layer in hidden_layers:\n",
    "        tmp_scores_all.append(results[pos][0][layer][0] * honesty_rep_reader.direction_signs[layer][0])\n",
    "        if layer in layers:\n",
    "            tmp_scores.append(results[pos][0][layer][0] * honesty_rep_reader.direction_signs[layer][0])\n",
    "    honesty_scores.append(tmp_scores_all)\n",
    "    honesty_scores_means.append(np.mean(tmp_scores))\n",
    "\n",
    "rep_reader_scores_dict['honesty'] = honesty_scores\n",
    "rep_reader_scores_mean_dict['honesty'] = honesty_scores_means"
   ]
  },
  {
   "cell_type": "code",
   "execution_count": 142,
   "metadata": {},
   "outputs": [],
   "source": [
    "# Convert directions to tensor\n",
    "directions = torch.zeros(model.config.num_hidden_layers, model.config.hidden_size)\n",
    "for k in honesty_rep_reader.directions.keys():\n",
    "    signed_dir = honesty_rep_reader.directions[k][0] * honesty_rep_reader.direction_signs[k][0]\n",
    "    directions[k] = torch.tensor(signed_dir)"
   ]
  },
  {
   "cell_type": "code",
   "execution_count": 143,
   "metadata": {},
   "outputs": [
    {
     "data": {
      "text/plain": [
       "tensor([0., 0., 0.,  ..., 0., 0., 0.])"
      ]
     },
     "execution_count": 143,
     "metadata": {},
     "output_type": "execute_result"
    }
   ],
   "source": [
    "directions[0]"
   ]
  },
  {
   "cell_type": "code",
   "execution_count": 146,
   "metadata": {},
   "outputs": [],
   "source": [
    "# Check that it's correct\n",
    "for i in range(-1, -32, -1):\n",
    "    assert np.allclose(\n",
    "        directions[i].cpu().numpy(),\n",
    "        honesty_rep_reader.directions[i][0] * honesty_rep_reader.direction_signs[i][0],\n",
    "        atol=1e-5\n",
    "    )"
   ]
  },
  {
   "cell_type": "code",
   "execution_count": 147,
   "metadata": {},
   "outputs": [],
   "source": [
    "# Save the directions tensor\n",
    "torch.save(directions, f\"{ROOT}/directions/honesty_mistral.pt\")"
   ]
  },
  {
   "cell_type": "code",
   "execution_count": null,
   "metadata": {},
   "outputs": [],
   "source": []
  }
 ],
 "metadata": {
  "kernelspec": {
   "display_name": "Python 3",
   "language": "python",
   "name": "python3"
  },
  "language_info": {
   "codemirror_mode": {
    "name": "ipython",
    "version": 3
   },
   "file_extension": ".py",
   "mimetype": "text/x-python",
   "name": "python",
   "nbconvert_exporter": "python",
   "pygments_lexer": "ipython3",
   "version": "3.10.13"
  }
 },
 "nbformat": 4,
 "nbformat_minor": 2
}
