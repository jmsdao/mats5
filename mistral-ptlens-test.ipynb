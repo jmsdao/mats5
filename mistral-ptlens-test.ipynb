{
 "cells": [
  {
   "cell_type": "markdown",
   "metadata": {},
   "source": [
    "## Imports"
   ]
  },
  {
   "cell_type": "code",
   "execution_count": 16,
   "metadata": {},
   "outputs": [],
   "source": [
    "import torch as t\n",
    "from transformers import AutoTokenizer, AutoModelForCausalLM\n",
    "from utils import HookedMistral\n",
    "\n",
    "t.set_grad_enabled(False)\n",
    "device = \"cuda\" if t.cuda.is_available() else \"cpu\""
   ]
  },
  {
   "cell_type": "markdown",
   "metadata": {},
   "source": [
    "## Load model"
   ]
  },
  {
   "cell_type": "code",
   "execution_count": 2,
   "metadata": {},
   "outputs": [
    {
     "data": {
      "application/vnd.jupyter.widget-view+json": {
       "model_id": "5eba3c7fee74439590a2eff631029bd5",
       "version_major": 2,
       "version_minor": 0
      },
      "text/plain": [
       "tokenizer_config.json:   0%|          | 0.00/1.47k [00:00<?, ?B/s]"
      ]
     },
     "metadata": {},
     "output_type": "display_data"
    },
    {
     "data": {
      "application/vnd.jupyter.widget-view+json": {
       "model_id": "563d076326874c13b57b80d98a7a0ad7",
       "version_major": 2,
       "version_minor": 0
      },
      "text/plain": [
       "tokenizer.model:   0%|          | 0.00/493k [00:00<?, ?B/s]"
      ]
     },
     "metadata": {},
     "output_type": "display_data"
    },
    {
     "data": {
      "application/vnd.jupyter.widget-view+json": {
       "model_id": "705d640ad20e4f19ac48e1fc4613f2bb",
       "version_major": 2,
       "version_minor": 0
      },
      "text/plain": [
       "tokenizer.json:   0%|          | 0.00/1.80M [00:00<?, ?B/s]"
      ]
     },
     "metadata": {},
     "output_type": "display_data"
    },
    {
     "data": {
      "application/vnd.jupyter.widget-view+json": {
       "model_id": "30851dc4a3894d71afb81a6c4a870d27",
       "version_major": 2,
       "version_minor": 0
      },
      "text/plain": [
       "special_tokens_map.json:   0%|          | 0.00/72.0 [00:00<?, ?B/s]"
      ]
     },
     "metadata": {},
     "output_type": "display_data"
    },
    {
     "data": {
      "application/vnd.jupyter.widget-view+json": {
       "model_id": "5b75eeb749fc4150aba439bddcc249a2",
       "version_major": 2,
       "version_minor": 0
      },
      "text/plain": [
       "Downloading shards:   0%|          | 0/2 [00:00<?, ?it/s]"
      ]
     },
     "metadata": {},
     "output_type": "display_data"
    },
    {
     "data": {
      "application/vnd.jupyter.widget-view+json": {
       "model_id": "b4490e7d935d4444a00843bf93b2b5b8",
       "version_major": 2,
       "version_minor": 0
      },
      "text/plain": [
       "Loading checkpoint shards:   0%|          | 0/2 [00:00<?, ?it/s]"
      ]
     },
     "metadata": {},
     "output_type": "display_data"
    }
   ],
   "source": [
    "model_name = \"mistralai/Mistral-7B-Instruct-v0.1\"\n",
    "tokenizer = AutoTokenizer.from_pretrained(model_name, padding=True, padding_side=\"left\")\n",
    "tokenizer.pad_token_id = 1\n",
    "hf_model = AutoModelForCausalLM.from_pretrained(\n",
    "    model_name,\n",
    "    torch_dtype=t.float16,\n",
    "    device_map=\"auto\",\n",
    "    cache_dir=\"/workspace/cache/\",\n",
    ")"
   ]
  },
  {
   "cell_type": "code",
   "execution_count": 17,
   "metadata": {},
   "outputs": [
    {
     "name": "stdout",
     "output_type": "stream",
     "text": [
      "model\n",
      "model.embed_tokens\n",
      "model.layers\n",
      "model.layers.{0..31}\n",
      "model.layers.{0..31}.self_attn\n",
      "model.layers.{0..31}.self_attn.q_proj\n",
      "model.layers.{0..31}.self_attn.k_proj\n",
      "model.layers.{0..31}.self_attn.v_proj\n",
      "model.layers.{0..31}.self_attn.o_proj\n",
      "model.layers.{0..31}.self_attn.rotary_emb\n",
      "model.layers.{0..31}.mlp\n",
      "model.layers.{0..31}.mlp.gate_proj\n",
      "model.layers.{0..31}.mlp.up_proj\n",
      "model.layers.{0..31}.mlp.down_proj\n",
      "model.layers.{0..31}.mlp.act_fn\n",
      "model.layers.{0..31}.input_layernorm\n",
      "model.layers.{0..31}.post_attention_layernorm\n",
      "model.norm\n",
      "lm_head\n"
     ]
    }
   ],
   "source": [
    "model = HookedMistral(hf_model, tokenizer)\n",
    "model.print_names()"
   ]
  },
  {
   "cell_type": "markdown",
   "metadata": {},
   "source": [
    "## Run some tests"
   ]
  },
  {
   "cell_type": "code",
   "execution_count": 22,
   "metadata": {},
   "outputs": [
    {
     "name": "stdout",
     "output_type": "stream",
     "text": [
      "torch.Size([1, 7, 32000])\n",
      "dict_keys(['model.layers.28', 'model.layers.29.self_attn', 'model.layers.29.mlp', 'model.layers.29'])\n"
     ]
    },
    {
     "data": {
      "text/plain": [
       "True"
      ]
     },
     "execution_count": 22,
     "metadata": {},
     "output_type": "execute_result"
    }
   ],
   "source": [
    "from utils import HookedMistral\n",
    "model = HookedMistral(hf_model, tokenizer)\n",
    "model.reset_hooks()\n",
    "\n",
    "names = [\n",
    "    \"model.layers.28\",\n",
    "    \"model.layers.29.self_attn\",\n",
    "    \"model.layers.29.mlp\",\n",
    "    \"model.layers.29\",\n",
    "]\n",
    "logits, cache = model.run_with_cache(\"Will the tensors match?\", names)\n",
    "\n",
    "print(logits.shape)\n",
    "print(cache.keys())\n",
    "\n",
    "t.allclose(\n",
    "    cache['model.layers.29'],\n",
    "    cache['model.layers.28'] + cache['model.layers.29.self_attn'] + cache['model.layers.29.mlp'],\n",
    "    atol=1e-5,\n",
    ")"
   ]
  },
  {
   "cell_type": "code",
   "execution_count": 23,
   "metadata": {},
   "outputs": [],
   "source": []
  }
 ],
 "metadata": {
  "kernelspec": {
   "display_name": "Python 3",
   "language": "python",
   "name": "python3"
  },
  "language_info": {
   "codemirror_mode": {
    "name": "ipython",
    "version": 3
   },
   "file_extension": ".py",
   "mimetype": "text/x-python",
   "name": "python",
   "nbconvert_exporter": "python",
   "pygments_lexer": "ipython3",
   "version": "3.10.13"
  }
 },
 "nbformat": 4,
 "nbformat_minor": 2
}
