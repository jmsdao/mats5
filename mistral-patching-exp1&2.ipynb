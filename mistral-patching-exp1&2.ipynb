{
 "cells": [
  {
   "cell_type": "markdown",
   "metadata": {},
   "source": [
    "## Imports"
   ]
  },
  {
   "cell_type": "code",
   "execution_count": 1,
   "metadata": {},
   "outputs": [
    {
     "data": {
      "text/plain": [
       "'cuda'"
      ]
     },
     "execution_count": 1,
     "metadata": {},
     "output_type": "execute_result"
    }
   ],
   "source": [
    "import torch as t\n",
    "import numpy as np\n",
    "import pandas as pd\n",
    "import plotly.express as px\n",
    "import plotly.graph_objects as go\n",
    "import einops\n",
    "import re\n",
    "\n",
    "from tqdm.auto import tqdm\n",
    "from itertools import product\n",
    "from functools import partial\n",
    "from transformers import AutoTokenizer, AutoModelForCausalLM\n",
    "from utils import HookedMistral\n",
    "\n",
    "\n",
    "t.set_grad_enabled(False)\n",
    "dtype = t.float16\n",
    "device = \"cuda\" if t.cuda.is_available() else \"cpu\"\n",
    "device"
   ]
  },
  {
   "cell_type": "code",
   "execution_count": 2,
   "metadata": {},
   "outputs": [
    {
     "data": {
      "application/vnd.jupyter.widget-view+json": {
       "model_id": "e0eedf275fd54bd1bc0244e7eca1513f",
       "version_major": 2,
       "version_minor": 0
      },
      "text/plain": [
       "Loading checkpoint shards:   0%|          | 0/2 [00:00<?, ?it/s]"
      ]
     },
     "metadata": {},
     "output_type": "display_data"
    }
   ],
   "source": [
    "model_name = \"mistralai/Mistral-7B-Instruct-v0.1\"\n",
    "tokenizer = AutoTokenizer.from_pretrained(model_name, padding=True, padding_side=\"left\")\n",
    "tokenizer.pad_token_id = 1\n",
    "hf_model = AutoModelForCausalLM.from_pretrained(\n",
    "    model_name, torch_dtype=dtype, device_map=\"auto\"\n",
    ")\n",
    "model = HookedMistral(hf_model, tokenizer)"
   ]
  },
  {
   "cell_type": "markdown",
   "metadata": {},
   "source": [
    "## Validate Cache"
   ]
  },
  {
   "cell_type": "code",
   "execution_count": 3,
   "metadata": {},
   "outputs": [
    {
     "name": "stdout",
     "output_type": "stream",
     "text": [
      "model\n",
      "model.embed_tokens\n",
      "model.layers\n",
      "model.layers.{0..31}\n",
      "model.layers.{0..31}.self_attn\n",
      "model.layers.{0..31}.self_attn.q_proj\n",
      "model.layers.{0..31}.self_attn.k_proj\n",
      "model.layers.{0..31}.self_attn.v_proj\n",
      "model.layers.{0..31}.self_attn.o_proj\n",
      "model.layers.{0..31}.self_attn.rotary_emb\n",
      "model.layers.{0..31}.mlp\n",
      "model.layers.{0..31}.mlp.gate_proj\n",
      "model.layers.{0..31}.mlp.up_proj\n",
      "model.layers.{0..31}.mlp.down_proj\n",
      "model.layers.{0..31}.mlp.act_fn\n",
      "model.layers.{0..31}.input_layernorm\n",
      "model.layers.{0..31}.post_attention_layernorm\n",
      "model.norm\n",
      "lm_head\n"
     ]
    }
   ],
   "source": [
    "model.print_names()"
   ]
  },
  {
   "cell_type": "code",
   "execution_count": 4,
   "metadata": {},
   "outputs": [
    {
     "name": "stdout",
     "output_type": "stream",
     "text": [
      "torch.Size([1, 7, 32000])\n",
      "dict_keys(['model.layers.28', 'model.layers.29.self_attn', 'model.layers.29.mlp', 'model.layers.29'])\n",
      "Cache looks good to me!\n"
     ]
    }
   ],
   "source": [
    "# Test my pseudo transformer lens\n",
    "names = [\n",
    "    \"model.layers.28\",\n",
    "    \"model.layers.29.self_attn\",\n",
    "    \"model.layers.29.mlp\",\n",
    "    \"model.layers.29\",\n",
    "]\n",
    "logits, cache = model.run_with_cache(\"Will the tensors match?\", names)\n",
    "\n",
    "print(logits.shape)\n",
    "print(cache.keys())\n",
    "\n",
    "assert t.allclose(\n",
    "    cache[\"model.layers.29\"],\n",
    "    cache[\"model.layers.28\"]\n",
    "    + cache[\"model.layers.29.self_attn\"]\n",
    "    + cache[\"model.layers.29.mlp\"],\n",
    "    atol=1e-5,\n",
    ")\n",
    "print(\"Cache looks good to me!\")\n",
    "\n",
    "del logits, cache\n",
    "t.cuda.empty_cache()"
   ]
  },
  {
   "cell_type": "markdown",
   "metadata": {},
   "source": [
    "## Load and prep data"
   ]
  },
  {
   "cell_type": "code",
   "execution_count": 5,
   "metadata": {},
   "outputs": [
    {
     "data": {
      "text/plain": [
       "torch.Size([32, 4096])"
      ]
     },
     "execution_count": 5,
     "metadata": {},
     "output_type": "execute_result"
    }
   ],
   "source": [
    "directions = t.load(\"directions/honesty_mistral.pt\").to(device)\n",
    "directions.shape"
   ]
  },
  {
   "cell_type": "code",
   "execution_count": 6,
   "metadata": {},
   "outputs": [],
   "source": [
    "user_tag = \"[INST]\"\n",
    "assistant_tag = \"[/INST]\"\n",
    "\n",
    "inputs = [\n",
    "    f\"{user_tag} I took credit for my colleague's work during a meeting. Should I admit this to my boss? {assistant_tag}\",\n",
    "    f\"{user_tag} I shoplifted a candy bar from the store. Should I tell my parents? {assistant_tag}\",\n",
    "    f\"{user_tag} I promised to keep a secret, but I ended up telling someone else. What should I do now? {assistant_tag}\",\n",
    "    f\"{user_tag} I found some money on the street. Should I report it to the police station? {assistant_tag}\",\n",
    "    f\"{user_tag} I accidentally broke my neighbor's window with a baseball, but no one saw it. Should I admit it? {assistant_tag}\",\n",
    "    f\"{user_tag} I cheated on my partner. Should I tell them? {assistant_tag}\",\n",
    "    f\"{user_tag} I witnessed someone cheating on an exam. Should I report it to the teacher or keep quiet? {assistant_tag}\",\n",
    "    f\"{user_tag} I borrowed a friend's book and accidentally spilled coffee on it. Should I tell them about it? {assistant_tag}\",\n",
    "    f\"{user_tag} I overheard my co-workers gossiping about our boss. Should I confront them or ignore it? {assistant_tag}\",\n",
    "    f\"{user_tag} I received extra change from the cashier. Should I honestly return it? {assistant_tag}\",\n",
    "    f\"{user_tag} I made a mistake at work that could potentially harm the project. Should I admit it to my team? {assistant_tag}\",\n",
    "    f\"{user_tag} I accidentally damaged a rental car while on vacation. Should I get it fixed? {assistant_tag}\",\n",
    "    f\"{user_tag} I witnessed a hit-and-run accident but didn't get the license plate. Should I still report it to the police? {assistant_tag}\",\n",
    "    f\"{user_tag} I received credit for a group project that I didn't contribute much to. Should I confess to my teammates? {assistant_tag}\",\n",
    "    f\"{user_tag} I discovered my friend spreading false rumors about me. How should I address the situation? {assistant_tag}\",\n",
    "    f\"{user_tag} I made a promise to attend two events at the same time. How should I handle this situation with the organizers? {assistant_tag}\",\n",
    "    f\"{user_tag} I witnessed a colleague taking office supplies without permission. Should I report it to our supervisor or talk to them directly? {assistant_tag}\",\n",
    "    f\"{user_tag} I am making unwanted sexual remarks on a colleague. Would he report it to the HR team? {assistant_tag}\",\n",
    "    f\"{user_tag} Is it true that the capital of France is Paris? {assistant_tag}\",\n",
    "    f\"{user_tag} I am showing examples to prove that my direction works. Should I also show where it doesn't work? {assistant_tag}\",\n",
    "]\n",
    "\n",
    "input_tokens, attention_mask = model.to_tokens(inputs, return_mask=True)"
   ]
  },
  {
   "cell_type": "code",
   "execution_count": 7,
   "metadata": {},
   "outputs": [],
   "source": [
    "# Hook function for dishonesty injection\n",
    "direction15 = -8.25 * directions[15]\n",
    "\n",
    "def direction15_adder(module, input, output):\n",
    "    new_output = [o for o in output]\n",
    "    new_output[0] += direction15\n",
    "    return tuple(new_output)\n",
    "\n",
    "\n",
    "# Resids, attns and MLPs in layer 14 and onwards\n",
    "names = []\n",
    "for layer in range(14, 32):\n",
    "    names.append(f\"model.layers.{layer}\")\n",
    "    names.append(f\"model.layers.{layer}.self_attn\")\n",
    "    names.append(f\"model.layers.{layer}.mlp\")\n",
    "\n",
    "# Get clean logits\n",
    "model.reset_hooks()\n",
    "model.add_hook(\"model.layers.15\", direction15_adder)\n",
    "clean_logits, clean_cache = model.run_with_cache(input_tokens, names)\n",
    "model.reset_hooks()\n",
    "\n",
    "# Get corrupted logits\n",
    "model.reset_hooks()\n",
    "corrupted_logits = model(input_tokens)"
   ]
  },
  {
   "cell_type": "code",
   "execution_count": 8,
   "metadata": {},
   "outputs": [
    {
     "data": {
      "text/plain": [
       "0.1548288"
      ]
     },
     "execution_count": 8,
     "metadata": {},
     "output_type": "execute_result"
    }
   ],
   "source": [
    "# Size of cache in GB\n",
    "params = 0\n",
    "for k in clean_cache.keys():\n",
    "    params += clean_cache[k].numel()\n",
    "params / 1e9"
   ]
  },
  {
   "cell_type": "code",
   "execution_count": 9,
   "metadata": {},
   "outputs": [],
   "source": [
    "# Precompute constants for later KLD recovery metrics\n",
    "orig_klds = t.nn.functional.kl_div(\n",
    "    corrupted_logits[:, -1].log_softmax(dim=-1),\n",
    "    clean_logits[:, -1].log_softmax(dim=-1),\n",
    "    log_target=True,\n",
    "    reduction=\"none\",\n",
    ").sum(dim=-1)  # [batch]\n",
    "\n",
    "# Precompute constants for later prob/logprob/logodd diff recovery metrics\n",
    "correct_tokens = clean_logits[:, -1].argmax(dim=-1)  # [batch]\n",
    "clean_correct_probs = (clean_logits[:, -1].softmax(dim=-1).gather(dim=-1, index=correct_tokens[:, None]).squeeze(-1))  # [batch]\n",
    "clean_correct_logprobs = clean_correct_probs.log()\n",
    "clean_correct_logodds = t.log(clean_correct_probs / (1 - clean_correct_probs))\n",
    "corrupted_correct_probs = (corrupted_logits[:, -1].softmax(dim=-1).gather(dim=-1, index=correct_tokens[:, None]).squeeze(-1))  # [batch]\n",
    "corrupted_correct_logprobs = corrupted_correct_probs.log()\n",
    "corrupted_correct_logodds = t.log(corrupted_correct_probs / (1 - corrupted_correct_probs))"
   ]
  },
  {
   "cell_type": "markdown",
   "metadata": {},
   "source": [
    "## Component Patching\n",
    "\n",
    "Patching definitions and intentions:\n",
    "- Clean run/cache/logits: the model was run with dishonesty injection\n",
    "- Corrupted run/logits: the model was run normally (no hooks/injection)\n",
    "- Clean/corrupted tokens is actually the same\n",
    "- Patched run/logits: the model was run with some subset of activations from the clean run patched into the corrupted run\n",
    "- We want to find a sparse set of activations to patch in such that clean run performance is recovered (aka we recover dishonesty behavior)\n",
    "\n",
    "Metrics to collect per patch run:\n",
    "- KL div between patched logits and clean logits\n",
    "- Top1 prob of the patched run"
   ]
  },
  {
   "cell_type": "code",
   "execution_count": 10,
   "metadata": {},
   "outputs": [],
   "source": [
    "def patch_component(\n",
    "    module,\n",
    "    input,\n",
    "    output,\n",
    "    name=\"unknown\",\n",
    "    pos_to_patch=\"all\",\n",
    "    clean_cache=clean_cache,\n",
    "):\n",
    "    \"\"\"Only works for tenors of shape [batch, pos, d_model]\"\"\"\n",
    "\n",
    "    if pos_to_patch == \"all\":\n",
    "        pos_to_patch = list(range(output[0].shape[1]))\n",
    "\n",
    "    # Do patching for resid or attn \n",
    "    if \"mlp\" not in name:\n",
    "        new_output = [o for o in output]\n",
    "        new_output[0][:, pos_to_patch, :] = clean_cache[name][:, pos_to_patch, :]\n",
    "        return tuple(new_output)\n",
    "    \n",
    "    # Do patching for MLP\n",
    "    else:\n",
    "        output[:, pos_to_patch, :] = clean_cache[name][:, pos_to_patch, :]\n",
    "        return output\n",
    "\n",
    "\n",
    "def get_act_patch_component(\n",
    "    model,\n",
    "    corrupted_tokens,\n",
    "    clean_cache,\n",
    "    clean_logits,\n",
    "    correct_tokens,\n",
    "    name_groups,  # list of tuple[str], where strings are module names\n",
    "    pos_indexer_list,  # list of objects to index a tensor at the pos dimension\n",
    "):\n",
    "    # Setup result stores\n",
    "    patched_klds = []\n",
    "    patched_correct_probs = []\n",
    "    index_df = pd.DataFrame({\n",
    "        \"group\": pd.Series(dtype=\"str\"),\n",
    "        \"pos_indexer\": pd.Series(dtype=\"str\"),\n",
    "    })\n",
    "\n",
    "    for i, (group, pos_indexer) in enumerate(\n",
    "        tqdm(list(product(name_groups, pos_indexer_list)))\n",
    "    ):\n",
    "        # Populate the index df\n",
    "        index_df.loc[i, \"experiment\"] = i\n",
    "        index_df.loc[i, \"group\"] = str(group)\n",
    "        index_df.loc[i, \"pos_indexer\"] = str(pos_indexer)\n",
    "\n",
    "        # Add patching hooks\n",
    "        model.reset_hooks()\n",
    "        for name in group:\n",
    "            hook_fn = partial(\n",
    "                patch_component,\n",
    "                name=name,\n",
    "                pos_to_patch=pos_indexer,\n",
    "                clean_cache=clean_cache,\n",
    "            )\n",
    "            model.add_hook(name, hook_fn)\n",
    "\n",
    "        # Run the model\n",
    "        patched_logits = model(corrupted_tokens)  # [batch, pos, d_vocab]\n",
    "        model.reset_hooks()\n",
    "\n",
    "        # Calculate KL div, for only the final token\n",
    "        kl_div = t.nn.functional.kl_div(\n",
    "            patched_logits[:, -1].log_softmax(dim=-1),\n",
    "            clean_logits[:, -1].log_softmax(dim=-1),\n",
    "            log_target=True,\n",
    "            reduction=\"none\",\n",
    "        ).sum(dim=-1)  # [batch]\n",
    "        patched_klds.append(kl_div)\n",
    "\n",
    "        # Calculate top1 prob, for only the final token\n",
    "        patched_prob = patched_logits[:, -1].softmax(dim=-1).gather(dim=-1, index=correct_tokens[:, None]).squeeze(-1)\n",
    "        patched_correct_probs.append(patched_prob)\n",
    "\n",
    "    # Stack results into tensors\n",
    "    patched_klds = t.stack(patched_klds, dim=0)  # [exp, batch]\n",
    "    patched_correct_probs = t.stack(patched_correct_probs, dim=0)  # [exp, batch]\n",
    "\n",
    "    # Cast index_df to int\n",
    "    index_df[\"experiment\"] = index_df[\"experiment\"].astype(int)\n",
    "    index_df[\"group\"] = index_df[\"group\"].astype(str)\n",
    "    index_df = index_df[[\"experiment\", \"group\", \"pos_indexer\"]]\n",
    "\n",
    "    return (patched_klds, patched_correct_probs, index_df)"
   ]
  },
  {
   "cell_type": "code",
   "execution_count": 11,
   "metadata": {},
   "outputs": [
    {
     "data": {
      "application/vnd.jupyter.widget-view+json": {
       "model_id": "aed81183e96e4940af39efc1fc42f515",
       "version_major": 2,
       "version_minor": 0
      },
      "text/plain": [
       "  0%|          | 0/630 [00:00<?, ?it/s]"
      ]
     },
     "metadata": {},
     "output_type": "display_data"
    },
    {
     "data": {
      "application/vnd.jupyter.widget-view+json": {
       "model_id": "2b47fd5e12ba44cbad3a53948277b060",
       "version_major": 2,
       "version_minor": 0
      },
      "text/plain": [
       "  0%|          | 0/630 [00:00<?, ?it/s]"
      ]
     },
     "metadata": {},
     "output_type": "display_data"
    },
    {
     "data": {
      "application/vnd.jupyter.widget-view+json": {
       "model_id": "aeb0cc07e78f4b72b4de2ca98a9978f8",
       "version_major": 2,
       "version_minor": 0
      },
      "text/plain": [
       "  0%|          | 0/630 [00:00<?, ?it/s]"
      ]
     },
     "metadata": {},
     "output_type": "display_data"
    }
   ],
   "source": [
    "# Setup patch locations\n",
    "layers_to_patch = list(range(14, 32))\n",
    "resid_groups = [(f\"model.layers.{l}\",) for l in layers_to_patch]\n",
    "attn_groups = [(f\"model.layers.{l}.self_attn\",) for l in layers_to_patch]\n",
    "mlp_groups = [(f\"model.layers.{l}.mlp\",) for l in layers_to_patch]\n",
    "pos_to_patch = list(range(input_tokens.shape[1]))\n",
    "\n",
    "# Run the patching experiments\n",
    "patched_klds_flat = []\n",
    "patched_correct_probs_flat = []\n",
    "index_dfs = []\n",
    "for name_groups in [resid_groups, attn_groups, mlp_groups]:\n",
    "    res1, res2, res3 = get_act_patch_component(\n",
    "        model,\n",
    "        input_tokens,\n",
    "        clean_cache,\n",
    "        clean_logits,\n",
    "        correct_tokens,\n",
    "        name_groups,  # list of tuple[str], where strings are module names\n",
    "        pos_to_patch,  # list of objects to index a tensor at the pos dimension\n",
    "    )\n",
    "    patched_klds_flat.append(res1)\n",
    "    patched_correct_probs_flat.append(res2)\n",
    "    index_dfs.append(res3)\n",
    "\n",
    "# Convert results to a tensor\n",
    "patched_klds_flat = t.stack(patched_klds_flat, dim=0)  # [component, exp, batch]\n",
    "patched_correct_probs_flat = t.stack(patched_correct_probs_flat, dim=0)  # [component, exp, batch]"
   ]
  },
  {
   "cell_type": "code",
   "execution_count": 12,
   "metadata": {},
   "outputs": [],
   "source": [
    "# Reshape for plotting\n",
    "patched_klds = einops.rearrange(\n",
    "    patched_klds_flat,\n",
    "    \"component (layer pos) batch -> component layer pos batch\",\n",
    "    layer=len(layers_to_patch),\n",
    ")\n",
    "patched_correct_probs = einops.rearrange(\n",
    "    patched_correct_probs_flat,\n",
    "    \"component (layer pos) batch -> component layer pos batch\",\n",
    "    layer=len(layers_to_patch),\n",
    ")"
   ]
  },
  {
   "cell_type": "code",
   "execution_count": 20,
   "metadata": {},
   "outputs": [],
   "source": [
    "# Compute KLD recovery metric\n",
    "kld_recovery = 1 - (patched_klds / orig_klds)\n",
    "kld1p_recovery = 1 - (t.log(1 + patched_klds) / t.log(1 + orig_klds))\n",
    "\n",
    "# Compute logprobs and logodds recovery metrics\n",
    "patched_correct_logprobs = patched_correct_probs.log()\n",
    "patched_correct_logodds = t.log(patched_correct_probs / (1 - patched_correct_probs))\n",
    "logprob_diff_recovery = (\n",
    "    (patched_correct_logprobs - corrupted_correct_logprobs)\n",
    "      / (clean_correct_logprobs - corrupted_correct_logprobs)\n",
    ")\n",
    "logodds_diff_recovery = (\n",
    "    (patched_correct_logodds - corrupted_correct_logodds)\n",
    "      / (clean_correct_logodds - corrupted_correct_logodds)\n",
    ")\n",
    "\n",
    "# Move all recovery metrics to CPU\n",
    "kld_recovery = kld_recovery.cpu().numpy()\n",
    "kld1p_recovery = kld1p_recovery.cpu().numpy()\n",
    "logprob_diff_recovery = logprob_diff_recovery.cpu().numpy()\n",
    "logodds_diff_recovery = logodds_diff_recovery.cpu().numpy()"
   ]
  },
  {
   "cell_type": "code",
   "execution_count": 89,
   "metadata": {},
   "outputs": [],
   "source": [
    "def plot_act_patch_component(recovery, layer_labels, patched_pos, mean=False, metric_name=\"Metric\"):\n",
    "    animation_frame = 3\n",
    "    if mean:\n",
    "        recovery = recovery.copy().mean(axis=-1)\n",
    "        animation_frame = None\n",
    "\n",
    "    fig = px.imshow(\n",
    "        recovery,\n",
    "        facet_col=0,\n",
    "        animation_frame=animation_frame,\n",
    "        color_continuous_scale=\"RdBu\",\n",
    "        zmin=-1,\n",
    "        zmax=1,\n",
    "        origin=\"lower\",\n",
    "        title=\"Activation Patching Block Every\" + \" (Batchmean)\" * mean,\n",
    "        labels=dict(x='Token', y='Layer', color=metric_name),\n",
    "        height=600,\n",
    "        width=1400,\n",
    "    )\n",
    "\n",
    "    # Update facet titles\n",
    "    fig.layout.annotations[0].text = \"resid_post\"\n",
    "    fig.layout.annotations[1].text = \"attn_out\"\n",
    "    fig.layout.annotations[2].text = \"mlp_out\"\n",
    "\n",
    "    # Remove x-axis titles\n",
    "    fig.layout.xaxis.title = \"\"\n",
    "    fig.layout.xaxis2.title = \"\"\n",
    "    fig.layout.xaxis3.title = \"\"\n",
    "\n",
    "    # Update y-axis tickvalues\n",
    "    fig.layout.yaxis.tickmode = \"array\"\n",
    "    fig.layout.yaxis.tickvals = list(range(len(layers_to_patch)))\n",
    "    fig.layout.yaxis.ticktext = layers_to_patch\n",
    "\n",
    "\n",
    "    if not mean:\n",
    "        fig.layout[\"sliders\"][0][\"currentvalue\"][\"prefix\"] = \"batch=\"\n",
    "\n",
    "        tokenized_string = model.to_string_tokenized(input_tokens[0])\n",
    "        xaxis_dict = dict(\n",
    "            tickmode='array',\n",
    "            tickvals=list(range(input_tokens.shape[1])),\n",
    "            ticktext=[tokenized_string[p] for p in pos_to_patch],\n",
    "            tickangle=-90,\n",
    "        )\n",
    "        fig.update_layout(\n",
    "            xaxis=xaxis_dict,\n",
    "            xaxis2=xaxis_dict,\n",
    "            xaxis3=xaxis_dict,\n",
    "        )\n",
    "\n",
    "        # Update layout for all frames\n",
    "        for i, frame in enumerate(fig.frames):\n",
    "            tokenized_string = model.to_string_tokenized(input_tokens[i])\n",
    "            xaxis_dict = dict(\n",
    "                tickmode='array',\n",
    "                tickvals=list(range(input_tokens.shape[1])),\n",
    "                ticktext=[tokenized_string[p] for p in pos_to_patch],\n",
    "                tickangle=-90,\n",
    "            )\n",
    "            frame.layout.update(\n",
    "                xaxis=xaxis_dict,\n",
    "                xaxis2=xaxis_dict,\n",
    "                xaxis3=xaxis_dict,\n",
    "            )\n",
    "\n",
    "    return fig"
   ]
  },
  {
   "cell_type": "code",
   "execution_count": 32,
   "metadata": {},
   "outputs": [],
   "source": [
    "fig = plot_act_patch_component(kld_recovery, layers_to_patch, pos_to_patch, mean=False, metric_name=\"KL Div Recovery\")\n",
    "fig.write_html(\"figs/patch-exp1-block-every-kld.html\")\n",
    "# fig.show()\n",
    "fig = plot_act_patch_component(kld_recovery, layers_to_patch, pos_to_patch, mean=True, metric_name=\"KL Div Recovery\")\n",
    "fig.write_html(\"figs/patch-exp1-block-every-kld-batchmean.html\")"
   ]
  },
  {
   "cell_type": "code",
   "execution_count": 35,
   "metadata": {},
   "outputs": [],
   "source": [
    "fig = plot_act_patch_component(logprob_diff_recovery, layers_to_patch, pos_to_patch, mean=False, metric_name=\"Logprob Diff Recovery\")\n",
    "fig.write_html(\"figs/patch-exp1-block-every-logprob-diff.html\")\n",
    "# fig.show()\n",
    "fig = plot_act_patch_component(logprob_diff_recovery, layers_to_patch, pos_to_patch, mean=True, metric_name=\"Logprob Diff Recovery\")\n",
    "fig.write_html(\"figs/patch-exp1-block-every-logprob-diff-batchmean.html\")"
   ]
  },
  {
   "cell_type": "markdown",
   "metadata": {},
   "source": [
    "## Patching All Pos"
   ]
  },
  {
   "cell_type": "code",
   "execution_count": 39,
   "metadata": {},
   "outputs": [
    {
     "data": {
      "application/vnd.jupyter.widget-view+json": {
       "model_id": "0516fca6ab56439da82ee1607540ab4e",
       "version_major": 2,
       "version_minor": 0
      },
      "text/plain": [
       "  0%|          | 0/18 [00:00<?, ?it/s]"
      ]
     },
     "metadata": {},
     "output_type": "display_data"
    },
    {
     "data": {
      "application/vnd.jupyter.widget-view+json": {
       "model_id": "2d2e504d8d7b41eeb4f29d7687124a8d",
       "version_major": 2,
       "version_minor": 0
      },
      "text/plain": [
       "  0%|          | 0/18 [00:00<?, ?it/s]"
      ]
     },
     "metadata": {},
     "output_type": "display_data"
    },
    {
     "data": {
      "application/vnd.jupyter.widget-view+json": {
       "model_id": "b2c7c74510e14122b173415a8822c166",
       "version_major": 2,
       "version_minor": 0
      },
      "text/plain": [
       "  0%|          | 0/18 [00:00<?, ?it/s]"
      ]
     },
     "metadata": {},
     "output_type": "display_data"
    }
   ],
   "source": [
    "layers_to_patch = list(range(14, 32))\n",
    "resid_groups = [(f\"model.layers.{l}\",) for l in layers_to_patch]\n",
    "attn_groups = [(f\"model.layers.{l}.self_attn\",) for l in layers_to_patch]\n",
    "mlp_groups = [(f\"model.layers.{l}.mlp\",) for l in layers_to_patch]\n",
    "pos_to_patch = [list(range(input_tokens.shape[1]))]\n",
    "\n",
    "patched_klds = []\n",
    "patched_correct_probs = []\n",
    "index_dfs = []\n",
    "for name_groups in [resid_groups, attn_groups, mlp_groups]:\n",
    "    res1, res2, res3 = get_act_patch_component(\n",
    "        model,\n",
    "        input_tokens,\n",
    "        clean_cache,\n",
    "        clean_logits,\n",
    "        correct_tokens,\n",
    "        name_groups,  # list of tuple[str], where strings are module names\n",
    "        pos_to_patch,  # list of objects to index a tensor at the pos dimension\n",
    "    )\n",
    "    patched_klds.append(res1)\n",
    "    patched_correct_probs.append(res2)\n",
    "    index_dfs.append(res3)\n",
    "\n",
    "patched_klds = t.stack(patched_klds, dim=0)  # [component, layer, batch]\n",
    "patched_correct_probs = t.stack(patched_correct_probs, dim=0)  # [component, layer, batch]"
   ]
  },
  {
   "cell_type": "code",
   "execution_count": 40,
   "metadata": {},
   "outputs": [],
   "source": [
    "# Compute KLD recovery metric\n",
    "kld_recovery = 1 - (patched_klds / orig_klds)\n",
    "kld1p_recovery = 1 - (t.log(1 + patched_klds) / t.log(1 + orig_klds))\n",
    "\n",
    "# Compute logprobs and logodds recovery metrics\n",
    "patched_correct_logprobs = patched_correct_probs.log()\n",
    "patched_correct_logodds = t.log(patched_correct_probs / (1 - patched_correct_probs))\n",
    "logprob_diff_recovery = (\n",
    "    (patched_correct_logprobs - corrupted_correct_logprobs)\n",
    "      / (clean_correct_logprobs - corrupted_correct_logprobs)\n",
    ")\n",
    "logodds_diff_recovery = (\n",
    "    (patched_correct_logodds - corrupted_correct_logodds)\n",
    "      / (clean_correct_logodds - corrupted_correct_logodds)\n",
    ")\n",
    "\n",
    "# Move all recovery metrics to CPU\n",
    "kld_recovery = kld_recovery.cpu()\n",
    "kld1p_recovery = kld1p_recovery.cpu()\n",
    "logprob_diff_recovery = logprob_diff_recovery.cpu()\n",
    "logodds_diff_recovery = logodds_diff_recovery.cpu()"
   ]
  },
  {
   "cell_type": "code",
   "execution_count": 73,
   "metadata": {},
   "outputs": [],
   "source": [
    "def plot_act_patch_component_all_pos(recovery, layer_labels, metric_name=\"Metric\", title=\"\"):\n",
    "    fig = px.line(\n",
    "        recovery,  # [layer, batch]\n",
    "        title=title,\n",
    "        height=600,\n",
    "        width=1500,\n",
    "        labels=dict(index='Layer', value=metric_name, variable=\"batch\"),\n",
    "    )\n",
    "\n",
    "    # Add horizontal line at 0\n",
    "    fig.add_hline(y=0, line_dash=\"dot\", line_color=\"black\")\n",
    "\n",
    "    # Relabel xticks\n",
    "    fig.layout.xaxis.tickmode = \"array\"\n",
    "    fig.layout.xaxis.tickvals = list(range(len(layer_labels)))\n",
    "    fig.layout.xaxis.ticktext = layer_labels\n",
    "\n",
    "    return fig"
   ]
  },
  {
   "cell_type": "code",
   "execution_count": 74,
   "metadata": {},
   "outputs": [
    {
     "data": {
      "application/vnd.plotly.v1+json": {
       "config": {
        "plotlyServerURL": "https://plot.ly"
       },
       "data": [
        {
         "hovertemplate": "batch=0<br>Layer=%{x}<br>KL Div Recovery=%{y}<extra></extra>",
         "legendgroup": "0",
         "line": {
          "color": "#636efa",
          "dash": "solid"
         },
         "marker": {
          "symbol": "circle"
         },
         "mode": "lines",
         "name": "0",
         "orientation": "v",
         "showlegend": true,
         "type": "scatter",
         "x": [
          0,
          1,
          2,
          3,
          4,
          5,
          6,
          7,
          8,
          9,
          10,
          11,
          12,
          13,
          14,
          15,
          16,
          17
         ],
         "xaxis": "x",
         "y": [
          0,
          0,
          0.04786813259124756,
          0.054199159145355225,
          0.07128351926803589,
          0.19910979270935059,
          0.08553838729858398,
          0.019097208976745605,
          0.05730170011520386,
          -0.018680691719055176,
          0.0025079846382141113,
          0.010969161987304688,
          0.08481889963150024,
          0.02818608283996582,
          0.06561928987503052,
          0.05526900291442871,
          0.02476447820663452,
          0.1142314076423645
         ],
         "yaxis": "y"
        },
        {
         "hovertemplate": "batch=1<br>Layer=%{x}<br>KL Div Recovery=%{y}<extra></extra>",
         "legendgroup": "1",
         "line": {
          "color": "#EF553B",
          "dash": "solid"
         },
         "marker": {
          "symbol": "circle"
         },
         "mode": "lines",
         "name": "1",
         "orientation": "v",
         "showlegend": true,
         "type": "scatter",
         "x": [
          0,
          1,
          2,
          3,
          4,
          5,
          6,
          7,
          8,
          9,
          10,
          11,
          12,
          13,
          14,
          15,
          16,
          17
         ],
         "xaxis": "x",
         "y": [
          0,
          0,
          0.2834840416908264,
          -0.022633671760559082,
          0.09496372938156128,
          0.14485102891921997,
          0.05752968788146973,
          0.010652542114257812,
          0.00906604528427124,
          0.014412760734558105,
          0.0022864937782287598,
          0.03723037242889404,
          0.11347544193267822,
          0.03285878896713257,
          0.09338462352752686,
          0.025337278842926025,
          -0.03040468692779541,
          0.11793208122253418
         ],
         "yaxis": "y"
        },
        {
         "hovertemplate": "batch=2<br>Layer=%{x}<br>KL Div Recovery=%{y}<extra></extra>",
         "legendgroup": "2",
         "line": {
          "color": "#00cc96",
          "dash": "solid"
         },
         "marker": {
          "symbol": "circle"
         },
         "mode": "lines",
         "name": "2",
         "orientation": "v",
         "showlegend": true,
         "type": "scatter",
         "x": [
          0,
          1,
          2,
          3,
          4,
          5,
          6,
          7,
          8,
          9,
          10,
          11,
          12,
          13,
          14,
          15,
          16,
          17
         ],
         "xaxis": "x",
         "y": [
          0,
          0,
          0.24449455738067627,
          0.08679580688476562,
          0.09904718399047852,
          0.02510124444961548,
          0.001571953296661377,
          0.050214409828186035,
          -0.0013539791107177734,
          0.025696098804473877,
          0.01643770933151245,
          0.04467880725860596,
          0.06437861919403076,
          0.029144108295440674,
          0.1436018943786621,
          0.009765863418579102,
          -0.008341789245605469,
          0.18664628267288208
         ],
         "yaxis": "y"
        },
        {
         "hovertemplate": "batch=3<br>Layer=%{x}<br>KL Div Recovery=%{y}<extra></extra>",
         "legendgroup": "3",
         "line": {
          "color": "#ab63fa",
          "dash": "solid"
         },
         "marker": {
          "symbol": "circle"
         },
         "mode": "lines",
         "name": "3",
         "orientation": "v",
         "showlegend": true,
         "type": "scatter",
         "x": [
          0,
          1,
          2,
          3,
          4,
          5,
          6,
          7,
          8,
          9,
          10,
          11,
          12,
          13,
          14,
          15,
          16,
          17
         ],
         "xaxis": "x",
         "y": [
          0,
          0,
          0.4001641869544983,
          0.02757394313812256,
          0.10218805074691772,
          0.13351863622665405,
          0.02592998743057251,
          0.007521092891693115,
          0.022167503833770752,
          -0.0066558122634887695,
          0.016088664531707764,
          0.023494839668273926,
          0.095481276512146,
          0.02101796865463257,
          0.03862982988357544,
          0.03073781728744507,
          0.05486655235290527,
          0.06682360172271729
         ],
         "yaxis": "y"
        },
        {
         "hovertemplate": "batch=4<br>Layer=%{x}<br>KL Div Recovery=%{y}<extra></extra>",
         "legendgroup": "4",
         "line": {
          "color": "#FFA15A",
          "dash": "solid"
         },
         "marker": {
          "symbol": "circle"
         },
         "mode": "lines",
         "name": "4",
         "orientation": "v",
         "showlegend": true,
         "type": "scatter",
         "x": [
          0,
          1,
          2,
          3,
          4,
          5,
          6,
          7,
          8,
          9,
          10,
          11,
          12,
          13,
          14,
          15,
          16,
          17
         ],
         "xaxis": "x",
         "y": [
          0,
          0,
          0.16576015949249268,
          0.035232722759246826,
          0.13830238580703735,
          0.1300356388092041,
          -0.0059365034103393555,
          -0.02676212787628174,
          0.025613784790039062,
          0.019984185695648193,
          0.011602699756622314,
          0.05900615453720093,
          0.0517420768737793,
          0.07714909315109253,
          -0.030968785285949707,
          -0.011270999908447266,
          -0.10491430759429932,
          0.188118577003479
         ],
         "yaxis": "y"
        },
        {
         "hovertemplate": "batch=5<br>Layer=%{x}<br>KL Div Recovery=%{y}<extra></extra>",
         "legendgroup": "5",
         "line": {
          "color": "#19d3f3",
          "dash": "solid"
         },
         "marker": {
          "symbol": "circle"
         },
         "mode": "lines",
         "name": "5",
         "orientation": "v",
         "showlegend": true,
         "type": "scatter",
         "x": [
          0,
          1,
          2,
          3,
          4,
          5,
          6,
          7,
          8,
          9,
          10,
          11,
          12,
          13,
          14,
          15,
          16,
          17
         ],
         "xaxis": "x",
         "y": [
          0,
          0,
          0.390555739402771,
          0.045292556285858154,
          0.1790602207183838,
          0.09764730930328369,
          0.07675272226333618,
          -0.0002614259719848633,
          -0.0005592107772827148,
          0.004500329494476318,
          0.006460130214691162,
          0.04952734708786011,
          0.07298892736434937,
          0.019274473190307617,
          0.09626215696334839,
          0.041060686111450195,
          0.008805274963378906,
          0.07127702236175537
         ],
         "yaxis": "y"
        },
        {
         "hovertemplate": "batch=6<br>Layer=%{x}<br>KL Div Recovery=%{y}<extra></extra>",
         "legendgroup": "6",
         "line": {
          "color": "#FF6692",
          "dash": "solid"
         },
         "marker": {
          "symbol": "circle"
         },
         "mode": "lines",
         "name": "6",
         "orientation": "v",
         "showlegend": true,
         "type": "scatter",
         "x": [
          0,
          1,
          2,
          3,
          4,
          5,
          6,
          7,
          8,
          9,
          10,
          11,
          12,
          13,
          14,
          15,
          16,
          17
         ],
         "xaxis": "x",
         "y": [
          0,
          0,
          0.17629671096801758,
          0.047709763050079346,
          0.11036127805709839,
          0.0951496958732605,
          0.024250566959381104,
          0.040029942989349365,
          0.01740962266921997,
          0.020627200603485107,
          0.016757309436798096,
          0.048366546630859375,
          0.10220956802368164,
          0.024607956409454346,
          0.06615501642227173,
          0.0422821044921875,
          0.020694255828857422,
          0.10580646991729736
         ],
         "yaxis": "y"
        },
        {
         "hovertemplate": "batch=7<br>Layer=%{x}<br>KL Div Recovery=%{y}<extra></extra>",
         "legendgroup": "7",
         "line": {
          "color": "#B6E880",
          "dash": "solid"
         },
         "marker": {
          "symbol": "circle"
         },
         "mode": "lines",
         "name": "7",
         "orientation": "v",
         "showlegend": true,
         "type": "scatter",
         "x": [
          0,
          1,
          2,
          3,
          4,
          5,
          6,
          7,
          8,
          9,
          10,
          11,
          12,
          13,
          14,
          15,
          16,
          17
         ],
         "xaxis": "x",
         "y": [
          0,
          0,
          0.37853676080703735,
          0.049284279346466064,
          0.08111065626144409,
          0.14289778470993042,
          -0.021600842475891113,
          -0.0020194053649902344,
          0.04128807783126831,
          0.0005956888198852539,
          0.019092559814453125,
          0.05145233869552612,
          0.05432486534118652,
          0.05355876684188843,
          0.07753181457519531,
          -0.02880251407623291,
          -0.009886741638183594,
          0.19067096710205078
         ],
         "yaxis": "y"
        },
        {
         "hovertemplate": "batch=8<br>Layer=%{x}<br>KL Div Recovery=%{y}<extra></extra>",
         "legendgroup": "8",
         "line": {
          "color": "#FF97FF",
          "dash": "solid"
         },
         "marker": {
          "symbol": "circle"
         },
         "mode": "lines",
         "name": "8",
         "orientation": "v",
         "showlegend": true,
         "type": "scatter",
         "x": [
          0,
          1,
          2,
          3,
          4,
          5,
          6,
          7,
          8,
          9,
          10,
          11,
          12,
          13,
          14,
          15,
          16,
          17
         ],
         "xaxis": "x",
         "y": [
          0,
          0,
          0.3212977647781372,
          0.045082807540893555,
          0.0542946457862854,
          0.1531146764755249,
          0.021392822265625,
          0.04428988695144653,
          0.035721659660339355,
          0.010622918605804443,
          -0.0003744363784790039,
          0.03862416744232178,
          0.07697862386703491,
          0.06314736604690552,
          0.13263481855392456,
          0.02659815549850464,
          0.040237486362457275,
          0.2865391969680786
         ],
         "yaxis": "y"
        },
        {
         "hovertemplate": "batch=9<br>Layer=%{x}<br>KL Div Recovery=%{y}<extra></extra>",
         "legendgroup": "9",
         "line": {
          "color": "#FECB52",
          "dash": "solid"
         },
         "marker": {
          "symbol": "circle"
         },
         "mode": "lines",
         "name": "9",
         "orientation": "v",
         "showlegend": true,
         "type": "scatter",
         "x": [
          0,
          1,
          2,
          3,
          4,
          5,
          6,
          7,
          8,
          9,
          10,
          11,
          12,
          13,
          14,
          15,
          16,
          17
         ],
         "xaxis": "x",
         "y": [
          0,
          0,
          0.30966633558273315,
          0.062218308448791504,
          0.08267450332641602,
          0.10376644134521484,
          0.04778176546096802,
          -0.0006663799285888672,
          0.015695631504058838,
          0.010164082050323486,
          -0.005730867385864258,
          0.02949512004852295,
          0.09828877449035645,
          0.018862128257751465,
          0.08887588977813721,
          0.0238112211227417,
          0.0366939902305603,
          0.0911792516708374
         ],
         "yaxis": "y"
        },
        {
         "hovertemplate": "batch=10<br>Layer=%{x}<br>KL Div Recovery=%{y}<extra></extra>",
         "legendgroup": "10",
         "line": {
          "color": "#636efa",
          "dash": "solid"
         },
         "marker": {
          "symbol": "circle"
         },
         "mode": "lines",
         "name": "10",
         "orientation": "v",
         "showlegend": true,
         "type": "scatter",
         "x": [
          0,
          1,
          2,
          3,
          4,
          5,
          6,
          7,
          8,
          9,
          10,
          11,
          12,
          13,
          14,
          15,
          16,
          17
         ],
         "xaxis": "x",
         "y": [
          0,
          0,
          0.3464730978012085,
          0.03630721569061279,
          0.04380291700363159,
          0.08600026369094849,
          -0.0033298730850219727,
          -0.0061223506927490234,
          0.020873546600341797,
          -0.014557957649230957,
          0.021443605422973633,
          0.03984236717224121,
          0.07649886608123779,
          0.029182493686676025,
          0.0723990797996521,
          0.024052798748016357,
          0.06702172756195068,
          0.1468687653541565
         ],
         "yaxis": "y"
        },
        {
         "hovertemplate": "batch=11<br>Layer=%{x}<br>KL Div Recovery=%{y}<extra></extra>",
         "legendgroup": "11",
         "line": {
          "color": "#EF553B",
          "dash": "solid"
         },
         "marker": {
          "symbol": "circle"
         },
         "mode": "lines",
         "name": "11",
         "orientation": "v",
         "showlegend": true,
         "type": "scatter",
         "x": [
          0,
          1,
          2,
          3,
          4,
          5,
          6,
          7,
          8,
          9,
          10,
          11,
          12,
          13,
          14,
          15,
          16,
          17
         ],
         "xaxis": "x",
         "y": [
          0,
          0,
          0.3690239191055298,
          0.016943633556365967,
          0.01551288366317749,
          -0.0031632184982299805,
          0.0235825777053833,
          0.003941237926483154,
          0.01732039451599121,
          -0.01585972309112549,
          -0.0037736892700195312,
          0.021578609943389893,
          0.058883607387542725,
          0.016163408756256104,
          0.05460935831069946,
          0.020048856735229492,
          0.05343329906463623,
          0.11133581399917603
         ],
         "yaxis": "y"
        },
        {
         "hovertemplate": "batch=12<br>Layer=%{x}<br>KL Div Recovery=%{y}<extra></extra>",
         "legendgroup": "12",
         "line": {
          "color": "#00cc96",
          "dash": "solid"
         },
         "marker": {
          "symbol": "circle"
         },
         "mode": "lines",
         "name": "12",
         "orientation": "v",
         "showlegend": true,
         "type": "scatter",
         "x": [
          0,
          1,
          2,
          3,
          4,
          5,
          6,
          7,
          8,
          9,
          10,
          11,
          12,
          13,
          14,
          15,
          16,
          17
         ],
         "xaxis": "x",
         "y": [
          0,
          0,
          0.3388405442237854,
          0.003981292247772217,
          0.05296885967254639,
          0.04035055637359619,
          -0.013268828392028809,
          0.007720947265625,
          0.051265716552734375,
          0.011021912097930908,
          0.03640294075012207,
          0.055087387561798096,
          0.05819803476333618,
          0.04554271697998047,
          0.03843945264816284,
          0.00942683219909668,
          0.034681737422943115,
          0.2214478850364685
         ],
         "yaxis": "y"
        },
        {
         "hovertemplate": "batch=13<br>Layer=%{x}<br>KL Div Recovery=%{y}<extra></extra>",
         "legendgroup": "13",
         "line": {
          "color": "#ab63fa",
          "dash": "solid"
         },
         "marker": {
          "symbol": "circle"
         },
         "mode": "lines",
         "name": "13",
         "orientation": "v",
         "showlegend": true,
         "type": "scatter",
         "x": [
          0,
          1,
          2,
          3,
          4,
          5,
          6,
          7,
          8,
          9,
          10,
          11,
          12,
          13,
          14,
          15,
          16,
          17
         ],
         "xaxis": "x",
         "y": [
          0,
          0,
          0.35035765171051025,
          0.12938690185546875,
          0.13224691152572632,
          0.17249560356140137,
          0.04628705978393555,
          -0.009122014045715332,
          0.026351571083068848,
          0.005429506301879883,
          -0.0041571855545043945,
          0.06225931644439697,
          0.09240293502807617,
          0.07222938537597656,
          0.08629173040390015,
          0.05329245328903198,
          0.0679941177368164,
          0.15604829788208008
         ],
         "yaxis": "y"
        },
        {
         "hovertemplate": "batch=14<br>Layer=%{x}<br>KL Div Recovery=%{y}<extra></extra>",
         "legendgroup": "14",
         "line": {
          "color": "#FFA15A",
          "dash": "solid"
         },
         "marker": {
          "symbol": "circle"
         },
         "mode": "lines",
         "name": "14",
         "orientation": "v",
         "showlegend": true,
         "type": "scatter",
         "x": [
          0,
          1,
          2,
          3,
          4,
          5,
          6,
          7,
          8,
          9,
          10,
          11,
          12,
          13,
          14,
          15,
          16,
          17
         ],
         "xaxis": "x",
         "y": [
          0,
          0,
          0.11874526739120483,
          0.011896371841430664,
          0.09223556518554688,
          0.07687300443649292,
          0.010522067546844482,
          0.015755057334899902,
          -0.017756938934326172,
          0.025441527366638184,
          0.0011756420135498047,
          0.054760873317718506,
          0.09340471029281616,
          0.007383823394775391,
          0.08029550313949585,
          0.004725754261016846,
          0.0037096738815307617,
          0.07731610536575317
         ],
         "yaxis": "y"
        },
        {
         "hovertemplate": "batch=15<br>Layer=%{x}<br>KL Div Recovery=%{y}<extra></extra>",
         "legendgroup": "15",
         "line": {
          "color": "#19d3f3",
          "dash": "solid"
         },
         "marker": {
          "symbol": "circle"
         },
         "mode": "lines",
         "name": "15",
         "orientation": "v",
         "showlegend": true,
         "type": "scatter",
         "x": [
          0,
          1,
          2,
          3,
          4,
          5,
          6,
          7,
          8,
          9,
          10,
          11,
          12,
          13,
          14,
          15,
          16,
          17
         ],
         "xaxis": "x",
         "y": [
          0,
          0,
          0.00032973289489746094,
          -0.00002384185791015625,
          0.20326370000839233,
          0.09215772151947021,
          -0.026955246925354004,
          0.11696559190750122,
          0.03422999382019043,
          0.05866724252700806,
          -0.0028454065322875977,
          0.001466989517211914,
          0.04416626691818237,
          0.029069900512695312,
          0.16712307929992676,
          -0.0010869503021240234,
          -0.03822958469390869,
          0.07085913419723511
         ],
         "yaxis": "y"
        },
        {
         "hovertemplate": "batch=16<br>Layer=%{x}<br>KL Div Recovery=%{y}<extra></extra>",
         "legendgroup": "16",
         "line": {
          "color": "#FF6692",
          "dash": "solid"
         },
         "marker": {
          "symbol": "circle"
         },
         "mode": "lines",
         "name": "16",
         "orientation": "v",
         "showlegend": true,
         "type": "scatter",
         "x": [
          0,
          1,
          2,
          3,
          4,
          5,
          6,
          7,
          8,
          9,
          10,
          11,
          12,
          13,
          14,
          15,
          16,
          17
         ],
         "xaxis": "x",
         "y": [
          0,
          0,
          0.21990811824798584,
          0.10839623212814331,
          0.0667341947555542,
          0.15560758113861084,
          -0.01942157745361328,
          -0.007365584373474121,
          0.055285751819610596,
          -0.00867617130279541,
          -0.008942246437072754,
          -0.0040405988693237305,
          0.13155490159988403,
          0.024578511714935303,
          0.02109318971633911,
          0.04570186138153076,
          0.026496589183807373,
          0.10824328660964966
         ],
         "yaxis": "y"
        },
        {
         "hovertemplate": "batch=17<br>Layer=%{x}<br>KL Div Recovery=%{y}<extra></extra>",
         "legendgroup": "17",
         "line": {
          "color": "#B6E880",
          "dash": "solid"
         },
         "marker": {
          "symbol": "circle"
         },
         "mode": "lines",
         "name": "17",
         "orientation": "v",
         "showlegend": true,
         "type": "scatter",
         "x": [
          0,
          1,
          2,
          3,
          4,
          5,
          6,
          7,
          8,
          9,
          10,
          11,
          12,
          13,
          14,
          15,
          16,
          17
         ],
         "xaxis": "x",
         "y": [
          0,
          0,
          0.3028412461280823,
          0.041506171226501465,
          0.07733523845672607,
          0.04741716384887695,
          0.054968833923339844,
          -0.001433730125427246,
          0.002793550491333008,
          0.04120367765426636,
          0.005492210388183594,
          0.020467936992645264,
          0.0582808256149292,
          0.01449882984161377,
          0.08190786838531494,
          0.03278958797454834,
          0.030086100101470947,
          0.12412351369857788
         ],
         "yaxis": "y"
        },
        {
         "hovertemplate": "batch=18<br>Layer=%{x}<br>KL Div Recovery=%{y}<extra></extra>",
         "legendgroup": "18",
         "line": {
          "color": "#FF97FF",
          "dash": "solid"
         },
         "marker": {
          "symbol": "circle"
         },
         "mode": "lines",
         "name": "18",
         "orientation": "v",
         "showlegend": true,
         "type": "scatter",
         "x": [
          0,
          1,
          2,
          3,
          4,
          5,
          6,
          7,
          8,
          9,
          10,
          11,
          12,
          13,
          14,
          15,
          16,
          17
         ],
         "xaxis": "x",
         "y": [
          0,
          0,
          0.39028048515319824,
          0.011162281036376953,
          0.13704359531402588,
          0.03862285614013672,
          0.04404711723327637,
          -0.0052225589752197266,
          0.009345471858978271,
          0.012702107429504395,
          0.005836129188537598,
          0.0011929869651794434,
          0.04154646396636963,
          0.022227704524993896,
          0.09278959035873413,
          0.04718470573425293,
          0.04236555099487305,
          0.17715984582901
         ],
         "yaxis": "y"
        },
        {
         "hovertemplate": "batch=19<br>Layer=%{x}<br>KL Div Recovery=%{y}<extra></extra>",
         "legendgroup": "19",
         "line": {
          "color": "#FECB52",
          "dash": "solid"
         },
         "marker": {
          "symbol": "circle"
         },
         "mode": "lines",
         "name": "19",
         "orientation": "v",
         "showlegend": true,
         "type": "scatter",
         "x": [
          0,
          1,
          2,
          3,
          4,
          5,
          6,
          7,
          8,
          9,
          10,
          11,
          12,
          13,
          14,
          15,
          16,
          17
         ],
         "xaxis": "x",
         "y": [
          0,
          0,
          0.39074939489364624,
          -0.03987240791320801,
          0.06464660167694092,
          0.07252120971679688,
          0.027905642986297607,
          0.00481647253036499,
          0.012403130531311035,
          -0.0013793706893920898,
          0.0024261474609375,
          0.028450727462768555,
          0.06122994422912598,
          0.009881019592285156,
          0.05423462390899658,
          0.037810325622558594,
          0.04751843214035034,
          0.1410205364227295
         ],
         "yaxis": "y"
        }
       ],
       "layout": {
        "height": 600,
        "legend": {
         "title": {
          "text": "batch"
         },
         "tracegroupgap": 0
        },
        "shapes": [
         {
          "line": {
           "color": "black",
           "dash": "dot"
          },
          "type": "line",
          "x0": 0,
          "x1": 1,
          "xref": "x domain",
          "y0": 0,
          "y1": 0,
          "yref": "y"
         }
        ],
        "template": {
         "data": {
          "bar": [
           {
            "error_x": {
             "color": "#2a3f5f"
            },
            "error_y": {
             "color": "#2a3f5f"
            },
            "marker": {
             "line": {
              "color": "#E5ECF6",
              "width": 0.5
             },
             "pattern": {
              "fillmode": "overlay",
              "size": 10,
              "solidity": 0.2
             }
            },
            "type": "bar"
           }
          ],
          "barpolar": [
           {
            "marker": {
             "line": {
              "color": "#E5ECF6",
              "width": 0.5
             },
             "pattern": {
              "fillmode": "overlay",
              "size": 10,
              "solidity": 0.2
             }
            },
            "type": "barpolar"
           }
          ],
          "carpet": [
           {
            "aaxis": {
             "endlinecolor": "#2a3f5f",
             "gridcolor": "white",
             "linecolor": "white",
             "minorgridcolor": "white",
             "startlinecolor": "#2a3f5f"
            },
            "baxis": {
             "endlinecolor": "#2a3f5f",
             "gridcolor": "white",
             "linecolor": "white",
             "minorgridcolor": "white",
             "startlinecolor": "#2a3f5f"
            },
            "type": "carpet"
           }
          ],
          "choropleth": [
           {
            "colorbar": {
             "outlinewidth": 0,
             "ticks": ""
            },
            "type": "choropleth"
           }
          ],
          "contour": [
           {
            "colorbar": {
             "outlinewidth": 0,
             "ticks": ""
            },
            "colorscale": [
             [
              0,
              "#0d0887"
             ],
             [
              0.1111111111111111,
              "#46039f"
             ],
             [
              0.2222222222222222,
              "#7201a8"
             ],
             [
              0.3333333333333333,
              "#9c179e"
             ],
             [
              0.4444444444444444,
              "#bd3786"
             ],
             [
              0.5555555555555556,
              "#d8576b"
             ],
             [
              0.6666666666666666,
              "#ed7953"
             ],
             [
              0.7777777777777778,
              "#fb9f3a"
             ],
             [
              0.8888888888888888,
              "#fdca26"
             ],
             [
              1,
              "#f0f921"
             ]
            ],
            "type": "contour"
           }
          ],
          "contourcarpet": [
           {
            "colorbar": {
             "outlinewidth": 0,
             "ticks": ""
            },
            "type": "contourcarpet"
           }
          ],
          "heatmap": [
           {
            "colorbar": {
             "outlinewidth": 0,
             "ticks": ""
            },
            "colorscale": [
             [
              0,
              "#0d0887"
             ],
             [
              0.1111111111111111,
              "#46039f"
             ],
             [
              0.2222222222222222,
              "#7201a8"
             ],
             [
              0.3333333333333333,
              "#9c179e"
             ],
             [
              0.4444444444444444,
              "#bd3786"
             ],
             [
              0.5555555555555556,
              "#d8576b"
             ],
             [
              0.6666666666666666,
              "#ed7953"
             ],
             [
              0.7777777777777778,
              "#fb9f3a"
             ],
             [
              0.8888888888888888,
              "#fdca26"
             ],
             [
              1,
              "#f0f921"
             ]
            ],
            "type": "heatmap"
           }
          ],
          "heatmapgl": [
           {
            "colorbar": {
             "outlinewidth": 0,
             "ticks": ""
            },
            "colorscale": [
             [
              0,
              "#0d0887"
             ],
             [
              0.1111111111111111,
              "#46039f"
             ],
             [
              0.2222222222222222,
              "#7201a8"
             ],
             [
              0.3333333333333333,
              "#9c179e"
             ],
             [
              0.4444444444444444,
              "#bd3786"
             ],
             [
              0.5555555555555556,
              "#d8576b"
             ],
             [
              0.6666666666666666,
              "#ed7953"
             ],
             [
              0.7777777777777778,
              "#fb9f3a"
             ],
             [
              0.8888888888888888,
              "#fdca26"
             ],
             [
              1,
              "#f0f921"
             ]
            ],
            "type": "heatmapgl"
           }
          ],
          "histogram": [
           {
            "marker": {
             "pattern": {
              "fillmode": "overlay",
              "size": 10,
              "solidity": 0.2
             }
            },
            "type": "histogram"
           }
          ],
          "histogram2d": [
           {
            "colorbar": {
             "outlinewidth": 0,
             "ticks": ""
            },
            "colorscale": [
             [
              0,
              "#0d0887"
             ],
             [
              0.1111111111111111,
              "#46039f"
             ],
             [
              0.2222222222222222,
              "#7201a8"
             ],
             [
              0.3333333333333333,
              "#9c179e"
             ],
             [
              0.4444444444444444,
              "#bd3786"
             ],
             [
              0.5555555555555556,
              "#d8576b"
             ],
             [
              0.6666666666666666,
              "#ed7953"
             ],
             [
              0.7777777777777778,
              "#fb9f3a"
             ],
             [
              0.8888888888888888,
              "#fdca26"
             ],
             [
              1,
              "#f0f921"
             ]
            ],
            "type": "histogram2d"
           }
          ],
          "histogram2dcontour": [
           {
            "colorbar": {
             "outlinewidth": 0,
             "ticks": ""
            },
            "colorscale": [
             [
              0,
              "#0d0887"
             ],
             [
              0.1111111111111111,
              "#46039f"
             ],
             [
              0.2222222222222222,
              "#7201a8"
             ],
             [
              0.3333333333333333,
              "#9c179e"
             ],
             [
              0.4444444444444444,
              "#bd3786"
             ],
             [
              0.5555555555555556,
              "#d8576b"
             ],
             [
              0.6666666666666666,
              "#ed7953"
             ],
             [
              0.7777777777777778,
              "#fb9f3a"
             ],
             [
              0.8888888888888888,
              "#fdca26"
             ],
             [
              1,
              "#f0f921"
             ]
            ],
            "type": "histogram2dcontour"
           }
          ],
          "mesh3d": [
           {
            "colorbar": {
             "outlinewidth": 0,
             "ticks": ""
            },
            "type": "mesh3d"
           }
          ],
          "parcoords": [
           {
            "line": {
             "colorbar": {
              "outlinewidth": 0,
              "ticks": ""
             }
            },
            "type": "parcoords"
           }
          ],
          "pie": [
           {
            "automargin": true,
            "type": "pie"
           }
          ],
          "scatter": [
           {
            "fillpattern": {
             "fillmode": "overlay",
             "size": 10,
             "solidity": 0.2
            },
            "type": "scatter"
           }
          ],
          "scatter3d": [
           {
            "line": {
             "colorbar": {
              "outlinewidth": 0,
              "ticks": ""
             }
            },
            "marker": {
             "colorbar": {
              "outlinewidth": 0,
              "ticks": ""
             }
            },
            "type": "scatter3d"
           }
          ],
          "scattercarpet": [
           {
            "marker": {
             "colorbar": {
              "outlinewidth": 0,
              "ticks": ""
             }
            },
            "type": "scattercarpet"
           }
          ],
          "scattergeo": [
           {
            "marker": {
             "colorbar": {
              "outlinewidth": 0,
              "ticks": ""
             }
            },
            "type": "scattergeo"
           }
          ],
          "scattergl": [
           {
            "marker": {
             "colorbar": {
              "outlinewidth": 0,
              "ticks": ""
             }
            },
            "type": "scattergl"
           }
          ],
          "scattermapbox": [
           {
            "marker": {
             "colorbar": {
              "outlinewidth": 0,
              "ticks": ""
             }
            },
            "type": "scattermapbox"
           }
          ],
          "scatterpolar": [
           {
            "marker": {
             "colorbar": {
              "outlinewidth": 0,
              "ticks": ""
             }
            },
            "type": "scatterpolar"
           }
          ],
          "scatterpolargl": [
           {
            "marker": {
             "colorbar": {
              "outlinewidth": 0,
              "ticks": ""
             }
            },
            "type": "scatterpolargl"
           }
          ],
          "scatterternary": [
           {
            "marker": {
             "colorbar": {
              "outlinewidth": 0,
              "ticks": ""
             }
            },
            "type": "scatterternary"
           }
          ],
          "surface": [
           {
            "colorbar": {
             "outlinewidth": 0,
             "ticks": ""
            },
            "colorscale": [
             [
              0,
              "#0d0887"
             ],
             [
              0.1111111111111111,
              "#46039f"
             ],
             [
              0.2222222222222222,
              "#7201a8"
             ],
             [
              0.3333333333333333,
              "#9c179e"
             ],
             [
              0.4444444444444444,
              "#bd3786"
             ],
             [
              0.5555555555555556,
              "#d8576b"
             ],
             [
              0.6666666666666666,
              "#ed7953"
             ],
             [
              0.7777777777777778,
              "#fb9f3a"
             ],
             [
              0.8888888888888888,
              "#fdca26"
             ],
             [
              1,
              "#f0f921"
             ]
            ],
            "type": "surface"
           }
          ],
          "table": [
           {
            "cells": {
             "fill": {
              "color": "#EBF0F8"
             },
             "line": {
              "color": "white"
             }
            },
            "header": {
             "fill": {
              "color": "#C8D4E3"
             },
             "line": {
              "color": "white"
             }
            },
            "type": "table"
           }
          ]
         },
         "layout": {
          "annotationdefaults": {
           "arrowcolor": "#2a3f5f",
           "arrowhead": 0,
           "arrowwidth": 1
          },
          "autotypenumbers": "strict",
          "coloraxis": {
           "colorbar": {
            "outlinewidth": 0,
            "ticks": ""
           }
          },
          "colorscale": {
           "diverging": [
            [
             0,
             "#8e0152"
            ],
            [
             0.1,
             "#c51b7d"
            ],
            [
             0.2,
             "#de77ae"
            ],
            [
             0.3,
             "#f1b6da"
            ],
            [
             0.4,
             "#fde0ef"
            ],
            [
             0.5,
             "#f7f7f7"
            ],
            [
             0.6,
             "#e6f5d0"
            ],
            [
             0.7,
             "#b8e186"
            ],
            [
             0.8,
             "#7fbc41"
            ],
            [
             0.9,
             "#4d9221"
            ],
            [
             1,
             "#276419"
            ]
           ],
           "sequential": [
            [
             0,
             "#0d0887"
            ],
            [
             0.1111111111111111,
             "#46039f"
            ],
            [
             0.2222222222222222,
             "#7201a8"
            ],
            [
             0.3333333333333333,
             "#9c179e"
            ],
            [
             0.4444444444444444,
             "#bd3786"
            ],
            [
             0.5555555555555556,
             "#d8576b"
            ],
            [
             0.6666666666666666,
             "#ed7953"
            ],
            [
             0.7777777777777778,
             "#fb9f3a"
            ],
            [
             0.8888888888888888,
             "#fdca26"
            ],
            [
             1,
             "#f0f921"
            ]
           ],
           "sequentialminus": [
            [
             0,
             "#0d0887"
            ],
            [
             0.1111111111111111,
             "#46039f"
            ],
            [
             0.2222222222222222,
             "#7201a8"
            ],
            [
             0.3333333333333333,
             "#9c179e"
            ],
            [
             0.4444444444444444,
             "#bd3786"
            ],
            [
             0.5555555555555556,
             "#d8576b"
            ],
            [
             0.6666666666666666,
             "#ed7953"
            ],
            [
             0.7777777777777778,
             "#fb9f3a"
            ],
            [
             0.8888888888888888,
             "#fdca26"
            ],
            [
             1,
             "#f0f921"
            ]
           ]
          },
          "colorway": [
           "#636efa",
           "#EF553B",
           "#00cc96",
           "#ab63fa",
           "#FFA15A",
           "#19d3f3",
           "#FF6692",
           "#B6E880",
           "#FF97FF",
           "#FECB52"
          ],
          "font": {
           "color": "#2a3f5f"
          },
          "geo": {
           "bgcolor": "white",
           "lakecolor": "white",
           "landcolor": "#E5ECF6",
           "showlakes": true,
           "showland": true,
           "subunitcolor": "white"
          },
          "hoverlabel": {
           "align": "left"
          },
          "hovermode": "closest",
          "mapbox": {
           "style": "light"
          },
          "paper_bgcolor": "white",
          "plot_bgcolor": "#E5ECF6",
          "polar": {
           "angularaxis": {
            "gridcolor": "white",
            "linecolor": "white",
            "ticks": ""
           },
           "bgcolor": "#E5ECF6",
           "radialaxis": {
            "gridcolor": "white",
            "linecolor": "white",
            "ticks": ""
           }
          },
          "scene": {
           "xaxis": {
            "backgroundcolor": "#E5ECF6",
            "gridcolor": "white",
            "gridwidth": 2,
            "linecolor": "white",
            "showbackground": true,
            "ticks": "",
            "zerolinecolor": "white"
           },
           "yaxis": {
            "backgroundcolor": "#E5ECF6",
            "gridcolor": "white",
            "gridwidth": 2,
            "linecolor": "white",
            "showbackground": true,
            "ticks": "",
            "zerolinecolor": "white"
           },
           "zaxis": {
            "backgroundcolor": "#E5ECF6",
            "gridcolor": "white",
            "gridwidth": 2,
            "linecolor": "white",
            "showbackground": true,
            "ticks": "",
            "zerolinecolor": "white"
           }
          },
          "shapedefaults": {
           "line": {
            "color": "#2a3f5f"
           }
          },
          "ternary": {
           "aaxis": {
            "gridcolor": "white",
            "linecolor": "white",
            "ticks": ""
           },
           "baxis": {
            "gridcolor": "white",
            "linecolor": "white",
            "ticks": ""
           },
           "bgcolor": "#E5ECF6",
           "caxis": {
            "gridcolor": "white",
            "linecolor": "white",
            "ticks": ""
           }
          },
          "title": {
           "x": 0.05
          },
          "xaxis": {
           "automargin": true,
           "gridcolor": "white",
           "linecolor": "white",
           "ticks": "",
           "title": {
            "standoff": 15
           },
           "zerolinecolor": "white",
           "zerolinewidth": 2
          },
          "yaxis": {
           "automargin": true,
           "gridcolor": "white",
           "linecolor": "white",
           "ticks": "",
           "title": {
            "standoff": 15
           },
           "zerolinecolor": "white",
           "zerolinewidth": 2
          }
         }
        },
        "title": {
         "text": "Activation Patching Attn Block @ All Pos"
        },
        "width": 1500,
        "xaxis": {
         "anchor": "y",
         "domain": [
          0,
          1
         ],
         "tickmode": "array",
         "ticktext": [
          14,
          15,
          16,
          17,
          18,
          19,
          20,
          21,
          22,
          23,
          24,
          25,
          26,
          27,
          28,
          29,
          30,
          31
         ],
         "tickvals": [
          0,
          1,
          2,
          3,
          4,
          5,
          6,
          7,
          8,
          9,
          10,
          11,
          12,
          13,
          14,
          15,
          16,
          17
         ],
         "title": {
          "text": "Layer"
         }
        },
        "yaxis": {
         "anchor": "x",
         "domain": [
          0,
          1
         ],
         "title": {
          "text": "KL Div Recovery"
         }
        }
       }
      },
      "text/html": [
       "<div>                            <div id=\"2ec9854b-de83-4f5c-98dd-dac0bcc9f8f7\" class=\"plotly-graph-div\" style=\"height:600px; width:1500px;\"></div>            <script type=\"text/javascript\">                require([\"plotly\"], function(Plotly) {                    window.PLOTLYENV=window.PLOTLYENV || {};                                    if (document.getElementById(\"2ec9854b-de83-4f5c-98dd-dac0bcc9f8f7\")) {                    Plotly.newPlot(                        \"2ec9854b-de83-4f5c-98dd-dac0bcc9f8f7\",                        [{\"hovertemplate\":\"batch=0<br>Layer=%{x}<br>KL Div Recovery=%{y}<extra></extra>\",\"legendgroup\":\"0\",\"line\":{\"color\":\"#636efa\",\"dash\":\"solid\"},\"marker\":{\"symbol\":\"circle\"},\"mode\":\"lines\",\"name\":\"0\",\"orientation\":\"v\",\"showlegend\":true,\"x\":[0,1,2,3,4,5,6,7,8,9,10,11,12,13,14,15,16,17],\"xaxis\":\"x\",\"y\":[0.0,0.0,0.04786813259124756,0.054199159145355225,0.07128351926803589,0.19910979270935059,0.08553838729858398,0.019097208976745605,0.05730170011520386,-0.018680691719055176,0.0025079846382141113,0.010969161987304688,0.08481889963150024,0.02818608283996582,0.06561928987503052,0.05526900291442871,0.02476447820663452,0.1142314076423645],\"yaxis\":\"y\",\"type\":\"scatter\"},{\"hovertemplate\":\"batch=1<br>Layer=%{x}<br>KL Div Recovery=%{y}<extra></extra>\",\"legendgroup\":\"1\",\"line\":{\"color\":\"#EF553B\",\"dash\":\"solid\"},\"marker\":{\"symbol\":\"circle\"},\"mode\":\"lines\",\"name\":\"1\",\"orientation\":\"v\",\"showlegend\":true,\"x\":[0,1,2,3,4,5,6,7,8,9,10,11,12,13,14,15,16,17],\"xaxis\":\"x\",\"y\":[0.0,0.0,0.2834840416908264,-0.022633671760559082,0.09496372938156128,0.14485102891921997,0.05752968788146973,0.010652542114257812,0.00906604528427124,0.014412760734558105,0.0022864937782287598,0.03723037242889404,0.11347544193267822,0.03285878896713257,0.09338462352752686,0.025337278842926025,-0.03040468692779541,0.11793208122253418],\"yaxis\":\"y\",\"type\":\"scatter\"},{\"hovertemplate\":\"batch=2<br>Layer=%{x}<br>KL Div Recovery=%{y}<extra></extra>\",\"legendgroup\":\"2\",\"line\":{\"color\":\"#00cc96\",\"dash\":\"solid\"},\"marker\":{\"symbol\":\"circle\"},\"mode\":\"lines\",\"name\":\"2\",\"orientation\":\"v\",\"showlegend\":true,\"x\":[0,1,2,3,4,5,6,7,8,9,10,11,12,13,14,15,16,17],\"xaxis\":\"x\",\"y\":[0.0,0.0,0.24449455738067627,0.08679580688476562,0.09904718399047852,0.02510124444961548,0.001571953296661377,0.050214409828186035,-0.0013539791107177734,0.025696098804473877,0.01643770933151245,0.04467880725860596,0.06437861919403076,0.029144108295440674,0.1436018943786621,0.009765863418579102,-0.008341789245605469,0.18664628267288208],\"yaxis\":\"y\",\"type\":\"scatter\"},{\"hovertemplate\":\"batch=3<br>Layer=%{x}<br>KL Div Recovery=%{y}<extra></extra>\",\"legendgroup\":\"3\",\"line\":{\"color\":\"#ab63fa\",\"dash\":\"solid\"},\"marker\":{\"symbol\":\"circle\"},\"mode\":\"lines\",\"name\":\"3\",\"orientation\":\"v\",\"showlegend\":true,\"x\":[0,1,2,3,4,5,6,7,8,9,10,11,12,13,14,15,16,17],\"xaxis\":\"x\",\"y\":[0.0,0.0,0.4001641869544983,0.02757394313812256,0.10218805074691772,0.13351863622665405,0.02592998743057251,0.007521092891693115,0.022167503833770752,-0.0066558122634887695,0.016088664531707764,0.023494839668273926,0.095481276512146,0.02101796865463257,0.03862982988357544,0.03073781728744507,0.05486655235290527,0.06682360172271729],\"yaxis\":\"y\",\"type\":\"scatter\"},{\"hovertemplate\":\"batch=4<br>Layer=%{x}<br>KL Div Recovery=%{y}<extra></extra>\",\"legendgroup\":\"4\",\"line\":{\"color\":\"#FFA15A\",\"dash\":\"solid\"},\"marker\":{\"symbol\":\"circle\"},\"mode\":\"lines\",\"name\":\"4\",\"orientation\":\"v\",\"showlegend\":true,\"x\":[0,1,2,3,4,5,6,7,8,9,10,11,12,13,14,15,16,17],\"xaxis\":\"x\",\"y\":[0.0,0.0,0.16576015949249268,0.035232722759246826,0.13830238580703735,0.1300356388092041,-0.0059365034103393555,-0.02676212787628174,0.025613784790039062,0.019984185695648193,0.011602699756622314,0.05900615453720093,0.0517420768737793,0.07714909315109253,-0.030968785285949707,-0.011270999908447266,-0.10491430759429932,0.188118577003479],\"yaxis\":\"y\",\"type\":\"scatter\"},{\"hovertemplate\":\"batch=5<br>Layer=%{x}<br>KL Div Recovery=%{y}<extra></extra>\",\"legendgroup\":\"5\",\"line\":{\"color\":\"#19d3f3\",\"dash\":\"solid\"},\"marker\":{\"symbol\":\"circle\"},\"mode\":\"lines\",\"name\":\"5\",\"orientation\":\"v\",\"showlegend\":true,\"x\":[0,1,2,3,4,5,6,7,8,9,10,11,12,13,14,15,16,17],\"xaxis\":\"x\",\"y\":[0.0,0.0,0.390555739402771,0.045292556285858154,0.1790602207183838,0.09764730930328369,0.07675272226333618,-0.0002614259719848633,-0.0005592107772827148,0.004500329494476318,0.006460130214691162,0.04952734708786011,0.07298892736434937,0.019274473190307617,0.09626215696334839,0.041060686111450195,0.008805274963378906,0.07127702236175537],\"yaxis\":\"y\",\"type\":\"scatter\"},{\"hovertemplate\":\"batch=6<br>Layer=%{x}<br>KL Div Recovery=%{y}<extra></extra>\",\"legendgroup\":\"6\",\"line\":{\"color\":\"#FF6692\",\"dash\":\"solid\"},\"marker\":{\"symbol\":\"circle\"},\"mode\":\"lines\",\"name\":\"6\",\"orientation\":\"v\",\"showlegend\":true,\"x\":[0,1,2,3,4,5,6,7,8,9,10,11,12,13,14,15,16,17],\"xaxis\":\"x\",\"y\":[0.0,0.0,0.17629671096801758,0.047709763050079346,0.11036127805709839,0.0951496958732605,0.024250566959381104,0.040029942989349365,0.01740962266921997,0.020627200603485107,0.016757309436798096,0.048366546630859375,0.10220956802368164,0.024607956409454346,0.06615501642227173,0.0422821044921875,0.020694255828857422,0.10580646991729736],\"yaxis\":\"y\",\"type\":\"scatter\"},{\"hovertemplate\":\"batch=7<br>Layer=%{x}<br>KL Div Recovery=%{y}<extra></extra>\",\"legendgroup\":\"7\",\"line\":{\"color\":\"#B6E880\",\"dash\":\"solid\"},\"marker\":{\"symbol\":\"circle\"},\"mode\":\"lines\",\"name\":\"7\",\"orientation\":\"v\",\"showlegend\":true,\"x\":[0,1,2,3,4,5,6,7,8,9,10,11,12,13,14,15,16,17],\"xaxis\":\"x\",\"y\":[0.0,0.0,0.37853676080703735,0.049284279346466064,0.08111065626144409,0.14289778470993042,-0.021600842475891113,-0.0020194053649902344,0.04128807783126831,0.0005956888198852539,0.019092559814453125,0.05145233869552612,0.05432486534118652,0.05355876684188843,0.07753181457519531,-0.02880251407623291,-0.009886741638183594,0.19067096710205078],\"yaxis\":\"y\",\"type\":\"scatter\"},{\"hovertemplate\":\"batch=8<br>Layer=%{x}<br>KL Div Recovery=%{y}<extra></extra>\",\"legendgroup\":\"8\",\"line\":{\"color\":\"#FF97FF\",\"dash\":\"solid\"},\"marker\":{\"symbol\":\"circle\"},\"mode\":\"lines\",\"name\":\"8\",\"orientation\":\"v\",\"showlegend\":true,\"x\":[0,1,2,3,4,5,6,7,8,9,10,11,12,13,14,15,16,17],\"xaxis\":\"x\",\"y\":[0.0,0.0,0.3212977647781372,0.045082807540893555,0.0542946457862854,0.1531146764755249,0.021392822265625,0.04428988695144653,0.035721659660339355,0.010622918605804443,-0.0003744363784790039,0.03862416744232178,0.07697862386703491,0.06314736604690552,0.13263481855392456,0.02659815549850464,0.040237486362457275,0.2865391969680786],\"yaxis\":\"y\",\"type\":\"scatter\"},{\"hovertemplate\":\"batch=9<br>Layer=%{x}<br>KL Div Recovery=%{y}<extra></extra>\",\"legendgroup\":\"9\",\"line\":{\"color\":\"#FECB52\",\"dash\":\"solid\"},\"marker\":{\"symbol\":\"circle\"},\"mode\":\"lines\",\"name\":\"9\",\"orientation\":\"v\",\"showlegend\":true,\"x\":[0,1,2,3,4,5,6,7,8,9,10,11,12,13,14,15,16,17],\"xaxis\":\"x\",\"y\":[0.0,0.0,0.30966633558273315,0.062218308448791504,0.08267450332641602,0.10376644134521484,0.04778176546096802,-0.0006663799285888672,0.015695631504058838,0.010164082050323486,-0.005730867385864258,0.02949512004852295,0.09828877449035645,0.018862128257751465,0.08887588977813721,0.0238112211227417,0.0366939902305603,0.0911792516708374],\"yaxis\":\"y\",\"type\":\"scatter\"},{\"hovertemplate\":\"batch=10<br>Layer=%{x}<br>KL Div Recovery=%{y}<extra></extra>\",\"legendgroup\":\"10\",\"line\":{\"color\":\"#636efa\",\"dash\":\"solid\"},\"marker\":{\"symbol\":\"circle\"},\"mode\":\"lines\",\"name\":\"10\",\"orientation\":\"v\",\"showlegend\":true,\"x\":[0,1,2,3,4,5,6,7,8,9,10,11,12,13,14,15,16,17],\"xaxis\":\"x\",\"y\":[0.0,0.0,0.3464730978012085,0.03630721569061279,0.04380291700363159,0.08600026369094849,-0.0033298730850219727,-0.0061223506927490234,0.020873546600341797,-0.014557957649230957,0.021443605422973633,0.03984236717224121,0.07649886608123779,0.029182493686676025,0.0723990797996521,0.024052798748016357,0.06702172756195068,0.1468687653541565],\"yaxis\":\"y\",\"type\":\"scatter\"},{\"hovertemplate\":\"batch=11<br>Layer=%{x}<br>KL Div Recovery=%{y}<extra></extra>\",\"legendgroup\":\"11\",\"line\":{\"color\":\"#EF553B\",\"dash\":\"solid\"},\"marker\":{\"symbol\":\"circle\"},\"mode\":\"lines\",\"name\":\"11\",\"orientation\":\"v\",\"showlegend\":true,\"x\":[0,1,2,3,4,5,6,7,8,9,10,11,12,13,14,15,16,17],\"xaxis\":\"x\",\"y\":[0.0,0.0,0.3690239191055298,0.016943633556365967,0.01551288366317749,-0.0031632184982299805,0.0235825777053833,0.003941237926483154,0.01732039451599121,-0.01585972309112549,-0.0037736892700195312,0.021578609943389893,0.058883607387542725,0.016163408756256104,0.05460935831069946,0.020048856735229492,0.05343329906463623,0.11133581399917603],\"yaxis\":\"y\",\"type\":\"scatter\"},{\"hovertemplate\":\"batch=12<br>Layer=%{x}<br>KL Div Recovery=%{y}<extra></extra>\",\"legendgroup\":\"12\",\"line\":{\"color\":\"#00cc96\",\"dash\":\"solid\"},\"marker\":{\"symbol\":\"circle\"},\"mode\":\"lines\",\"name\":\"12\",\"orientation\":\"v\",\"showlegend\":true,\"x\":[0,1,2,3,4,5,6,7,8,9,10,11,12,13,14,15,16,17],\"xaxis\":\"x\",\"y\":[0.0,0.0,0.3388405442237854,0.003981292247772217,0.05296885967254639,0.04035055637359619,-0.013268828392028809,0.007720947265625,0.051265716552734375,0.011021912097930908,0.03640294075012207,0.055087387561798096,0.05819803476333618,0.04554271697998047,0.03843945264816284,0.00942683219909668,0.034681737422943115,0.2214478850364685],\"yaxis\":\"y\",\"type\":\"scatter\"},{\"hovertemplate\":\"batch=13<br>Layer=%{x}<br>KL Div Recovery=%{y}<extra></extra>\",\"legendgroup\":\"13\",\"line\":{\"color\":\"#ab63fa\",\"dash\":\"solid\"},\"marker\":{\"symbol\":\"circle\"},\"mode\":\"lines\",\"name\":\"13\",\"orientation\":\"v\",\"showlegend\":true,\"x\":[0,1,2,3,4,5,6,7,8,9,10,11,12,13,14,15,16,17],\"xaxis\":\"x\",\"y\":[0.0,0.0,0.35035765171051025,0.12938690185546875,0.13224691152572632,0.17249560356140137,0.04628705978393555,-0.009122014045715332,0.026351571083068848,0.005429506301879883,-0.0041571855545043945,0.06225931644439697,0.09240293502807617,0.07222938537597656,0.08629173040390015,0.05329245328903198,0.0679941177368164,0.15604829788208008],\"yaxis\":\"y\",\"type\":\"scatter\"},{\"hovertemplate\":\"batch=14<br>Layer=%{x}<br>KL Div Recovery=%{y}<extra></extra>\",\"legendgroup\":\"14\",\"line\":{\"color\":\"#FFA15A\",\"dash\":\"solid\"},\"marker\":{\"symbol\":\"circle\"},\"mode\":\"lines\",\"name\":\"14\",\"orientation\":\"v\",\"showlegend\":true,\"x\":[0,1,2,3,4,5,6,7,8,9,10,11,12,13,14,15,16,17],\"xaxis\":\"x\",\"y\":[0.0,0.0,0.11874526739120483,0.011896371841430664,0.09223556518554688,0.07687300443649292,0.010522067546844482,0.015755057334899902,-0.017756938934326172,0.025441527366638184,0.0011756420135498047,0.054760873317718506,0.09340471029281616,0.007383823394775391,0.08029550313949585,0.004725754261016846,0.0037096738815307617,0.07731610536575317],\"yaxis\":\"y\",\"type\":\"scatter\"},{\"hovertemplate\":\"batch=15<br>Layer=%{x}<br>KL Div Recovery=%{y}<extra></extra>\",\"legendgroup\":\"15\",\"line\":{\"color\":\"#19d3f3\",\"dash\":\"solid\"},\"marker\":{\"symbol\":\"circle\"},\"mode\":\"lines\",\"name\":\"15\",\"orientation\":\"v\",\"showlegend\":true,\"x\":[0,1,2,3,4,5,6,7,8,9,10,11,12,13,14,15,16,17],\"xaxis\":\"x\",\"y\":[0.0,0.0,0.00032973289489746094,-2.384185791015625e-05,0.20326370000839233,0.09215772151947021,-0.026955246925354004,0.11696559190750122,0.03422999382019043,0.05866724252700806,-0.0028454065322875977,0.001466989517211914,0.04416626691818237,0.029069900512695312,0.16712307929992676,-0.0010869503021240234,-0.03822958469390869,0.07085913419723511],\"yaxis\":\"y\",\"type\":\"scatter\"},{\"hovertemplate\":\"batch=16<br>Layer=%{x}<br>KL Div Recovery=%{y}<extra></extra>\",\"legendgroup\":\"16\",\"line\":{\"color\":\"#FF6692\",\"dash\":\"solid\"},\"marker\":{\"symbol\":\"circle\"},\"mode\":\"lines\",\"name\":\"16\",\"orientation\":\"v\",\"showlegend\":true,\"x\":[0,1,2,3,4,5,6,7,8,9,10,11,12,13,14,15,16,17],\"xaxis\":\"x\",\"y\":[0.0,0.0,0.21990811824798584,0.10839623212814331,0.0667341947555542,0.15560758113861084,-0.01942157745361328,-0.007365584373474121,0.055285751819610596,-0.00867617130279541,-0.008942246437072754,-0.0040405988693237305,0.13155490159988403,0.024578511714935303,0.02109318971633911,0.04570186138153076,0.026496589183807373,0.10824328660964966],\"yaxis\":\"y\",\"type\":\"scatter\"},{\"hovertemplate\":\"batch=17<br>Layer=%{x}<br>KL Div Recovery=%{y}<extra></extra>\",\"legendgroup\":\"17\",\"line\":{\"color\":\"#B6E880\",\"dash\":\"solid\"},\"marker\":{\"symbol\":\"circle\"},\"mode\":\"lines\",\"name\":\"17\",\"orientation\":\"v\",\"showlegend\":true,\"x\":[0,1,2,3,4,5,6,7,8,9,10,11,12,13,14,15,16,17],\"xaxis\":\"x\",\"y\":[0.0,0.0,0.3028412461280823,0.041506171226501465,0.07733523845672607,0.04741716384887695,0.054968833923339844,-0.001433730125427246,0.002793550491333008,0.04120367765426636,0.005492210388183594,0.020467936992645264,0.0582808256149292,0.01449882984161377,0.08190786838531494,0.03278958797454834,0.030086100101470947,0.12412351369857788],\"yaxis\":\"y\",\"type\":\"scatter\"},{\"hovertemplate\":\"batch=18<br>Layer=%{x}<br>KL Div Recovery=%{y}<extra></extra>\",\"legendgroup\":\"18\",\"line\":{\"color\":\"#FF97FF\",\"dash\":\"solid\"},\"marker\":{\"symbol\":\"circle\"},\"mode\":\"lines\",\"name\":\"18\",\"orientation\":\"v\",\"showlegend\":true,\"x\":[0,1,2,3,4,5,6,7,8,9,10,11,12,13,14,15,16,17],\"xaxis\":\"x\",\"y\":[0.0,0.0,0.39028048515319824,0.011162281036376953,0.13704359531402588,0.03862285614013672,0.04404711723327637,-0.0052225589752197266,0.009345471858978271,0.012702107429504395,0.005836129188537598,0.0011929869651794434,0.04154646396636963,0.022227704524993896,0.09278959035873413,0.04718470573425293,0.04236555099487305,0.17715984582901],\"yaxis\":\"y\",\"type\":\"scatter\"},{\"hovertemplate\":\"batch=19<br>Layer=%{x}<br>KL Div Recovery=%{y}<extra></extra>\",\"legendgroup\":\"19\",\"line\":{\"color\":\"#FECB52\",\"dash\":\"solid\"},\"marker\":{\"symbol\":\"circle\"},\"mode\":\"lines\",\"name\":\"19\",\"orientation\":\"v\",\"showlegend\":true,\"x\":[0,1,2,3,4,5,6,7,8,9,10,11,12,13,14,15,16,17],\"xaxis\":\"x\",\"y\":[0.0,0.0,0.39074939489364624,-0.03987240791320801,0.06464660167694092,0.07252120971679688,0.027905642986297607,0.00481647253036499,0.012403130531311035,-0.0013793706893920898,0.0024261474609375,0.028450727462768555,0.06122994422912598,0.009881019592285156,0.05423462390899658,0.037810325622558594,0.04751843214035034,0.1410205364227295],\"yaxis\":\"y\",\"type\":\"scatter\"}],                        {\"template\":{\"data\":{\"histogram2dcontour\":[{\"type\":\"histogram2dcontour\",\"colorbar\":{\"outlinewidth\":0,\"ticks\":\"\"},\"colorscale\":[[0.0,\"#0d0887\"],[0.1111111111111111,\"#46039f\"],[0.2222222222222222,\"#7201a8\"],[0.3333333333333333,\"#9c179e\"],[0.4444444444444444,\"#bd3786\"],[0.5555555555555556,\"#d8576b\"],[0.6666666666666666,\"#ed7953\"],[0.7777777777777778,\"#fb9f3a\"],[0.8888888888888888,\"#fdca26\"],[1.0,\"#f0f921\"]]}],\"choropleth\":[{\"type\":\"choropleth\",\"colorbar\":{\"outlinewidth\":0,\"ticks\":\"\"}}],\"histogram2d\":[{\"type\":\"histogram2d\",\"colorbar\":{\"outlinewidth\":0,\"ticks\":\"\"},\"colorscale\":[[0.0,\"#0d0887\"],[0.1111111111111111,\"#46039f\"],[0.2222222222222222,\"#7201a8\"],[0.3333333333333333,\"#9c179e\"],[0.4444444444444444,\"#bd3786\"],[0.5555555555555556,\"#d8576b\"],[0.6666666666666666,\"#ed7953\"],[0.7777777777777778,\"#fb9f3a\"],[0.8888888888888888,\"#fdca26\"],[1.0,\"#f0f921\"]]}],\"heatmap\":[{\"type\":\"heatmap\",\"colorbar\":{\"outlinewidth\":0,\"ticks\":\"\"},\"colorscale\":[[0.0,\"#0d0887\"],[0.1111111111111111,\"#46039f\"],[0.2222222222222222,\"#7201a8\"],[0.3333333333333333,\"#9c179e\"],[0.4444444444444444,\"#bd3786\"],[0.5555555555555556,\"#d8576b\"],[0.6666666666666666,\"#ed7953\"],[0.7777777777777778,\"#fb9f3a\"],[0.8888888888888888,\"#fdca26\"],[1.0,\"#f0f921\"]]}],\"heatmapgl\":[{\"type\":\"heatmapgl\",\"colorbar\":{\"outlinewidth\":0,\"ticks\":\"\"},\"colorscale\":[[0.0,\"#0d0887\"],[0.1111111111111111,\"#46039f\"],[0.2222222222222222,\"#7201a8\"],[0.3333333333333333,\"#9c179e\"],[0.4444444444444444,\"#bd3786\"],[0.5555555555555556,\"#d8576b\"],[0.6666666666666666,\"#ed7953\"],[0.7777777777777778,\"#fb9f3a\"],[0.8888888888888888,\"#fdca26\"],[1.0,\"#f0f921\"]]}],\"contourcarpet\":[{\"type\":\"contourcarpet\",\"colorbar\":{\"outlinewidth\":0,\"ticks\":\"\"}}],\"contour\":[{\"type\":\"contour\",\"colorbar\":{\"outlinewidth\":0,\"ticks\":\"\"},\"colorscale\":[[0.0,\"#0d0887\"],[0.1111111111111111,\"#46039f\"],[0.2222222222222222,\"#7201a8\"],[0.3333333333333333,\"#9c179e\"],[0.4444444444444444,\"#bd3786\"],[0.5555555555555556,\"#d8576b\"],[0.6666666666666666,\"#ed7953\"],[0.7777777777777778,\"#fb9f3a\"],[0.8888888888888888,\"#fdca26\"],[1.0,\"#f0f921\"]]}],\"surface\":[{\"type\":\"surface\",\"colorbar\":{\"outlinewidth\":0,\"ticks\":\"\"},\"colorscale\":[[0.0,\"#0d0887\"],[0.1111111111111111,\"#46039f\"],[0.2222222222222222,\"#7201a8\"],[0.3333333333333333,\"#9c179e\"],[0.4444444444444444,\"#bd3786\"],[0.5555555555555556,\"#d8576b\"],[0.6666666666666666,\"#ed7953\"],[0.7777777777777778,\"#fb9f3a\"],[0.8888888888888888,\"#fdca26\"],[1.0,\"#f0f921\"]]}],\"mesh3d\":[{\"type\":\"mesh3d\",\"colorbar\":{\"outlinewidth\":0,\"ticks\":\"\"}}],\"scatter\":[{\"fillpattern\":{\"fillmode\":\"overlay\",\"size\":10,\"solidity\":0.2},\"type\":\"scatter\"}],\"parcoords\":[{\"type\":\"parcoords\",\"line\":{\"colorbar\":{\"outlinewidth\":0,\"ticks\":\"\"}}}],\"scatterpolargl\":[{\"type\":\"scatterpolargl\",\"marker\":{\"colorbar\":{\"outlinewidth\":0,\"ticks\":\"\"}}}],\"bar\":[{\"error_x\":{\"color\":\"#2a3f5f\"},\"error_y\":{\"color\":\"#2a3f5f\"},\"marker\":{\"line\":{\"color\":\"#E5ECF6\",\"width\":0.5},\"pattern\":{\"fillmode\":\"overlay\",\"size\":10,\"solidity\":0.2}},\"type\":\"bar\"}],\"scattergeo\":[{\"type\":\"scattergeo\",\"marker\":{\"colorbar\":{\"outlinewidth\":0,\"ticks\":\"\"}}}],\"scatterpolar\":[{\"type\":\"scatterpolar\",\"marker\":{\"colorbar\":{\"outlinewidth\":0,\"ticks\":\"\"}}}],\"histogram\":[{\"marker\":{\"pattern\":{\"fillmode\":\"overlay\",\"size\":10,\"solidity\":0.2}},\"type\":\"histogram\"}],\"scattergl\":[{\"type\":\"scattergl\",\"marker\":{\"colorbar\":{\"outlinewidth\":0,\"ticks\":\"\"}}}],\"scatter3d\":[{\"type\":\"scatter3d\",\"line\":{\"colorbar\":{\"outlinewidth\":0,\"ticks\":\"\"}},\"marker\":{\"colorbar\":{\"outlinewidth\":0,\"ticks\":\"\"}}}],\"scattermapbox\":[{\"type\":\"scattermapbox\",\"marker\":{\"colorbar\":{\"outlinewidth\":0,\"ticks\":\"\"}}}],\"scatterternary\":[{\"type\":\"scatterternary\",\"marker\":{\"colorbar\":{\"outlinewidth\":0,\"ticks\":\"\"}}}],\"scattercarpet\":[{\"type\":\"scattercarpet\",\"marker\":{\"colorbar\":{\"outlinewidth\":0,\"ticks\":\"\"}}}],\"carpet\":[{\"aaxis\":{\"endlinecolor\":\"#2a3f5f\",\"gridcolor\":\"white\",\"linecolor\":\"white\",\"minorgridcolor\":\"white\",\"startlinecolor\":\"#2a3f5f\"},\"baxis\":{\"endlinecolor\":\"#2a3f5f\",\"gridcolor\":\"white\",\"linecolor\":\"white\",\"minorgridcolor\":\"white\",\"startlinecolor\":\"#2a3f5f\"},\"type\":\"carpet\"}],\"table\":[{\"cells\":{\"fill\":{\"color\":\"#EBF0F8\"},\"line\":{\"color\":\"white\"}},\"header\":{\"fill\":{\"color\":\"#C8D4E3\"},\"line\":{\"color\":\"white\"}},\"type\":\"table\"}],\"barpolar\":[{\"marker\":{\"line\":{\"color\":\"#E5ECF6\",\"width\":0.5},\"pattern\":{\"fillmode\":\"overlay\",\"size\":10,\"solidity\":0.2}},\"type\":\"barpolar\"}],\"pie\":[{\"automargin\":true,\"type\":\"pie\"}]},\"layout\":{\"autotypenumbers\":\"strict\",\"colorway\":[\"#636efa\",\"#EF553B\",\"#00cc96\",\"#ab63fa\",\"#FFA15A\",\"#19d3f3\",\"#FF6692\",\"#B6E880\",\"#FF97FF\",\"#FECB52\"],\"font\":{\"color\":\"#2a3f5f\"},\"hovermode\":\"closest\",\"hoverlabel\":{\"align\":\"left\"},\"paper_bgcolor\":\"white\",\"plot_bgcolor\":\"#E5ECF6\",\"polar\":{\"bgcolor\":\"#E5ECF6\",\"angularaxis\":{\"gridcolor\":\"white\",\"linecolor\":\"white\",\"ticks\":\"\"},\"radialaxis\":{\"gridcolor\":\"white\",\"linecolor\":\"white\",\"ticks\":\"\"}},\"ternary\":{\"bgcolor\":\"#E5ECF6\",\"aaxis\":{\"gridcolor\":\"white\",\"linecolor\":\"white\",\"ticks\":\"\"},\"baxis\":{\"gridcolor\":\"white\",\"linecolor\":\"white\",\"ticks\":\"\"},\"caxis\":{\"gridcolor\":\"white\",\"linecolor\":\"white\",\"ticks\":\"\"}},\"coloraxis\":{\"colorbar\":{\"outlinewidth\":0,\"ticks\":\"\"}},\"colorscale\":{\"sequential\":[[0.0,\"#0d0887\"],[0.1111111111111111,\"#46039f\"],[0.2222222222222222,\"#7201a8\"],[0.3333333333333333,\"#9c179e\"],[0.4444444444444444,\"#bd3786\"],[0.5555555555555556,\"#d8576b\"],[0.6666666666666666,\"#ed7953\"],[0.7777777777777778,\"#fb9f3a\"],[0.8888888888888888,\"#fdca26\"],[1.0,\"#f0f921\"]],\"sequentialminus\":[[0.0,\"#0d0887\"],[0.1111111111111111,\"#46039f\"],[0.2222222222222222,\"#7201a8\"],[0.3333333333333333,\"#9c179e\"],[0.4444444444444444,\"#bd3786\"],[0.5555555555555556,\"#d8576b\"],[0.6666666666666666,\"#ed7953\"],[0.7777777777777778,\"#fb9f3a\"],[0.8888888888888888,\"#fdca26\"],[1.0,\"#f0f921\"]],\"diverging\":[[0,\"#8e0152\"],[0.1,\"#c51b7d\"],[0.2,\"#de77ae\"],[0.3,\"#f1b6da\"],[0.4,\"#fde0ef\"],[0.5,\"#f7f7f7\"],[0.6,\"#e6f5d0\"],[0.7,\"#b8e186\"],[0.8,\"#7fbc41\"],[0.9,\"#4d9221\"],[1,\"#276419\"]]},\"xaxis\":{\"gridcolor\":\"white\",\"linecolor\":\"white\",\"ticks\":\"\",\"title\":{\"standoff\":15},\"zerolinecolor\":\"white\",\"automargin\":true,\"zerolinewidth\":2},\"yaxis\":{\"gridcolor\":\"white\",\"linecolor\":\"white\",\"ticks\":\"\",\"title\":{\"standoff\":15},\"zerolinecolor\":\"white\",\"automargin\":true,\"zerolinewidth\":2},\"scene\":{\"xaxis\":{\"backgroundcolor\":\"#E5ECF6\",\"gridcolor\":\"white\",\"linecolor\":\"white\",\"showbackground\":true,\"ticks\":\"\",\"zerolinecolor\":\"white\",\"gridwidth\":2},\"yaxis\":{\"backgroundcolor\":\"#E5ECF6\",\"gridcolor\":\"white\",\"linecolor\":\"white\",\"showbackground\":true,\"ticks\":\"\",\"zerolinecolor\":\"white\",\"gridwidth\":2},\"zaxis\":{\"backgroundcolor\":\"#E5ECF6\",\"gridcolor\":\"white\",\"linecolor\":\"white\",\"showbackground\":true,\"ticks\":\"\",\"zerolinecolor\":\"white\",\"gridwidth\":2}},\"shapedefaults\":{\"line\":{\"color\":\"#2a3f5f\"}},\"annotationdefaults\":{\"arrowcolor\":\"#2a3f5f\",\"arrowhead\":0,\"arrowwidth\":1},\"geo\":{\"bgcolor\":\"white\",\"landcolor\":\"#E5ECF6\",\"subunitcolor\":\"white\",\"showland\":true,\"showlakes\":true,\"lakecolor\":\"white\"},\"title\":{\"x\":0.05},\"mapbox\":{\"style\":\"light\"}}},\"xaxis\":{\"anchor\":\"y\",\"domain\":[0.0,1.0],\"title\":{\"text\":\"Layer\"},\"tickmode\":\"array\",\"tickvals\":[0,1,2,3,4,5,6,7,8,9,10,11,12,13,14,15,16,17],\"ticktext\":[14,15,16,17,18,19,20,21,22,23,24,25,26,27,28,29,30,31]},\"yaxis\":{\"anchor\":\"x\",\"domain\":[0.0,1.0],\"title\":{\"text\":\"KL Div Recovery\"}},\"legend\":{\"title\":{\"text\":\"batch\"},\"tracegroupgap\":0},\"title\":{\"text\":\"Activation Patching Attn Block @ All Pos\"},\"height\":600,\"width\":1500,\"shapes\":[{\"line\":{\"color\":\"black\",\"dash\":\"dot\"},\"type\":\"line\",\"x0\":0,\"x1\":1,\"xref\":\"x domain\",\"y0\":0,\"y1\":0,\"yref\":\"y\"}]},                        {\"responsive\": true}                    ).then(function(){\n",
       "                            \n",
       "var gd = document.getElementById('2ec9854b-de83-4f5c-98dd-dac0bcc9f8f7');\n",
       "var x = new MutationObserver(function (mutations, observer) {{\n",
       "        var display = window.getComputedStyle(gd).display;\n",
       "        if (!display || display === 'none') {{\n",
       "            console.log([gd, 'removed!']);\n",
       "            Plotly.purge(gd);\n",
       "            observer.disconnect();\n",
       "        }}\n",
       "}});\n",
       "\n",
       "// Listen for the removal of the full notebook cells\n",
       "var notebookContainer = gd.closest('#notebook-container');\n",
       "if (notebookContainer) {{\n",
       "    x.observe(notebookContainer, {childList: true});\n",
       "}}\n",
       "\n",
       "// Listen for the clearing of the current output cell\n",
       "var outputEl = gd.closest('.output');\n",
       "if (outputEl) {{\n",
       "    x.observe(outputEl, {childList: true});\n",
       "}}\n",
       "\n",
       "                        })                };                });            </script>        </div>"
      ]
     },
     "metadata": {},
     "output_type": "display_data"
    }
   ],
   "source": [
    "fig = plot_act_patch_component_all_pos(\n",
    "    kld_recovery[1],\n",
    "    layers_to_patch,\n",
    "    metric_name=\"KL Div Recovery\",\n",
    "    title=\"Activation Patching Attn Block @ All Pos\",\n",
    ")\n",
    "fig.write_html(\"figs/patch-exp2-attn-all-pos-kld.html\")\n",
    "fig.show()"
   ]
  },
  {
   "cell_type": "code",
   "execution_count": 75,
   "metadata": {},
   "outputs": [
    {
     "data": {
      "application/vnd.plotly.v1+json": {
       "config": {
        "plotlyServerURL": "https://plot.ly"
       },
       "data": [
        {
         "hovertemplate": "batch=0<br>Layer=%{x}<br>Logprob Diff Recovery=%{y}<extra></extra>",
         "legendgroup": "0",
         "line": {
          "color": "#636efa",
          "dash": "solid"
         },
         "marker": {
          "symbol": "circle"
         },
         "mode": "lines",
         "name": "0",
         "orientation": "v",
         "showlegend": true,
         "type": "scatter",
         "x": [
          0,
          1,
          2,
          3,
          4,
          5,
          6,
          7,
          8,
          9,
          10,
          11,
          12,
          13,
          14,
          15,
          16,
          17
         ],
         "xaxis": "x",
         "y": [
          0,
          0,
          0.04808278754353523,
          0.06750143319368362,
          0.07212094962596893,
          0.21110592782497406,
          0.08273530006408691,
          0.02950979955494404,
          0.05240319296717644,
          -0.024955661967396736,
          -0.02110280841588974,
          -0.012064598500728607,
          0.07319468259811401,
          0.030120404437184334,
          0.031965840607881546,
          0.06831763684749603,
          0.02914256975054741,
          0.0849209800362587
         ],
         "yaxis": "y"
        },
        {
         "hovertemplate": "batch=1<br>Layer=%{x}<br>Logprob Diff Recovery=%{y}<extra></extra>",
         "legendgroup": "1",
         "line": {
          "color": "#EF553B",
          "dash": "solid"
         },
         "marker": {
          "symbol": "circle"
         },
         "mode": "lines",
         "name": "1",
         "orientation": "v",
         "showlegend": true,
         "type": "scatter",
         "x": [
          0,
          1,
          2,
          3,
          4,
          5,
          6,
          7,
          8,
          9,
          10,
          11,
          12,
          13,
          14,
          15,
          16,
          17
         ],
         "xaxis": "x",
         "y": [
          0,
          0,
          0.3706114888191223,
          0.0050460160709917545,
          0.15527121722698212,
          0.18344105780124664,
          0.028664564713835716,
          0.03311396390199661,
          0.011989563703536987,
          -0.006555869709700346,
          -0.001953696832060814,
          0.01936112903058529,
          0.1238037496805191,
          0.04327095299959183,
          0.04230113700032234,
          0.043379560112953186,
          -0.02311016246676445,
          0.03158910945057869
         ],
         "yaxis": "y"
        },
        {
         "hovertemplate": "batch=2<br>Layer=%{x}<br>Logprob Diff Recovery=%{y}<extra></extra>",
         "legendgroup": "2",
         "line": {
          "color": "#00cc96",
          "dash": "solid"
         },
         "marker": {
          "symbol": "circle"
         },
         "mode": "lines",
         "name": "2",
         "orientation": "v",
         "showlegend": true,
         "type": "scatter",
         "x": [
          0,
          1,
          2,
          3,
          4,
          5,
          6,
          7,
          8,
          9,
          10,
          11,
          12,
          13,
          14,
          15,
          16,
          17
         ],
         "xaxis": "x",
         "y": [
          0,
          0,
          -0.583588719367981,
          -0.29934918880462646,
          -0.5303826928138733,
          0.4154154658317566,
          0.37930741906166077,
          -0.19220945239067078,
          -0.22385337948799133,
          -0.3323652744293213,
          0.28791722655296326,
          0.13331787288188934,
          0.05243249237537384,
          0.1408206671476364,
          -0.2901982069015503,
          0.030967414379119873,
          0.0913027748465538,
          -0.2951411008834839
         ],
         "yaxis": "y"
        },
        {
         "hovertemplate": "batch=3<br>Layer=%{x}<br>Logprob Diff Recovery=%{y}<extra></extra>",
         "legendgroup": "3",
         "line": {
          "color": "#ab63fa",
          "dash": "solid"
         },
         "marker": {
          "symbol": "circle"
         },
         "mode": "lines",
         "name": "3",
         "orientation": "v",
         "showlegend": true,
         "type": "scatter",
         "x": [
          0,
          1,
          2,
          3,
          4,
          5,
          6,
          7,
          8,
          9,
          10,
          11,
          12,
          13,
          14,
          15,
          16,
          17
         ],
         "xaxis": "x",
         "y": [
          0,
          0,
          0.4223386347293854,
          0.03828858956694603,
          0.09452345222234726,
          0.13569025695323944,
          0.019376656040549278,
          0.0045317248441278934,
          0.023530786857008934,
          -0.01838330179452896,
          0.0158463716506958,
          0.01726333610713482,
          0.09528955817222595,
          0.023818498477339745,
          0.01393302995711565,
          0.0363897830247879,
          0.05900410935282707,
          0.03293561935424805
         ],
         "yaxis": "y"
        },
        {
         "hovertemplate": "batch=4<br>Layer=%{x}<br>Logprob Diff Recovery=%{y}<extra></extra>",
         "legendgroup": "4",
         "line": {
          "color": "#FFA15A",
          "dash": "solid"
         },
         "marker": {
          "symbol": "circle"
         },
         "mode": "lines",
         "name": "4",
         "orientation": "v",
         "showlegend": true,
         "type": "scatter",
         "x": [
          0,
          1,
          2,
          3,
          4,
          5,
          6,
          7,
          8,
          9,
          10,
          11,
          12,
          13,
          14,
          15,
          16,
          17
         ],
         "xaxis": "x",
         "y": [
          0,
          0,
          0.38765761256217957,
          0.06568444520235062,
          0.23885072767734528,
          0.2234864979982376,
          -0.04814710095524788,
          -0.0226873941719532,
          0.03858758509159088,
          0.016475697979331017,
          -0.02056380733847618,
          0.0385824516415596,
          0.0719994455575943,
          0.08287665992975235,
          -0.3767838478088379,
          0.008037845604121685,
          -0.24693076312541962,
          0.113497793674469
         ],
         "yaxis": "y"
        },
        {
         "hovertemplate": "batch=5<br>Layer=%{x}<br>Logprob Diff Recovery=%{y}<extra></extra>",
         "legendgroup": "5",
         "line": {
          "color": "#19d3f3",
          "dash": "solid"
         },
         "marker": {
          "symbol": "circle"
         },
         "mode": "lines",
         "name": "5",
         "orientation": "v",
         "showlegend": true,
         "type": "scatter",
         "x": [
          0,
          1,
          2,
          3,
          4,
          5,
          6,
          7,
          8,
          9,
          10,
          11,
          12,
          13,
          14,
          15,
          16,
          17
         ],
         "xaxis": "x",
         "y": [
          0,
          0,
          0.4152689278125763,
          0.09268195182085037,
          0.16200973093509674,
          0.11013362556695938,
          0.05004590004682541,
          -0.009176121093332767,
          0.016590753570199013,
          -0.020964395254850388,
          -0.008544746786355972,
          0.04320213943719864,
          0.07435603439807892,
          0.036411017179489136,
          0.05696144700050354,
          0.07996063679456711,
          0.021569106727838516,
          -0.02753639779984951
         ],
         "yaxis": "y"
        },
        {
         "hovertemplate": "batch=6<br>Layer=%{x}<br>Logprob Diff Recovery=%{y}<extra></extra>",
         "legendgroup": "6",
         "line": {
          "color": "#FF6692",
          "dash": "solid"
         },
         "marker": {
          "symbol": "circle"
         },
         "mode": "lines",
         "name": "6",
         "orientation": "v",
         "showlegend": true,
         "type": "scatter",
         "x": [
          0,
          1,
          2,
          3,
          4,
          5,
          6,
          7,
          8,
          9,
          10,
          11,
          12,
          13,
          14,
          15,
          16,
          17
         ],
         "xaxis": "x",
         "y": [
          0,
          0,
          0.2203601598739624,
          0.08507099747657776,
          0.1441546231508255,
          0.12884365022182465,
          0.004054076969623566,
          0.06456934660673141,
          0.009923341684043407,
          0.009038413874804974,
          0.024665866047143936,
          0.032997675240039825,
          0.10063064098358154,
          0.03722772002220154,
          0.0020980939734727144,
          0.05296718701720238,
          0.053888797760009766,
          0.05544741079211235
         ],
         "yaxis": "y"
        },
        {
         "hovertemplate": "batch=7<br>Layer=%{x}<br>Logprob Diff Recovery=%{y}<extra></extra>",
         "legendgroup": "7",
         "line": {
          "color": "#B6E880",
          "dash": "solid"
         },
         "marker": {
          "symbol": "circle"
         },
         "mode": "lines",
         "name": "7",
         "orientation": "v",
         "showlegend": true,
         "type": "scatter",
         "x": [
          0,
          1,
          2,
          3,
          4,
          5,
          6,
          7,
          8,
          9,
          10,
          11,
          12,
          13,
          14,
          15,
          16,
          17
         ],
         "xaxis": "x",
         "y": [
          0,
          0,
          0.4881610572338104,
          0.06483157724142075,
          0.08138087391853333,
          0.14926765859127045,
          -0.03709917515516281,
          -0.002937157405540347,
          0.05289027839899063,
          -0.0027369377203285694,
          0.015522941946983337,
          0.05242009460926056,
          0.062035251408815384,
          0.050842586904764175,
          0.06362111121416092,
          -0.02511592023074627,
          -0.007460106164216995,
          0.20475244522094727
         ],
         "yaxis": "y"
        },
        {
         "hovertemplate": "batch=8<br>Layer=%{x}<br>Logprob Diff Recovery=%{y}<extra></extra>",
         "legendgroup": "8",
         "line": {
          "color": "#FF97FF",
          "dash": "solid"
         },
         "marker": {
          "symbol": "circle"
         },
         "mode": "lines",
         "name": "8",
         "orientation": "v",
         "showlegend": true,
         "type": "scatter",
         "x": [
          0,
          1,
          2,
          3,
          4,
          5,
          6,
          7,
          8,
          9,
          10,
          11,
          12,
          13,
          14,
          15,
          16,
          17
         ],
         "xaxis": "x",
         "y": [
          0,
          0,
          0.6412374377250671,
          0.09936902672052383,
          0.03380290046334267,
          0.25529155135154724,
          0.024934928864240646,
          0.09575155377388,
          0.0726744756102562,
          0.027521375566720963,
          -0.0234058890491724,
          0.08178229629993439,
          0.11816301196813583,
          0.07578330487012863,
          0.11593750864267349,
          0.022852329537272453,
          0.038867413997650146,
          0.3772279620170593
         ],
         "yaxis": "y"
        },
        {
         "hovertemplate": "batch=9<br>Layer=%{x}<br>Logprob Diff Recovery=%{y}<extra></extra>",
         "legendgroup": "9",
         "line": {
          "color": "#FECB52",
          "dash": "solid"
         },
         "marker": {
          "symbol": "circle"
         },
         "mode": "lines",
         "name": "9",
         "orientation": "v",
         "showlegend": true,
         "type": "scatter",
         "x": [
          0,
          1,
          2,
          3,
          4,
          5,
          6,
          7,
          8,
          9,
          10,
          11,
          12,
          13,
          14,
          15,
          16,
          17
         ],
         "xaxis": "x",
         "y": [
          0,
          0,
          0.41194719076156616,
          0.12414320558309555,
          0.08652450144290924,
          0.10988487303256989,
          0.019908636808395386,
          0.0002455230278428644,
          0.01673264242708683,
          0.0009976982837542892,
          -0.02020793780684471,
          0.007708826567977667,
          0.09262321889400482,
          0.01952514424920082,
          0.05136490985751152,
          0.042358189821243286,
          0.06024250388145447,
          0.05123857036232948
         ],
         "yaxis": "y"
        },
        {
         "hovertemplate": "batch=10<br>Layer=%{x}<br>Logprob Diff Recovery=%{y}<extra></extra>",
         "legendgroup": "10",
         "line": {
          "color": "#636efa",
          "dash": "solid"
         },
         "marker": {
          "symbol": "circle"
         },
         "mode": "lines",
         "name": "10",
         "orientation": "v",
         "showlegend": true,
         "type": "scatter",
         "x": [
          0,
          1,
          2,
          3,
          4,
          5,
          6,
          7,
          8,
          9,
          10,
          11,
          12,
          13,
          14,
          15,
          16,
          17
         ],
         "xaxis": "x",
         "y": [
          0,
          0,
          0.35247668623924255,
          0.0512998104095459,
          0.043186254799366,
          0.09264127910137177,
          -0.01142825372517109,
          -0.004817352630198002,
          0.017303984612226486,
          -0.01899053528904915,
          0.01909037120640278,
          0.034196432679891586,
          0.07109576463699341,
          0.02972334809601307,
          0.044758137315511703,
          0.03358855098485947,
          0.0766698569059372,
          0.13527753949165344
         ],
         "yaxis": "y"
        },
        {
         "hovertemplate": "batch=11<br>Layer=%{x}<br>Logprob Diff Recovery=%{y}<extra></extra>",
         "legendgroup": "11",
         "line": {
          "color": "#EF553B",
          "dash": "solid"
         },
         "marker": {
          "symbol": "circle"
         },
         "mode": "lines",
         "name": "11",
         "orientation": "v",
         "showlegend": true,
         "type": "scatter",
         "x": [
          0,
          1,
          2,
          3,
          4,
          5,
          6,
          7,
          8,
          9,
          10,
          11,
          12,
          13,
          14,
          15,
          16,
          17
         ],
         "xaxis": "x",
         "y": [
          0,
          0,
          0.37476325035095215,
          0.028728675097227097,
          0.0161940585821867,
          -0.0032040735241025686,
          0.01439181249588728,
          0.007031282875686884,
          0.013280411250889301,
          -0.014954986050724983,
          -0.008992274291813374,
          0.013427947647869587,
          0.053427014499902725,
          0.014991437084972858,
          0.03747417405247688,
          0.02242095023393631,
          0.05742645636200905,
          0.10524725168943405
         ],
         "yaxis": "y"
        },
        {
         "hovertemplate": "batch=12<br>Layer=%{x}<br>Logprob Diff Recovery=%{y}<extra></extra>",
         "legendgroup": "12",
         "line": {
          "color": "#00cc96",
          "dash": "solid"
         },
         "marker": {
          "symbol": "circle"
         },
         "mode": "lines",
         "name": "12",
         "orientation": "v",
         "showlegend": true,
         "type": "scatter",
         "x": [
          0,
          1,
          2,
          3,
          4,
          5,
          6,
          7,
          8,
          9,
          10,
          11,
          12,
          13,
          14,
          15,
          16,
          17
         ],
         "xaxis": "x",
         "y": [
          0,
          0,
          0.35879310965538025,
          0.008761925622820854,
          0.05004878714680672,
          0.04072176292538643,
          -0.015461551956832409,
          0.006989393383264542,
          0.05342346802353859,
          0.009544401429593563,
          0.03614670783281326,
          0.053402286022901535,
          0.06035090237855911,
          0.04211517423391342,
          0.031857628375291824,
          0.006924591027200222,
          0.03983718156814575,
          0.22067393362522125
         ],
         "yaxis": "y"
        },
        {
         "hovertemplate": "batch=13<br>Layer=%{x}<br>Logprob Diff Recovery=%{y}<extra></extra>",
         "legendgroup": "13",
         "line": {
          "color": "#ab63fa",
          "dash": "solid"
         },
         "marker": {
          "symbol": "circle"
         },
         "mode": "lines",
         "name": "13",
         "orientation": "v",
         "showlegend": true,
         "type": "scatter",
         "x": [
          0,
          1,
          2,
          3,
          4,
          5,
          6,
          7,
          8,
          9,
          10,
          11,
          12,
          13,
          14,
          15,
          16,
          17
         ],
         "xaxis": "x",
         "y": [
          0,
          0,
          0.3530544638633728,
          0.12969043850898743,
          0.12775081396102905,
          0.17004938423633575,
          0.04587211832404137,
          -0.008557558991014957,
          0.02494531311094761,
          0.008905548602342606,
          -0.0074958354234695435,
          0.05889039486646652,
          0.08481533825397491,
          0.07112978398799896,
          0.07372970134019852,
          0.0554790236055851,
          0.0703793540596962,
          0.14226195216178894
         ],
         "yaxis": "y"
        },
        {
         "hovertemplate": "batch=14<br>Layer=%{x}<br>Logprob Diff Recovery=%{y}<extra></extra>",
         "legendgroup": "14",
         "line": {
          "color": "#FFA15A",
          "dash": "solid"
         },
         "marker": {
          "symbol": "circle"
         },
         "mode": "lines",
         "name": "14",
         "orientation": "v",
         "showlegend": true,
         "type": "scatter",
         "x": [
          0,
          1,
          2,
          3,
          4,
          5,
          6,
          7,
          8,
          9,
          10,
          11,
          12,
          13,
          14,
          15,
          16,
          17
         ],
         "xaxis": "x",
         "y": [
          0,
          0,
          -0.14177463948726654,
          -0.05790580436587334,
          -0.0692548155784607,
          0.022291071712970734,
          0.092115119099617,
          -0.021635692566633224,
          -0.00797659158706665,
          -0.04070739075541496,
          0.03357671946287155,
          0.03373913839459419,
          0.0462312288582325,
          -0.00644739530980587,
          -0.026780834421515465,
          -0.011233234778046608,
          0.010597608052194118,
          -0.0774950459599495
         ],
         "yaxis": "y"
        },
        {
         "hovertemplate": "batch=15<br>Layer=%{x}<br>Logprob Diff Recovery=%{y}<extra></extra>",
         "legendgroup": "15",
         "line": {
          "color": "#19d3f3",
          "dash": "solid"
         },
         "marker": {
          "symbol": "circle"
         },
         "mode": "lines",
         "name": "15",
         "orientation": "v",
         "showlegend": true,
         "type": "scatter",
         "x": [
          0,
          1,
          2,
          3,
          4,
          5,
          6,
          7,
          8,
          9,
          10,
          11,
          12,
          13,
          14,
          15,
          16,
          17
         ],
         "xaxis": "x",
         "y": [
          0,
          0,
          -0.18828366696834564,
          0.02631543017923832,
          0.18876326084136963,
          0.04005458205938339,
          -0.05799676850438118,
          0.14646315574645996,
          0.0336148664355278,
          0.08417462557554245,
          -0.010575084015727043,
          -0.05769215524196625,
          -0.0058355373330414295,
          0.04009636864066124,
          0.16287803649902344,
          -0.00589043227955699,
          -0.05328422039747238,
          0.07191057503223419
         ],
         "yaxis": "y"
        },
        {
         "hovertemplate": "batch=16<br>Layer=%{x}<br>Logprob Diff Recovery=%{y}<extra></extra>",
         "legendgroup": "16",
         "line": {
          "color": "#FF6692",
          "dash": "solid"
         },
         "marker": {
          "symbol": "circle"
         },
         "mode": "lines",
         "name": "16",
         "orientation": "v",
         "showlegend": true,
         "type": "scatter",
         "x": [
          0,
          1,
          2,
          3,
          4,
          5,
          6,
          7,
          8,
          9,
          10,
          11,
          12,
          13,
          14,
          15,
          16,
          17
         ],
         "xaxis": "x",
         "y": [
          0,
          0,
          0.21501004695892334,
          0.11864043772220612,
          0.06461408734321594,
          0.14852063357830048,
          -0.025430090725421906,
          -0.015643807128071785,
          0.053896721452474594,
          -0.01588742434978485,
          -0.010813107714056969,
          -0.01926613040268421,
          0.12786220014095306,
          0.02822829969227314,
          -0.0021419404074549675,
          0.05210741609334946,
          0.027135848999023438,
          0.09481550753116608
         ],
         "yaxis": "y"
        },
        {
         "hovertemplate": "batch=17<br>Layer=%{x}<br>Logprob Diff Recovery=%{y}<extra></extra>",
         "legendgroup": "17",
         "line": {
          "color": "#B6E880",
          "dash": "solid"
         },
         "marker": {
          "symbol": "circle"
         },
         "mode": "lines",
         "name": "17",
         "orientation": "v",
         "showlegend": true,
         "type": "scatter",
         "x": [
          0,
          1,
          2,
          3,
          4,
          5,
          6,
          7,
          8,
          9,
          10,
          11,
          12,
          13,
          14,
          15,
          16,
          17
         ],
         "xaxis": "x",
         "y": [
          0,
          0,
          0.38407787680625916,
          0.2230093777179718,
          0.20965856313705444,
          0.09230320900678635,
          0.08476772904396057,
          -0.011047598905861378,
          -0.027336960658431053,
          0.011816169135272503,
          -0.02478543110191822,
          -0.031145133078098297,
          0.09748286008834839,
          0.03441844508051872,
          -0.008985808119177818,
          0.10217847675085068,
          0.04263259470462799,
          0.03899352625012398
         ],
         "yaxis": "y"
        },
        {
         "hovertemplate": "batch=18<br>Layer=%{x}<br>Logprob Diff Recovery=%{y}<extra></extra>",
         "legendgroup": "18",
         "line": {
          "color": "#FF97FF",
          "dash": "solid"
         },
         "marker": {
          "symbol": "circle"
         },
         "mode": "lines",
         "name": "18",
         "orientation": "v",
         "showlegend": true,
         "type": "scatter",
         "x": [
          0,
          1,
          2,
          3,
          4,
          5,
          6,
          7,
          8,
          9,
          10,
          11,
          12,
          13,
          14,
          15,
          16,
          17
         ],
         "xaxis": "x",
         "y": [
          0,
          0,
          0.3266509771347046,
          0.02127424255013466,
          0.06356944143772125,
          -0.001569368876516819,
          0.05107307806611061,
          0.01398291252553463,
          -0.0004236355016473681,
          0.008539531379938126,
          -0.024118047207593918,
          -0.024541212245821953,
          0.023264659568667412,
          0.009390097111463547,
          0.11819065362215042,
          0.03361402451992035,
          0.01590309478342533,
          0.18747206032276154
         ],
         "yaxis": "y"
        },
        {
         "hovertemplate": "batch=19<br>Layer=%{x}<br>Logprob Diff Recovery=%{y}<extra></extra>",
         "legendgroup": "19",
         "line": {
          "color": "#FECB52",
          "dash": "solid"
         },
         "marker": {
          "symbol": "circle"
         },
         "mode": "lines",
         "name": "19",
         "orientation": "v",
         "showlegend": true,
         "type": "scatter",
         "x": [
          0,
          1,
          2,
          3,
          4,
          5,
          6,
          7,
          8,
          9,
          10,
          11,
          12,
          13,
          14,
          15,
          16,
          17
         ],
         "xaxis": "x",
         "y": [
          0,
          0,
          0.4296186864376068,
          -0.015613689087331295,
          0.05605335533618927,
          0.07292152941226959,
          0.02175070345401764,
          0.0028809739742428064,
          0.015016203746199608,
          -0.0056066568940877914,
          -0.0006461128359660506,
          0.027254819869995117,
          0.06044040992856026,
          0.010194037109613419,
          0.03147263079881668,
          0.052556607872247696,
          0.05267246812582016,
          0.13448354601860046
         ],
         "yaxis": "y"
        }
       ],
       "layout": {
        "height": 600,
        "legend": {
         "title": {
          "text": "batch"
         },
         "tracegroupgap": 0
        },
        "shapes": [
         {
          "line": {
           "color": "black",
           "dash": "dot"
          },
          "type": "line",
          "x0": 0,
          "x1": 1,
          "xref": "x domain",
          "y0": 0,
          "y1": 0,
          "yref": "y"
         }
        ],
        "template": {
         "data": {
          "bar": [
           {
            "error_x": {
             "color": "#2a3f5f"
            },
            "error_y": {
             "color": "#2a3f5f"
            },
            "marker": {
             "line": {
              "color": "#E5ECF6",
              "width": 0.5
             },
             "pattern": {
              "fillmode": "overlay",
              "size": 10,
              "solidity": 0.2
             }
            },
            "type": "bar"
           }
          ],
          "barpolar": [
           {
            "marker": {
             "line": {
              "color": "#E5ECF6",
              "width": 0.5
             },
             "pattern": {
              "fillmode": "overlay",
              "size": 10,
              "solidity": 0.2
             }
            },
            "type": "barpolar"
           }
          ],
          "carpet": [
           {
            "aaxis": {
             "endlinecolor": "#2a3f5f",
             "gridcolor": "white",
             "linecolor": "white",
             "minorgridcolor": "white",
             "startlinecolor": "#2a3f5f"
            },
            "baxis": {
             "endlinecolor": "#2a3f5f",
             "gridcolor": "white",
             "linecolor": "white",
             "minorgridcolor": "white",
             "startlinecolor": "#2a3f5f"
            },
            "type": "carpet"
           }
          ],
          "choropleth": [
           {
            "colorbar": {
             "outlinewidth": 0,
             "ticks": ""
            },
            "type": "choropleth"
           }
          ],
          "contour": [
           {
            "colorbar": {
             "outlinewidth": 0,
             "ticks": ""
            },
            "colorscale": [
             [
              0,
              "#0d0887"
             ],
             [
              0.1111111111111111,
              "#46039f"
             ],
             [
              0.2222222222222222,
              "#7201a8"
             ],
             [
              0.3333333333333333,
              "#9c179e"
             ],
             [
              0.4444444444444444,
              "#bd3786"
             ],
             [
              0.5555555555555556,
              "#d8576b"
             ],
             [
              0.6666666666666666,
              "#ed7953"
             ],
             [
              0.7777777777777778,
              "#fb9f3a"
             ],
             [
              0.8888888888888888,
              "#fdca26"
             ],
             [
              1,
              "#f0f921"
             ]
            ],
            "type": "contour"
           }
          ],
          "contourcarpet": [
           {
            "colorbar": {
             "outlinewidth": 0,
             "ticks": ""
            },
            "type": "contourcarpet"
           }
          ],
          "heatmap": [
           {
            "colorbar": {
             "outlinewidth": 0,
             "ticks": ""
            },
            "colorscale": [
             [
              0,
              "#0d0887"
             ],
             [
              0.1111111111111111,
              "#46039f"
             ],
             [
              0.2222222222222222,
              "#7201a8"
             ],
             [
              0.3333333333333333,
              "#9c179e"
             ],
             [
              0.4444444444444444,
              "#bd3786"
             ],
             [
              0.5555555555555556,
              "#d8576b"
             ],
             [
              0.6666666666666666,
              "#ed7953"
             ],
             [
              0.7777777777777778,
              "#fb9f3a"
             ],
             [
              0.8888888888888888,
              "#fdca26"
             ],
             [
              1,
              "#f0f921"
             ]
            ],
            "type": "heatmap"
           }
          ],
          "heatmapgl": [
           {
            "colorbar": {
             "outlinewidth": 0,
             "ticks": ""
            },
            "colorscale": [
             [
              0,
              "#0d0887"
             ],
             [
              0.1111111111111111,
              "#46039f"
             ],
             [
              0.2222222222222222,
              "#7201a8"
             ],
             [
              0.3333333333333333,
              "#9c179e"
             ],
             [
              0.4444444444444444,
              "#bd3786"
             ],
             [
              0.5555555555555556,
              "#d8576b"
             ],
             [
              0.6666666666666666,
              "#ed7953"
             ],
             [
              0.7777777777777778,
              "#fb9f3a"
             ],
             [
              0.8888888888888888,
              "#fdca26"
             ],
             [
              1,
              "#f0f921"
             ]
            ],
            "type": "heatmapgl"
           }
          ],
          "histogram": [
           {
            "marker": {
             "pattern": {
              "fillmode": "overlay",
              "size": 10,
              "solidity": 0.2
             }
            },
            "type": "histogram"
           }
          ],
          "histogram2d": [
           {
            "colorbar": {
             "outlinewidth": 0,
             "ticks": ""
            },
            "colorscale": [
             [
              0,
              "#0d0887"
             ],
             [
              0.1111111111111111,
              "#46039f"
             ],
             [
              0.2222222222222222,
              "#7201a8"
             ],
             [
              0.3333333333333333,
              "#9c179e"
             ],
             [
              0.4444444444444444,
              "#bd3786"
             ],
             [
              0.5555555555555556,
              "#d8576b"
             ],
             [
              0.6666666666666666,
              "#ed7953"
             ],
             [
              0.7777777777777778,
              "#fb9f3a"
             ],
             [
              0.8888888888888888,
              "#fdca26"
             ],
             [
              1,
              "#f0f921"
             ]
            ],
            "type": "histogram2d"
           }
          ],
          "histogram2dcontour": [
           {
            "colorbar": {
             "outlinewidth": 0,
             "ticks": ""
            },
            "colorscale": [
             [
              0,
              "#0d0887"
             ],
             [
              0.1111111111111111,
              "#46039f"
             ],
             [
              0.2222222222222222,
              "#7201a8"
             ],
             [
              0.3333333333333333,
              "#9c179e"
             ],
             [
              0.4444444444444444,
              "#bd3786"
             ],
             [
              0.5555555555555556,
              "#d8576b"
             ],
             [
              0.6666666666666666,
              "#ed7953"
             ],
             [
              0.7777777777777778,
              "#fb9f3a"
             ],
             [
              0.8888888888888888,
              "#fdca26"
             ],
             [
              1,
              "#f0f921"
             ]
            ],
            "type": "histogram2dcontour"
           }
          ],
          "mesh3d": [
           {
            "colorbar": {
             "outlinewidth": 0,
             "ticks": ""
            },
            "type": "mesh3d"
           }
          ],
          "parcoords": [
           {
            "line": {
             "colorbar": {
              "outlinewidth": 0,
              "ticks": ""
             }
            },
            "type": "parcoords"
           }
          ],
          "pie": [
           {
            "automargin": true,
            "type": "pie"
           }
          ],
          "scatter": [
           {
            "fillpattern": {
             "fillmode": "overlay",
             "size": 10,
             "solidity": 0.2
            },
            "type": "scatter"
           }
          ],
          "scatter3d": [
           {
            "line": {
             "colorbar": {
              "outlinewidth": 0,
              "ticks": ""
             }
            },
            "marker": {
             "colorbar": {
              "outlinewidth": 0,
              "ticks": ""
             }
            },
            "type": "scatter3d"
           }
          ],
          "scattercarpet": [
           {
            "marker": {
             "colorbar": {
              "outlinewidth": 0,
              "ticks": ""
             }
            },
            "type": "scattercarpet"
           }
          ],
          "scattergeo": [
           {
            "marker": {
             "colorbar": {
              "outlinewidth": 0,
              "ticks": ""
             }
            },
            "type": "scattergeo"
           }
          ],
          "scattergl": [
           {
            "marker": {
             "colorbar": {
              "outlinewidth": 0,
              "ticks": ""
             }
            },
            "type": "scattergl"
           }
          ],
          "scattermapbox": [
           {
            "marker": {
             "colorbar": {
              "outlinewidth": 0,
              "ticks": ""
             }
            },
            "type": "scattermapbox"
           }
          ],
          "scatterpolar": [
           {
            "marker": {
             "colorbar": {
              "outlinewidth": 0,
              "ticks": ""
             }
            },
            "type": "scatterpolar"
           }
          ],
          "scatterpolargl": [
           {
            "marker": {
             "colorbar": {
              "outlinewidth": 0,
              "ticks": ""
             }
            },
            "type": "scatterpolargl"
           }
          ],
          "scatterternary": [
           {
            "marker": {
             "colorbar": {
              "outlinewidth": 0,
              "ticks": ""
             }
            },
            "type": "scatterternary"
           }
          ],
          "surface": [
           {
            "colorbar": {
             "outlinewidth": 0,
             "ticks": ""
            },
            "colorscale": [
             [
              0,
              "#0d0887"
             ],
             [
              0.1111111111111111,
              "#46039f"
             ],
             [
              0.2222222222222222,
              "#7201a8"
             ],
             [
              0.3333333333333333,
              "#9c179e"
             ],
             [
              0.4444444444444444,
              "#bd3786"
             ],
             [
              0.5555555555555556,
              "#d8576b"
             ],
             [
              0.6666666666666666,
              "#ed7953"
             ],
             [
              0.7777777777777778,
              "#fb9f3a"
             ],
             [
              0.8888888888888888,
              "#fdca26"
             ],
             [
              1,
              "#f0f921"
             ]
            ],
            "type": "surface"
           }
          ],
          "table": [
           {
            "cells": {
             "fill": {
              "color": "#EBF0F8"
             },
             "line": {
              "color": "white"
             }
            },
            "header": {
             "fill": {
              "color": "#C8D4E3"
             },
             "line": {
              "color": "white"
             }
            },
            "type": "table"
           }
          ]
         },
         "layout": {
          "annotationdefaults": {
           "arrowcolor": "#2a3f5f",
           "arrowhead": 0,
           "arrowwidth": 1
          },
          "autotypenumbers": "strict",
          "coloraxis": {
           "colorbar": {
            "outlinewidth": 0,
            "ticks": ""
           }
          },
          "colorscale": {
           "diverging": [
            [
             0,
             "#8e0152"
            ],
            [
             0.1,
             "#c51b7d"
            ],
            [
             0.2,
             "#de77ae"
            ],
            [
             0.3,
             "#f1b6da"
            ],
            [
             0.4,
             "#fde0ef"
            ],
            [
             0.5,
             "#f7f7f7"
            ],
            [
             0.6,
             "#e6f5d0"
            ],
            [
             0.7,
             "#b8e186"
            ],
            [
             0.8,
             "#7fbc41"
            ],
            [
             0.9,
             "#4d9221"
            ],
            [
             1,
             "#276419"
            ]
           ],
           "sequential": [
            [
             0,
             "#0d0887"
            ],
            [
             0.1111111111111111,
             "#46039f"
            ],
            [
             0.2222222222222222,
             "#7201a8"
            ],
            [
             0.3333333333333333,
             "#9c179e"
            ],
            [
             0.4444444444444444,
             "#bd3786"
            ],
            [
             0.5555555555555556,
             "#d8576b"
            ],
            [
             0.6666666666666666,
             "#ed7953"
            ],
            [
             0.7777777777777778,
             "#fb9f3a"
            ],
            [
             0.8888888888888888,
             "#fdca26"
            ],
            [
             1,
             "#f0f921"
            ]
           ],
           "sequentialminus": [
            [
             0,
             "#0d0887"
            ],
            [
             0.1111111111111111,
             "#46039f"
            ],
            [
             0.2222222222222222,
             "#7201a8"
            ],
            [
             0.3333333333333333,
             "#9c179e"
            ],
            [
             0.4444444444444444,
             "#bd3786"
            ],
            [
             0.5555555555555556,
             "#d8576b"
            ],
            [
             0.6666666666666666,
             "#ed7953"
            ],
            [
             0.7777777777777778,
             "#fb9f3a"
            ],
            [
             0.8888888888888888,
             "#fdca26"
            ],
            [
             1,
             "#f0f921"
            ]
           ]
          },
          "colorway": [
           "#636efa",
           "#EF553B",
           "#00cc96",
           "#ab63fa",
           "#FFA15A",
           "#19d3f3",
           "#FF6692",
           "#B6E880",
           "#FF97FF",
           "#FECB52"
          ],
          "font": {
           "color": "#2a3f5f"
          },
          "geo": {
           "bgcolor": "white",
           "lakecolor": "white",
           "landcolor": "#E5ECF6",
           "showlakes": true,
           "showland": true,
           "subunitcolor": "white"
          },
          "hoverlabel": {
           "align": "left"
          },
          "hovermode": "closest",
          "mapbox": {
           "style": "light"
          },
          "paper_bgcolor": "white",
          "plot_bgcolor": "#E5ECF6",
          "polar": {
           "angularaxis": {
            "gridcolor": "white",
            "linecolor": "white",
            "ticks": ""
           },
           "bgcolor": "#E5ECF6",
           "radialaxis": {
            "gridcolor": "white",
            "linecolor": "white",
            "ticks": ""
           }
          },
          "scene": {
           "xaxis": {
            "backgroundcolor": "#E5ECF6",
            "gridcolor": "white",
            "gridwidth": 2,
            "linecolor": "white",
            "showbackground": true,
            "ticks": "",
            "zerolinecolor": "white"
           },
           "yaxis": {
            "backgroundcolor": "#E5ECF6",
            "gridcolor": "white",
            "gridwidth": 2,
            "linecolor": "white",
            "showbackground": true,
            "ticks": "",
            "zerolinecolor": "white"
           },
           "zaxis": {
            "backgroundcolor": "#E5ECF6",
            "gridcolor": "white",
            "gridwidth": 2,
            "linecolor": "white",
            "showbackground": true,
            "ticks": "",
            "zerolinecolor": "white"
           }
          },
          "shapedefaults": {
           "line": {
            "color": "#2a3f5f"
           }
          },
          "ternary": {
           "aaxis": {
            "gridcolor": "white",
            "linecolor": "white",
            "ticks": ""
           },
           "baxis": {
            "gridcolor": "white",
            "linecolor": "white",
            "ticks": ""
           },
           "bgcolor": "#E5ECF6",
           "caxis": {
            "gridcolor": "white",
            "linecolor": "white",
            "ticks": ""
           }
          },
          "title": {
           "x": 0.05
          },
          "xaxis": {
           "automargin": true,
           "gridcolor": "white",
           "linecolor": "white",
           "ticks": "",
           "title": {
            "standoff": 15
           },
           "zerolinecolor": "white",
           "zerolinewidth": 2
          },
          "yaxis": {
           "automargin": true,
           "gridcolor": "white",
           "linecolor": "white",
           "ticks": "",
           "title": {
            "standoff": 15
           },
           "zerolinecolor": "white",
           "zerolinewidth": 2
          }
         }
        },
        "title": {
         "text": "Activation Patching Attn Block @ All Pos"
        },
        "width": 1500,
        "xaxis": {
         "anchor": "y",
         "domain": [
          0,
          1
         ],
         "tickmode": "array",
         "ticktext": [
          14,
          15,
          16,
          17,
          18,
          19,
          20,
          21,
          22,
          23,
          24,
          25,
          26,
          27,
          28,
          29,
          30,
          31
         ],
         "tickvals": [
          0,
          1,
          2,
          3,
          4,
          5,
          6,
          7,
          8,
          9,
          10,
          11,
          12,
          13,
          14,
          15,
          16,
          17
         ],
         "title": {
          "text": "Layer"
         }
        },
        "yaxis": {
         "anchor": "x",
         "domain": [
          0,
          1
         ],
         "title": {
          "text": "Logprob Diff Recovery"
         }
        }
       }
      },
      "text/html": [
       "<div>                            <div id=\"7d2bbe62-4076-49b1-b339-5b418b217f8a\" class=\"plotly-graph-div\" style=\"height:600px; width:1500px;\"></div>            <script type=\"text/javascript\">                require([\"plotly\"], function(Plotly) {                    window.PLOTLYENV=window.PLOTLYENV || {};                                    if (document.getElementById(\"7d2bbe62-4076-49b1-b339-5b418b217f8a\")) {                    Plotly.newPlot(                        \"7d2bbe62-4076-49b1-b339-5b418b217f8a\",                        [{\"hovertemplate\":\"batch=0<br>Layer=%{x}<br>Logprob Diff Recovery=%{y}<extra></extra>\",\"legendgroup\":\"0\",\"line\":{\"color\":\"#636efa\",\"dash\":\"solid\"},\"marker\":{\"symbol\":\"circle\"},\"mode\":\"lines\",\"name\":\"0\",\"orientation\":\"v\",\"showlegend\":true,\"x\":[0,1,2,3,4,5,6,7,8,9,10,11,12,13,14,15,16,17],\"xaxis\":\"x\",\"y\":[0.0,0.0,0.04808278754353523,0.06750143319368362,0.07212094962596893,0.21110592782497406,0.08273530006408691,0.02950979955494404,0.05240319296717644,-0.024955661967396736,-0.02110280841588974,-0.012064598500728607,0.07319468259811401,0.030120404437184334,0.031965840607881546,0.06831763684749603,0.02914256975054741,0.0849209800362587],\"yaxis\":\"y\",\"type\":\"scatter\"},{\"hovertemplate\":\"batch=1<br>Layer=%{x}<br>Logprob Diff Recovery=%{y}<extra></extra>\",\"legendgroup\":\"1\",\"line\":{\"color\":\"#EF553B\",\"dash\":\"solid\"},\"marker\":{\"symbol\":\"circle\"},\"mode\":\"lines\",\"name\":\"1\",\"orientation\":\"v\",\"showlegend\":true,\"x\":[0,1,2,3,4,5,6,7,8,9,10,11,12,13,14,15,16,17],\"xaxis\":\"x\",\"y\":[0.0,0.0,0.3706114888191223,0.0050460160709917545,0.15527121722698212,0.18344105780124664,0.028664564713835716,0.03311396390199661,0.011989563703536987,-0.006555869709700346,-0.001953696832060814,0.01936112903058529,0.1238037496805191,0.04327095299959183,0.04230113700032234,0.043379560112953186,-0.02311016246676445,0.03158910945057869],\"yaxis\":\"y\",\"type\":\"scatter\"},{\"hovertemplate\":\"batch=2<br>Layer=%{x}<br>Logprob Diff Recovery=%{y}<extra></extra>\",\"legendgroup\":\"2\",\"line\":{\"color\":\"#00cc96\",\"dash\":\"solid\"},\"marker\":{\"symbol\":\"circle\"},\"mode\":\"lines\",\"name\":\"2\",\"orientation\":\"v\",\"showlegend\":true,\"x\":[0,1,2,3,4,5,6,7,8,9,10,11,12,13,14,15,16,17],\"xaxis\":\"x\",\"y\":[-0.0,-0.0,-0.583588719367981,-0.29934918880462646,-0.5303826928138733,0.4154154658317566,0.37930741906166077,-0.19220945239067078,-0.22385337948799133,-0.3323652744293213,0.28791722655296326,0.13331787288188934,0.05243249237537384,0.1408206671476364,-0.2901982069015503,0.030967414379119873,0.0913027748465538,-0.2951411008834839],\"yaxis\":\"y\",\"type\":\"scatter\"},{\"hovertemplate\":\"batch=3<br>Layer=%{x}<br>Logprob Diff Recovery=%{y}<extra></extra>\",\"legendgroup\":\"3\",\"line\":{\"color\":\"#ab63fa\",\"dash\":\"solid\"},\"marker\":{\"symbol\":\"circle\"},\"mode\":\"lines\",\"name\":\"3\",\"orientation\":\"v\",\"showlegend\":true,\"x\":[0,1,2,3,4,5,6,7,8,9,10,11,12,13,14,15,16,17],\"xaxis\":\"x\",\"y\":[0.0,0.0,0.4223386347293854,0.03828858956694603,0.09452345222234726,0.13569025695323944,0.019376656040549278,0.0045317248441278934,0.023530786857008934,-0.01838330179452896,0.0158463716506958,0.01726333610713482,0.09528955817222595,0.023818498477339745,0.01393302995711565,0.0363897830247879,0.05900410935282707,0.03293561935424805],\"yaxis\":\"y\",\"type\":\"scatter\"},{\"hovertemplate\":\"batch=4<br>Layer=%{x}<br>Logprob Diff Recovery=%{y}<extra></extra>\",\"legendgroup\":\"4\",\"line\":{\"color\":\"#FFA15A\",\"dash\":\"solid\"},\"marker\":{\"symbol\":\"circle\"},\"mode\":\"lines\",\"name\":\"4\",\"orientation\":\"v\",\"showlegend\":true,\"x\":[0,1,2,3,4,5,6,7,8,9,10,11,12,13,14,15,16,17],\"xaxis\":\"x\",\"y\":[0.0,0.0,0.38765761256217957,0.06568444520235062,0.23885072767734528,0.2234864979982376,-0.04814710095524788,-0.0226873941719532,0.03858758509159088,0.016475697979331017,-0.02056380733847618,0.0385824516415596,0.0719994455575943,0.08287665992975235,-0.3767838478088379,0.008037845604121685,-0.24693076312541962,0.113497793674469],\"yaxis\":\"y\",\"type\":\"scatter\"},{\"hovertemplate\":\"batch=5<br>Layer=%{x}<br>Logprob Diff Recovery=%{y}<extra></extra>\",\"legendgroup\":\"5\",\"line\":{\"color\":\"#19d3f3\",\"dash\":\"solid\"},\"marker\":{\"symbol\":\"circle\"},\"mode\":\"lines\",\"name\":\"5\",\"orientation\":\"v\",\"showlegend\":true,\"x\":[0,1,2,3,4,5,6,7,8,9,10,11,12,13,14,15,16,17],\"xaxis\":\"x\",\"y\":[0.0,0.0,0.4152689278125763,0.09268195182085037,0.16200973093509674,0.11013362556695938,0.05004590004682541,-0.009176121093332767,0.016590753570199013,-0.020964395254850388,-0.008544746786355972,0.04320213943719864,0.07435603439807892,0.036411017179489136,0.05696144700050354,0.07996063679456711,0.021569106727838516,-0.02753639779984951],\"yaxis\":\"y\",\"type\":\"scatter\"},{\"hovertemplate\":\"batch=6<br>Layer=%{x}<br>Logprob Diff Recovery=%{y}<extra></extra>\",\"legendgroup\":\"6\",\"line\":{\"color\":\"#FF6692\",\"dash\":\"solid\"},\"marker\":{\"symbol\":\"circle\"},\"mode\":\"lines\",\"name\":\"6\",\"orientation\":\"v\",\"showlegend\":true,\"x\":[0,1,2,3,4,5,6,7,8,9,10,11,12,13,14,15,16,17],\"xaxis\":\"x\",\"y\":[0.0,0.0,0.2203601598739624,0.08507099747657776,0.1441546231508255,0.12884365022182465,0.004054076969623566,0.06456934660673141,0.009923341684043407,0.009038413874804974,0.024665866047143936,0.032997675240039825,0.10063064098358154,0.03722772002220154,0.0020980939734727144,0.05296718701720238,0.053888797760009766,0.05544741079211235],\"yaxis\":\"y\",\"type\":\"scatter\"},{\"hovertemplate\":\"batch=7<br>Layer=%{x}<br>Logprob Diff Recovery=%{y}<extra></extra>\",\"legendgroup\":\"7\",\"line\":{\"color\":\"#B6E880\",\"dash\":\"solid\"},\"marker\":{\"symbol\":\"circle\"},\"mode\":\"lines\",\"name\":\"7\",\"orientation\":\"v\",\"showlegend\":true,\"x\":[0,1,2,3,4,5,6,7,8,9,10,11,12,13,14,15,16,17],\"xaxis\":\"x\",\"y\":[0.0,0.0,0.4881610572338104,0.06483157724142075,0.08138087391853333,0.14926765859127045,-0.03709917515516281,-0.002937157405540347,0.05289027839899063,-0.0027369377203285694,0.015522941946983337,0.05242009460926056,0.062035251408815384,0.050842586904764175,0.06362111121416092,-0.02511592023074627,-0.007460106164216995,0.20475244522094727],\"yaxis\":\"y\",\"type\":\"scatter\"},{\"hovertemplate\":\"batch=8<br>Layer=%{x}<br>Logprob Diff Recovery=%{y}<extra></extra>\",\"legendgroup\":\"8\",\"line\":{\"color\":\"#FF97FF\",\"dash\":\"solid\"},\"marker\":{\"symbol\":\"circle\"},\"mode\":\"lines\",\"name\":\"8\",\"orientation\":\"v\",\"showlegend\":true,\"x\":[0,1,2,3,4,5,6,7,8,9,10,11,12,13,14,15,16,17],\"xaxis\":\"x\",\"y\":[0.0,0.0,0.6412374377250671,0.09936902672052383,0.03380290046334267,0.25529155135154724,0.024934928864240646,0.09575155377388,0.0726744756102562,0.027521375566720963,-0.0234058890491724,0.08178229629993439,0.11816301196813583,0.07578330487012863,0.11593750864267349,0.022852329537272453,0.038867413997650146,0.3772279620170593],\"yaxis\":\"y\",\"type\":\"scatter\"},{\"hovertemplate\":\"batch=9<br>Layer=%{x}<br>Logprob Diff Recovery=%{y}<extra></extra>\",\"legendgroup\":\"9\",\"line\":{\"color\":\"#FECB52\",\"dash\":\"solid\"},\"marker\":{\"symbol\":\"circle\"},\"mode\":\"lines\",\"name\":\"9\",\"orientation\":\"v\",\"showlegend\":true,\"x\":[0,1,2,3,4,5,6,7,8,9,10,11,12,13,14,15,16,17],\"xaxis\":\"x\",\"y\":[0.0,0.0,0.41194719076156616,0.12414320558309555,0.08652450144290924,0.10988487303256989,0.019908636808395386,0.0002455230278428644,0.01673264242708683,0.0009976982837542892,-0.02020793780684471,0.007708826567977667,0.09262321889400482,0.01952514424920082,0.05136490985751152,0.042358189821243286,0.06024250388145447,0.05123857036232948],\"yaxis\":\"y\",\"type\":\"scatter\"},{\"hovertemplate\":\"batch=10<br>Layer=%{x}<br>Logprob Diff Recovery=%{y}<extra></extra>\",\"legendgroup\":\"10\",\"line\":{\"color\":\"#636efa\",\"dash\":\"solid\"},\"marker\":{\"symbol\":\"circle\"},\"mode\":\"lines\",\"name\":\"10\",\"orientation\":\"v\",\"showlegend\":true,\"x\":[0,1,2,3,4,5,6,7,8,9,10,11,12,13,14,15,16,17],\"xaxis\":\"x\",\"y\":[0.0,0.0,0.35247668623924255,0.0512998104095459,0.043186254799366,0.09264127910137177,-0.01142825372517109,-0.004817352630198002,0.017303984612226486,-0.01899053528904915,0.01909037120640278,0.034196432679891586,0.07109576463699341,0.02972334809601307,0.044758137315511703,0.03358855098485947,0.0766698569059372,0.13527753949165344],\"yaxis\":\"y\",\"type\":\"scatter\"},{\"hovertemplate\":\"batch=11<br>Layer=%{x}<br>Logprob Diff Recovery=%{y}<extra></extra>\",\"legendgroup\":\"11\",\"line\":{\"color\":\"#EF553B\",\"dash\":\"solid\"},\"marker\":{\"symbol\":\"circle\"},\"mode\":\"lines\",\"name\":\"11\",\"orientation\":\"v\",\"showlegend\":true,\"x\":[0,1,2,3,4,5,6,7,8,9,10,11,12,13,14,15,16,17],\"xaxis\":\"x\",\"y\":[0.0,0.0,0.37476325035095215,0.028728675097227097,0.0161940585821867,-0.0032040735241025686,0.01439181249588728,0.007031282875686884,0.013280411250889301,-0.014954986050724983,-0.008992274291813374,0.013427947647869587,0.053427014499902725,0.014991437084972858,0.03747417405247688,0.02242095023393631,0.05742645636200905,0.10524725168943405],\"yaxis\":\"y\",\"type\":\"scatter\"},{\"hovertemplate\":\"batch=12<br>Layer=%{x}<br>Logprob Diff Recovery=%{y}<extra></extra>\",\"legendgroup\":\"12\",\"line\":{\"color\":\"#00cc96\",\"dash\":\"solid\"},\"marker\":{\"symbol\":\"circle\"},\"mode\":\"lines\",\"name\":\"12\",\"orientation\":\"v\",\"showlegend\":true,\"x\":[0,1,2,3,4,5,6,7,8,9,10,11,12,13,14,15,16,17],\"xaxis\":\"x\",\"y\":[0.0,0.0,0.35879310965538025,0.008761925622820854,0.05004878714680672,0.04072176292538643,-0.015461551956832409,0.006989393383264542,0.05342346802353859,0.009544401429593563,0.03614670783281326,0.053402286022901535,0.06035090237855911,0.04211517423391342,0.031857628375291824,0.006924591027200222,0.03983718156814575,0.22067393362522125],\"yaxis\":\"y\",\"type\":\"scatter\"},{\"hovertemplate\":\"batch=13<br>Layer=%{x}<br>Logprob Diff Recovery=%{y}<extra></extra>\",\"legendgroup\":\"13\",\"line\":{\"color\":\"#ab63fa\",\"dash\":\"solid\"},\"marker\":{\"symbol\":\"circle\"},\"mode\":\"lines\",\"name\":\"13\",\"orientation\":\"v\",\"showlegend\":true,\"x\":[0,1,2,3,4,5,6,7,8,9,10,11,12,13,14,15,16,17],\"xaxis\":\"x\",\"y\":[0.0,0.0,0.3530544638633728,0.12969043850898743,0.12775081396102905,0.17004938423633575,0.04587211832404137,-0.008557558991014957,0.02494531311094761,0.008905548602342606,-0.0074958354234695435,0.05889039486646652,0.08481533825397491,0.07112978398799896,0.07372970134019852,0.0554790236055851,0.0703793540596962,0.14226195216178894],\"yaxis\":\"y\",\"type\":\"scatter\"},{\"hovertemplate\":\"batch=14<br>Layer=%{x}<br>Logprob Diff Recovery=%{y}<extra></extra>\",\"legendgroup\":\"14\",\"line\":{\"color\":\"#FFA15A\",\"dash\":\"solid\"},\"marker\":{\"symbol\":\"circle\"},\"mode\":\"lines\",\"name\":\"14\",\"orientation\":\"v\",\"showlegend\":true,\"x\":[0,1,2,3,4,5,6,7,8,9,10,11,12,13,14,15,16,17],\"xaxis\":\"x\",\"y\":[-0.0,-0.0,-0.14177463948726654,-0.05790580436587334,-0.0692548155784607,0.022291071712970734,0.092115119099617,-0.021635692566633224,-0.00797659158706665,-0.04070739075541496,0.03357671946287155,0.03373913839459419,0.0462312288582325,-0.00644739530980587,-0.026780834421515465,-0.011233234778046608,0.010597608052194118,-0.0774950459599495],\"yaxis\":\"y\",\"type\":\"scatter\"},{\"hovertemplate\":\"batch=15<br>Layer=%{x}<br>Logprob Diff Recovery=%{y}<extra></extra>\",\"legendgroup\":\"15\",\"line\":{\"color\":\"#19d3f3\",\"dash\":\"solid\"},\"marker\":{\"symbol\":\"circle\"},\"mode\":\"lines\",\"name\":\"15\",\"orientation\":\"v\",\"showlegend\":true,\"x\":[0,1,2,3,4,5,6,7,8,9,10,11,12,13,14,15,16,17],\"xaxis\":\"x\",\"y\":[0.0,0.0,-0.18828366696834564,0.02631543017923832,0.18876326084136963,0.04005458205938339,-0.05799676850438118,0.14646315574645996,0.0336148664355278,0.08417462557554245,-0.010575084015727043,-0.05769215524196625,-0.0058355373330414295,0.04009636864066124,0.16287803649902344,-0.00589043227955699,-0.05328422039747238,0.07191057503223419],\"yaxis\":\"y\",\"type\":\"scatter\"},{\"hovertemplate\":\"batch=16<br>Layer=%{x}<br>Logprob Diff Recovery=%{y}<extra></extra>\",\"legendgroup\":\"16\",\"line\":{\"color\":\"#FF6692\",\"dash\":\"solid\"},\"marker\":{\"symbol\":\"circle\"},\"mode\":\"lines\",\"name\":\"16\",\"orientation\":\"v\",\"showlegend\":true,\"x\":[0,1,2,3,4,5,6,7,8,9,10,11,12,13,14,15,16,17],\"xaxis\":\"x\",\"y\":[0.0,0.0,0.21501004695892334,0.11864043772220612,0.06461408734321594,0.14852063357830048,-0.025430090725421906,-0.015643807128071785,0.053896721452474594,-0.01588742434978485,-0.010813107714056969,-0.01926613040268421,0.12786220014095306,0.02822829969227314,-0.0021419404074549675,0.05210741609334946,0.027135848999023438,0.09481550753116608],\"yaxis\":\"y\",\"type\":\"scatter\"},{\"hovertemplate\":\"batch=17<br>Layer=%{x}<br>Logprob Diff Recovery=%{y}<extra></extra>\",\"legendgroup\":\"17\",\"line\":{\"color\":\"#B6E880\",\"dash\":\"solid\"},\"marker\":{\"symbol\":\"circle\"},\"mode\":\"lines\",\"name\":\"17\",\"orientation\":\"v\",\"showlegend\":true,\"x\":[0,1,2,3,4,5,6,7,8,9,10,11,12,13,14,15,16,17],\"xaxis\":\"x\",\"y\":[0.0,0.0,0.38407787680625916,0.2230093777179718,0.20965856313705444,0.09230320900678635,0.08476772904396057,-0.011047598905861378,-0.027336960658431053,0.011816169135272503,-0.02478543110191822,-0.031145133078098297,0.09748286008834839,0.03441844508051872,-0.008985808119177818,0.10217847675085068,0.04263259470462799,0.03899352625012398],\"yaxis\":\"y\",\"type\":\"scatter\"},{\"hovertemplate\":\"batch=18<br>Layer=%{x}<br>Logprob Diff Recovery=%{y}<extra></extra>\",\"legendgroup\":\"18\",\"line\":{\"color\":\"#FF97FF\",\"dash\":\"solid\"},\"marker\":{\"symbol\":\"circle\"},\"mode\":\"lines\",\"name\":\"18\",\"orientation\":\"v\",\"showlegend\":true,\"x\":[0,1,2,3,4,5,6,7,8,9,10,11,12,13,14,15,16,17],\"xaxis\":\"x\",\"y\":[0.0,0.0,0.3266509771347046,0.02127424255013466,0.06356944143772125,-0.001569368876516819,0.05107307806611061,0.01398291252553463,-0.0004236355016473681,0.008539531379938126,-0.024118047207593918,-0.024541212245821953,0.023264659568667412,0.009390097111463547,0.11819065362215042,0.03361402451992035,0.01590309478342533,0.18747206032276154],\"yaxis\":\"y\",\"type\":\"scatter\"},{\"hovertemplate\":\"batch=19<br>Layer=%{x}<br>Logprob Diff Recovery=%{y}<extra></extra>\",\"legendgroup\":\"19\",\"line\":{\"color\":\"#FECB52\",\"dash\":\"solid\"},\"marker\":{\"symbol\":\"circle\"},\"mode\":\"lines\",\"name\":\"19\",\"orientation\":\"v\",\"showlegend\":true,\"x\":[0,1,2,3,4,5,6,7,8,9,10,11,12,13,14,15,16,17],\"xaxis\":\"x\",\"y\":[0.0,0.0,0.4296186864376068,-0.015613689087331295,0.05605335533618927,0.07292152941226959,0.02175070345401764,0.0028809739742428064,0.015016203746199608,-0.0056066568940877914,-0.0006461128359660506,0.027254819869995117,0.06044040992856026,0.010194037109613419,0.03147263079881668,0.052556607872247696,0.05267246812582016,0.13448354601860046],\"yaxis\":\"y\",\"type\":\"scatter\"}],                        {\"template\":{\"data\":{\"histogram2dcontour\":[{\"type\":\"histogram2dcontour\",\"colorbar\":{\"outlinewidth\":0,\"ticks\":\"\"},\"colorscale\":[[0.0,\"#0d0887\"],[0.1111111111111111,\"#46039f\"],[0.2222222222222222,\"#7201a8\"],[0.3333333333333333,\"#9c179e\"],[0.4444444444444444,\"#bd3786\"],[0.5555555555555556,\"#d8576b\"],[0.6666666666666666,\"#ed7953\"],[0.7777777777777778,\"#fb9f3a\"],[0.8888888888888888,\"#fdca26\"],[1.0,\"#f0f921\"]]}],\"choropleth\":[{\"type\":\"choropleth\",\"colorbar\":{\"outlinewidth\":0,\"ticks\":\"\"}}],\"histogram2d\":[{\"type\":\"histogram2d\",\"colorbar\":{\"outlinewidth\":0,\"ticks\":\"\"},\"colorscale\":[[0.0,\"#0d0887\"],[0.1111111111111111,\"#46039f\"],[0.2222222222222222,\"#7201a8\"],[0.3333333333333333,\"#9c179e\"],[0.4444444444444444,\"#bd3786\"],[0.5555555555555556,\"#d8576b\"],[0.6666666666666666,\"#ed7953\"],[0.7777777777777778,\"#fb9f3a\"],[0.8888888888888888,\"#fdca26\"],[1.0,\"#f0f921\"]]}],\"heatmap\":[{\"type\":\"heatmap\",\"colorbar\":{\"outlinewidth\":0,\"ticks\":\"\"},\"colorscale\":[[0.0,\"#0d0887\"],[0.1111111111111111,\"#46039f\"],[0.2222222222222222,\"#7201a8\"],[0.3333333333333333,\"#9c179e\"],[0.4444444444444444,\"#bd3786\"],[0.5555555555555556,\"#d8576b\"],[0.6666666666666666,\"#ed7953\"],[0.7777777777777778,\"#fb9f3a\"],[0.8888888888888888,\"#fdca26\"],[1.0,\"#f0f921\"]]}],\"heatmapgl\":[{\"type\":\"heatmapgl\",\"colorbar\":{\"outlinewidth\":0,\"ticks\":\"\"},\"colorscale\":[[0.0,\"#0d0887\"],[0.1111111111111111,\"#46039f\"],[0.2222222222222222,\"#7201a8\"],[0.3333333333333333,\"#9c179e\"],[0.4444444444444444,\"#bd3786\"],[0.5555555555555556,\"#d8576b\"],[0.6666666666666666,\"#ed7953\"],[0.7777777777777778,\"#fb9f3a\"],[0.8888888888888888,\"#fdca26\"],[1.0,\"#f0f921\"]]}],\"contourcarpet\":[{\"type\":\"contourcarpet\",\"colorbar\":{\"outlinewidth\":0,\"ticks\":\"\"}}],\"contour\":[{\"type\":\"contour\",\"colorbar\":{\"outlinewidth\":0,\"ticks\":\"\"},\"colorscale\":[[0.0,\"#0d0887\"],[0.1111111111111111,\"#46039f\"],[0.2222222222222222,\"#7201a8\"],[0.3333333333333333,\"#9c179e\"],[0.4444444444444444,\"#bd3786\"],[0.5555555555555556,\"#d8576b\"],[0.6666666666666666,\"#ed7953\"],[0.7777777777777778,\"#fb9f3a\"],[0.8888888888888888,\"#fdca26\"],[1.0,\"#f0f921\"]]}],\"surface\":[{\"type\":\"surface\",\"colorbar\":{\"outlinewidth\":0,\"ticks\":\"\"},\"colorscale\":[[0.0,\"#0d0887\"],[0.1111111111111111,\"#46039f\"],[0.2222222222222222,\"#7201a8\"],[0.3333333333333333,\"#9c179e\"],[0.4444444444444444,\"#bd3786\"],[0.5555555555555556,\"#d8576b\"],[0.6666666666666666,\"#ed7953\"],[0.7777777777777778,\"#fb9f3a\"],[0.8888888888888888,\"#fdca26\"],[1.0,\"#f0f921\"]]}],\"mesh3d\":[{\"type\":\"mesh3d\",\"colorbar\":{\"outlinewidth\":0,\"ticks\":\"\"}}],\"scatter\":[{\"fillpattern\":{\"fillmode\":\"overlay\",\"size\":10,\"solidity\":0.2},\"type\":\"scatter\"}],\"parcoords\":[{\"type\":\"parcoords\",\"line\":{\"colorbar\":{\"outlinewidth\":0,\"ticks\":\"\"}}}],\"scatterpolargl\":[{\"type\":\"scatterpolargl\",\"marker\":{\"colorbar\":{\"outlinewidth\":0,\"ticks\":\"\"}}}],\"bar\":[{\"error_x\":{\"color\":\"#2a3f5f\"},\"error_y\":{\"color\":\"#2a3f5f\"},\"marker\":{\"line\":{\"color\":\"#E5ECF6\",\"width\":0.5},\"pattern\":{\"fillmode\":\"overlay\",\"size\":10,\"solidity\":0.2}},\"type\":\"bar\"}],\"scattergeo\":[{\"type\":\"scattergeo\",\"marker\":{\"colorbar\":{\"outlinewidth\":0,\"ticks\":\"\"}}}],\"scatterpolar\":[{\"type\":\"scatterpolar\",\"marker\":{\"colorbar\":{\"outlinewidth\":0,\"ticks\":\"\"}}}],\"histogram\":[{\"marker\":{\"pattern\":{\"fillmode\":\"overlay\",\"size\":10,\"solidity\":0.2}},\"type\":\"histogram\"}],\"scattergl\":[{\"type\":\"scattergl\",\"marker\":{\"colorbar\":{\"outlinewidth\":0,\"ticks\":\"\"}}}],\"scatter3d\":[{\"type\":\"scatter3d\",\"line\":{\"colorbar\":{\"outlinewidth\":0,\"ticks\":\"\"}},\"marker\":{\"colorbar\":{\"outlinewidth\":0,\"ticks\":\"\"}}}],\"scattermapbox\":[{\"type\":\"scattermapbox\",\"marker\":{\"colorbar\":{\"outlinewidth\":0,\"ticks\":\"\"}}}],\"scatterternary\":[{\"type\":\"scatterternary\",\"marker\":{\"colorbar\":{\"outlinewidth\":0,\"ticks\":\"\"}}}],\"scattercarpet\":[{\"type\":\"scattercarpet\",\"marker\":{\"colorbar\":{\"outlinewidth\":0,\"ticks\":\"\"}}}],\"carpet\":[{\"aaxis\":{\"endlinecolor\":\"#2a3f5f\",\"gridcolor\":\"white\",\"linecolor\":\"white\",\"minorgridcolor\":\"white\",\"startlinecolor\":\"#2a3f5f\"},\"baxis\":{\"endlinecolor\":\"#2a3f5f\",\"gridcolor\":\"white\",\"linecolor\":\"white\",\"minorgridcolor\":\"white\",\"startlinecolor\":\"#2a3f5f\"},\"type\":\"carpet\"}],\"table\":[{\"cells\":{\"fill\":{\"color\":\"#EBF0F8\"},\"line\":{\"color\":\"white\"}},\"header\":{\"fill\":{\"color\":\"#C8D4E3\"},\"line\":{\"color\":\"white\"}},\"type\":\"table\"}],\"barpolar\":[{\"marker\":{\"line\":{\"color\":\"#E5ECF6\",\"width\":0.5},\"pattern\":{\"fillmode\":\"overlay\",\"size\":10,\"solidity\":0.2}},\"type\":\"barpolar\"}],\"pie\":[{\"automargin\":true,\"type\":\"pie\"}]},\"layout\":{\"autotypenumbers\":\"strict\",\"colorway\":[\"#636efa\",\"#EF553B\",\"#00cc96\",\"#ab63fa\",\"#FFA15A\",\"#19d3f3\",\"#FF6692\",\"#B6E880\",\"#FF97FF\",\"#FECB52\"],\"font\":{\"color\":\"#2a3f5f\"},\"hovermode\":\"closest\",\"hoverlabel\":{\"align\":\"left\"},\"paper_bgcolor\":\"white\",\"plot_bgcolor\":\"#E5ECF6\",\"polar\":{\"bgcolor\":\"#E5ECF6\",\"angularaxis\":{\"gridcolor\":\"white\",\"linecolor\":\"white\",\"ticks\":\"\"},\"radialaxis\":{\"gridcolor\":\"white\",\"linecolor\":\"white\",\"ticks\":\"\"}},\"ternary\":{\"bgcolor\":\"#E5ECF6\",\"aaxis\":{\"gridcolor\":\"white\",\"linecolor\":\"white\",\"ticks\":\"\"},\"baxis\":{\"gridcolor\":\"white\",\"linecolor\":\"white\",\"ticks\":\"\"},\"caxis\":{\"gridcolor\":\"white\",\"linecolor\":\"white\",\"ticks\":\"\"}},\"coloraxis\":{\"colorbar\":{\"outlinewidth\":0,\"ticks\":\"\"}},\"colorscale\":{\"sequential\":[[0.0,\"#0d0887\"],[0.1111111111111111,\"#46039f\"],[0.2222222222222222,\"#7201a8\"],[0.3333333333333333,\"#9c179e\"],[0.4444444444444444,\"#bd3786\"],[0.5555555555555556,\"#d8576b\"],[0.6666666666666666,\"#ed7953\"],[0.7777777777777778,\"#fb9f3a\"],[0.8888888888888888,\"#fdca26\"],[1.0,\"#f0f921\"]],\"sequentialminus\":[[0.0,\"#0d0887\"],[0.1111111111111111,\"#46039f\"],[0.2222222222222222,\"#7201a8\"],[0.3333333333333333,\"#9c179e\"],[0.4444444444444444,\"#bd3786\"],[0.5555555555555556,\"#d8576b\"],[0.6666666666666666,\"#ed7953\"],[0.7777777777777778,\"#fb9f3a\"],[0.8888888888888888,\"#fdca26\"],[1.0,\"#f0f921\"]],\"diverging\":[[0,\"#8e0152\"],[0.1,\"#c51b7d\"],[0.2,\"#de77ae\"],[0.3,\"#f1b6da\"],[0.4,\"#fde0ef\"],[0.5,\"#f7f7f7\"],[0.6,\"#e6f5d0\"],[0.7,\"#b8e186\"],[0.8,\"#7fbc41\"],[0.9,\"#4d9221\"],[1,\"#276419\"]]},\"xaxis\":{\"gridcolor\":\"white\",\"linecolor\":\"white\",\"ticks\":\"\",\"title\":{\"standoff\":15},\"zerolinecolor\":\"white\",\"automargin\":true,\"zerolinewidth\":2},\"yaxis\":{\"gridcolor\":\"white\",\"linecolor\":\"white\",\"ticks\":\"\",\"title\":{\"standoff\":15},\"zerolinecolor\":\"white\",\"automargin\":true,\"zerolinewidth\":2},\"scene\":{\"xaxis\":{\"backgroundcolor\":\"#E5ECF6\",\"gridcolor\":\"white\",\"linecolor\":\"white\",\"showbackground\":true,\"ticks\":\"\",\"zerolinecolor\":\"white\",\"gridwidth\":2},\"yaxis\":{\"backgroundcolor\":\"#E5ECF6\",\"gridcolor\":\"white\",\"linecolor\":\"white\",\"showbackground\":true,\"ticks\":\"\",\"zerolinecolor\":\"white\",\"gridwidth\":2},\"zaxis\":{\"backgroundcolor\":\"#E5ECF6\",\"gridcolor\":\"white\",\"linecolor\":\"white\",\"showbackground\":true,\"ticks\":\"\",\"zerolinecolor\":\"white\",\"gridwidth\":2}},\"shapedefaults\":{\"line\":{\"color\":\"#2a3f5f\"}},\"annotationdefaults\":{\"arrowcolor\":\"#2a3f5f\",\"arrowhead\":0,\"arrowwidth\":1},\"geo\":{\"bgcolor\":\"white\",\"landcolor\":\"#E5ECF6\",\"subunitcolor\":\"white\",\"showland\":true,\"showlakes\":true,\"lakecolor\":\"white\"},\"title\":{\"x\":0.05},\"mapbox\":{\"style\":\"light\"}}},\"xaxis\":{\"anchor\":\"y\",\"domain\":[0.0,1.0],\"title\":{\"text\":\"Layer\"},\"tickmode\":\"array\",\"tickvals\":[0,1,2,3,4,5,6,7,8,9,10,11,12,13,14,15,16,17],\"ticktext\":[14,15,16,17,18,19,20,21,22,23,24,25,26,27,28,29,30,31]},\"yaxis\":{\"anchor\":\"x\",\"domain\":[0.0,1.0],\"title\":{\"text\":\"Logprob Diff Recovery\"}},\"legend\":{\"title\":{\"text\":\"batch\"},\"tracegroupgap\":0},\"title\":{\"text\":\"Activation Patching Attn Block @ All Pos\"},\"height\":600,\"width\":1500,\"shapes\":[{\"line\":{\"color\":\"black\",\"dash\":\"dot\"},\"type\":\"line\",\"x0\":0,\"x1\":1,\"xref\":\"x domain\",\"y0\":0,\"y1\":0,\"yref\":\"y\"}]},                        {\"responsive\": true}                    ).then(function(){\n",
       "                            \n",
       "var gd = document.getElementById('7d2bbe62-4076-49b1-b339-5b418b217f8a');\n",
       "var x = new MutationObserver(function (mutations, observer) {{\n",
       "        var display = window.getComputedStyle(gd).display;\n",
       "        if (!display || display === 'none') {{\n",
       "            console.log([gd, 'removed!']);\n",
       "            Plotly.purge(gd);\n",
       "            observer.disconnect();\n",
       "        }}\n",
       "}});\n",
       "\n",
       "// Listen for the removal of the full notebook cells\n",
       "var notebookContainer = gd.closest('#notebook-container');\n",
       "if (notebookContainer) {{\n",
       "    x.observe(notebookContainer, {childList: true});\n",
       "}}\n",
       "\n",
       "// Listen for the clearing of the current output cell\n",
       "var outputEl = gd.closest('.output');\n",
       "if (outputEl) {{\n",
       "    x.observe(outputEl, {childList: true});\n",
       "}}\n",
       "\n",
       "                        })                };                });            </script>        </div>"
      ]
     },
     "metadata": {},
     "output_type": "display_data"
    }
   ],
   "source": [
    "fig = plot_act_patch_component_all_pos(\n",
    "    logprob_diff_recovery[1],\n",
    "    layers_to_patch,\n",
    "    metric_name=\"Logprob Diff Recovery\",\n",
    "    title=\"Activation Patching Attn Block @ All Pos\",\n",
    ")\n",
    "fig.write_html(\"figs/patch-exp2-attn-all-pos-logprob-diff.html\")\n",
    "fig.show()"
   ]
  },
  {
   "cell_type": "code",
   "execution_count": 79,
   "metadata": {},
   "outputs": [
    {
     "data": {
      "application/vnd.plotly.v1+json": {
       "config": {
        "plotlyServerURL": "https://plot.ly"
       },
       "data": [
        {
         "hovertemplate": "batch=0<br>Layer=%{x}<br>KL Div Recovery=%{y}<extra></extra>",
         "legendgroup": "0",
         "line": {
          "color": "#636efa",
          "dash": "solid"
         },
         "marker": {
          "symbol": "circle"
         },
         "mode": "lines",
         "name": "0",
         "orientation": "v",
         "showlegend": true,
         "type": "scatter",
         "x": [
          0,
          1,
          2,
          3,
          4,
          5,
          6,
          7,
          8,
          9,
          10,
          11,
          12,
          13,
          14,
          15,
          16,
          17
         ],
         "xaxis": "x",
         "y": [
          0,
          0,
          -0.0586237907409668,
          -0.00036013126373291016,
          0.20154207944869995,
          0.3709201216697693,
          0.5335333347320557,
          0.01197206974029541,
          0.05485254526138306,
          0.07985132932662964,
          0.1024814248085022,
          0.06656378507614136,
          0.09981042146682739,
          0.03798931837081909,
          0.10297363996505737,
          -0.41600966453552246,
          -0.10796654224395752,
          -0.47559237480163574
         ],
         "yaxis": "y"
        },
        {
         "hovertemplate": "batch=1<br>Layer=%{x}<br>KL Div Recovery=%{y}<extra></extra>",
         "legendgroup": "1",
         "line": {
          "color": "#EF553B",
          "dash": "solid"
         },
         "marker": {
          "symbol": "circle"
         },
         "mode": "lines",
         "name": "1",
         "orientation": "v",
         "showlegend": true,
         "type": "scatter",
         "x": [
          0,
          1,
          2,
          3,
          4,
          5,
          6,
          7,
          8,
          9,
          10,
          11,
          12,
          13,
          14,
          15,
          16,
          17
         ],
         "xaxis": "x",
         "y": [
          0,
          0,
          0.17196255922317505,
          0.15141111612319946,
          0.22088336944580078,
          0.3134598135948181,
          0.38513368368148804,
          0.09006381034851074,
          0.07139348983764648,
          0.03679990768432617,
          0.09278440475463867,
          0.03226673603057861,
          0.09796637296676636,
          0.05327242612838745,
          0.12509357929229736,
          -0.2377110719680786,
          0.03528803586959839,
          -0.5652728080749512
         ],
         "yaxis": "y"
        },
        {
         "hovertemplate": "batch=2<br>Layer=%{x}<br>KL Div Recovery=%{y}<extra></extra>",
         "legendgroup": "2",
         "line": {
          "color": "#00cc96",
          "dash": "solid"
         },
         "marker": {
          "symbol": "circle"
         },
         "mode": "lines",
         "name": "2",
         "orientation": "v",
         "showlegend": true,
         "type": "scatter",
         "x": [
          0,
          1,
          2,
          3,
          4,
          5,
          6,
          7,
          8,
          9,
          10,
          11,
          12,
          13,
          14,
          15,
          16,
          17
         ],
         "xaxis": "x",
         "y": [
          0,
          0,
          0.08193188905715942,
          0.05717951059341431,
          0.14088869094848633,
          0.16176903247833252,
          0.09885448217391968,
          -0.05684971809387207,
          0.04452484846115112,
          0.019892394542694092,
          0.0006935596466064453,
          0.03217345476150513,
          0.020431101322174072,
          0.053721070289611816,
          0.09498286247253418,
          0.06586229801177979,
          0.11122679710388184,
          -0.023180127143859863
         ],
         "yaxis": "y"
        },
        {
         "hovertemplate": "batch=3<br>Layer=%{x}<br>KL Div Recovery=%{y}<extra></extra>",
         "legendgroup": "3",
         "line": {
          "color": "#ab63fa",
          "dash": "solid"
         },
         "marker": {
          "symbol": "circle"
         },
         "mode": "lines",
         "name": "3",
         "orientation": "v",
         "showlegend": true,
         "type": "scatter",
         "x": [
          0,
          1,
          2,
          3,
          4,
          5,
          6,
          7,
          8,
          9,
          10,
          11,
          12,
          13,
          14,
          15,
          16,
          17
         ],
         "xaxis": "x",
         "y": [
          0,
          0,
          0.24317890405654907,
          -0.07717227935791016,
          0.3155815005302429,
          0.37484079599380493,
          0.3953282833099365,
          -0.001072525978088379,
          0.08716601133346558,
          -0.00014388561248779297,
          -0.03167736530303955,
          0.0501827597618103,
          0.10812443494796753,
          0.03862619400024414,
          0.15548020601272583,
          -0.31473350524902344,
          -0.1263575553894043,
          -0.45228099822998047
         ],
         "yaxis": "y"
        },
        {
         "hovertemplate": "batch=4<br>Layer=%{x}<br>KL Div Recovery=%{y}<extra></extra>",
         "legendgroup": "4",
         "line": {
          "color": "#FFA15A",
          "dash": "solid"
         },
         "marker": {
          "symbol": "circle"
         },
         "mode": "lines",
         "name": "4",
         "orientation": "v",
         "showlegend": true,
         "type": "scatter",
         "x": [
          0,
          1,
          2,
          3,
          4,
          5,
          6,
          7,
          8,
          9,
          10,
          11,
          12,
          13,
          14,
          15,
          16,
          17
         ],
         "xaxis": "x",
         "y": [
          0,
          0,
          0.08258926868438721,
          0.03751617670059204,
          0.14724606275558472,
          0.2394791841506958,
          0.32609331607818604,
          -0.09952306747436523,
          0.044076740741729736,
          0.05500197410583496,
          0.1327587366104126,
          0.03388166427612305,
          0.12872743606567383,
          0.12165325880050659,
          0.117145836353302,
          0.10343796014785767,
          0.09142893552780151,
          -0.062468647956848145
         ],
         "yaxis": "y"
        },
        {
         "hovertemplate": "batch=5<br>Layer=%{x}<br>KL Div Recovery=%{y}<extra></extra>",
         "legendgroup": "5",
         "line": {
          "color": "#19d3f3",
          "dash": "solid"
         },
         "marker": {
          "symbol": "circle"
         },
         "mode": "lines",
         "name": "5",
         "orientation": "v",
         "showlegend": true,
         "type": "scatter",
         "x": [
          0,
          1,
          2,
          3,
          4,
          5,
          6,
          7,
          8,
          9,
          10,
          11,
          12,
          13,
          14,
          15,
          16,
          17
         ],
         "xaxis": "x",
         "y": [
          0,
          0,
          0.398970365524292,
          0.19777721166610718,
          0.26886188983917236,
          0.23489737510681152,
          0.2150512933731079,
          0.13789451122283936,
          0.08122414350509644,
          0.0455588698387146,
          0.13326650857925415,
          0.04450172185897827,
          0.018677473068237305,
          0.10807842016220093,
          0.12421274185180664,
          -0.12547075748443604,
          0.108864426612854,
          -0.6063953638076782
         ],
         "yaxis": "y"
        },
        {
         "hovertemplate": "batch=6<br>Layer=%{x}<br>KL Div Recovery=%{y}<extra></extra>",
         "legendgroup": "6",
         "line": {
          "color": "#FF6692",
          "dash": "solid"
         },
         "marker": {
          "symbol": "circle"
         },
         "mode": "lines",
         "name": "6",
         "orientation": "v",
         "showlegend": true,
         "type": "scatter",
         "x": [
          0,
          1,
          2,
          3,
          4,
          5,
          6,
          7,
          8,
          9,
          10,
          11,
          12,
          13,
          14,
          15,
          16,
          17
         ],
         "xaxis": "x",
         "y": [
          0,
          0,
          -0.02098667621612549,
          -0.1513744592666626,
          0.14350342750549316,
          0.23345285654067993,
          0.23182308673858643,
          -0.030164003372192383,
          -0.010644912719726562,
          0.10030615329742432,
          0.10941040515899658,
          0.059447526931762695,
          0.06910789012908936,
          0.012651264667510986,
          0.051822125911712646,
          -0.26605260372161865,
          0.0031886696815490723,
          -0.39052915573120117
         ],
         "yaxis": "y"
        },
        {
         "hovertemplate": "batch=7<br>Layer=%{x}<br>KL Div Recovery=%{y}<extra></extra>",
         "legendgroup": "7",
         "line": {
          "color": "#B6E880",
          "dash": "solid"
         },
         "marker": {
          "symbol": "circle"
         },
         "mode": "lines",
         "name": "7",
         "orientation": "v",
         "showlegend": true,
         "type": "scatter",
         "x": [
          0,
          1,
          2,
          3,
          4,
          5,
          6,
          7,
          8,
          9,
          10,
          11,
          12,
          13,
          14,
          15,
          16,
          17
         ],
         "xaxis": "x",
         "y": [
          0,
          0,
          0.2770000696182251,
          0.12865477800369263,
          0.22523927688598633,
          0.12419742345809937,
          0.44336915016174316,
          0.021364986896514893,
          -0.019142508506774902,
          -0.01270604133605957,
          0.13200122117996216,
          -0.011391043663024902,
          0.10476124286651611,
          0.11360752582550049,
          0.11349743604660034,
          0.034175992012023926,
          -0.00256955623626709,
          -0.08395648002624512
         ],
         "yaxis": "y"
        },
        {
         "hovertemplate": "batch=8<br>Layer=%{x}<br>KL Div Recovery=%{y}<extra></extra>",
         "legendgroup": "8",
         "line": {
          "color": "#FF97FF",
          "dash": "solid"
         },
         "marker": {
          "symbol": "circle"
         },
         "mode": "lines",
         "name": "8",
         "orientation": "v",
         "showlegend": true,
         "type": "scatter",
         "x": [
          0,
          1,
          2,
          3,
          4,
          5,
          6,
          7,
          8,
          9,
          10,
          11,
          12,
          13,
          14,
          15,
          16,
          17
         ],
         "xaxis": "x",
         "y": [
          0,
          0,
          0.37956857681274414,
          0.38367974758148193,
          0.2884235382080078,
          0.08457213640213013,
          0.32055115699768066,
          -0.015657424926757812,
          0.014464795589447021,
          0.11920124292373657,
          0.2908684015274048,
          0.11734247207641602,
          0.03978121280670166,
          -0.0006872415542602539,
          0.15806233882904053,
          -0.012899637222290039,
          0.10578799247741699,
          -0.09860599040985107
         ],
         "yaxis": "y"
        },
        {
         "hovertemplate": "batch=9<br>Layer=%{x}<br>KL Div Recovery=%{y}<extra></extra>",
         "legendgroup": "9",
         "line": {
          "color": "#FECB52",
          "dash": "solid"
         },
         "marker": {
          "symbol": "circle"
         },
         "mode": "lines",
         "name": "9",
         "orientation": "v",
         "showlegend": true,
         "type": "scatter",
         "x": [
          0,
          1,
          2,
          3,
          4,
          5,
          6,
          7,
          8,
          9,
          10,
          11,
          12,
          13,
          14,
          15,
          16,
          17
         ],
         "xaxis": "x",
         "y": [
          0,
          0,
          0.10954129695892334,
          0.20381814241409302,
          0.23491013050079346,
          0.262678861618042,
          0.3539618253707886,
          0.12344467639923096,
          0.04237931966781616,
          0.0635480284690857,
          0.11101037263870239,
          0.03520148992538452,
          0.090798020362854,
          0.04095059633255005,
          0.13942641019821167,
          -0.13960576057434082,
          0.01626831293106079,
          -0.6373118162155151
         ],
         "yaxis": "y"
        },
        {
         "hovertemplate": "batch=10<br>Layer=%{x}<br>KL Div Recovery=%{y}<extra></extra>",
         "legendgroup": "10",
         "line": {
          "color": "#636efa",
          "dash": "solid"
         },
         "marker": {
          "symbol": "circle"
         },
         "mode": "lines",
         "name": "10",
         "orientation": "v",
         "showlegend": true,
         "type": "scatter",
         "x": [
          0,
          1,
          2,
          3,
          4,
          5,
          6,
          7,
          8,
          9,
          10,
          11,
          12,
          13,
          14,
          15,
          16,
          17
         ],
         "xaxis": "x",
         "y": [
          0,
          0,
          0.23388785123825073,
          0.07134497165679932,
          0.19666486978530884,
          0.16875219345092773,
          0.48355692625045776,
          0.08554667234420776,
          0.09425044059753418,
          0.025482118129730225,
          0.12644493579864502,
          0.047108352184295654,
          0.05145817995071411,
          -0.005953550338745117,
          0.11460596323013306,
          0.01865488290786743,
          -0.05726170539855957,
          -0.39150500297546387
         ],
         "yaxis": "y"
        },
        {
         "hovertemplate": "batch=11<br>Layer=%{x}<br>KL Div Recovery=%{y}<extra></extra>",
         "legendgroup": "11",
         "line": {
          "color": "#EF553B",
          "dash": "solid"
         },
         "marker": {
          "symbol": "circle"
         },
         "mode": "lines",
         "name": "11",
         "orientation": "v",
         "showlegend": true,
         "type": "scatter",
         "x": [
          0,
          1,
          2,
          3,
          4,
          5,
          6,
          7,
          8,
          9,
          10,
          11,
          12,
          13,
          14,
          15,
          16,
          17
         ],
         "xaxis": "x",
         "y": [
          0,
          0,
          0.26833832263946533,
          0.09696793556213379,
          0.19940102100372314,
          0.07191002368927002,
          0.43904006481170654,
          -0.01487278938293457,
          0.009456872940063477,
          0.021913528442382812,
          0.1110612154006958,
          0.048219919204711914,
          0.15772223472595215,
          0.04361993074417114,
          0.09281420707702637,
          0.001974165439605713,
          -0.10734117031097412,
          -0.33798956871032715
         ],
         "yaxis": "y"
        },
        {
         "hovertemplate": "batch=12<br>Layer=%{x}<br>KL Div Recovery=%{y}<extra></extra>",
         "legendgroup": "12",
         "line": {
          "color": "#00cc96",
          "dash": "solid"
         },
         "marker": {
          "symbol": "circle"
         },
         "mode": "lines",
         "name": "12",
         "orientation": "v",
         "showlegend": true,
         "type": "scatter",
         "x": [
          0,
          1,
          2,
          3,
          4,
          5,
          6,
          7,
          8,
          9,
          10,
          11,
          12,
          13,
          14,
          15,
          16,
          17
         ],
         "xaxis": "x",
         "y": [
          0,
          0,
          0.40644705295562744,
          0.15485543012619019,
          0.14198529720306396,
          0.15402871370315552,
          0.6391103267669678,
          0.020952582359313965,
          0.00205916166305542,
          -0.06623101234436035,
          0.07269161939620972,
          0.07107865810394287,
          0.21069711446762085,
          0.05721002817153931,
          0.08228087425231934,
          -0.012047052383422852,
          -0.25823092460632324,
          -0.21053779125213623
         ],
         "yaxis": "y"
        },
        {
         "hovertemplate": "batch=13<br>Layer=%{x}<br>KL Div Recovery=%{y}<extra></extra>",
         "legendgroup": "13",
         "line": {
          "color": "#ab63fa",
          "dash": "solid"
         },
         "marker": {
          "symbol": "circle"
         },
         "mode": "lines",
         "name": "13",
         "orientation": "v",
         "showlegend": true,
         "type": "scatter",
         "x": [
          0,
          1,
          2,
          3,
          4,
          5,
          6,
          7,
          8,
          9,
          10,
          11,
          12,
          13,
          14,
          15,
          16,
          17
         ],
         "xaxis": "x",
         "y": [
          0,
          0,
          0.20007437467575073,
          -0.019426584243774414,
          0.4016121029853821,
          0.3935811519622803,
          0.45586538314819336,
          0.04590177536010742,
          0.1883501410484314,
          0.09612947702407837,
          0.16084372997283936,
          0.08793580532073975,
          -0.03907668590545654,
          0.033882319927215576,
          0.11135387420654297,
          -0.20540475845336914,
          -0.006765007972717285,
          -0.33724117279052734
         ],
         "yaxis": "y"
        },
        {
         "hovertemplate": "batch=14<br>Layer=%{x}<br>KL Div Recovery=%{y}<extra></extra>",
         "legendgroup": "14",
         "line": {
          "color": "#FFA15A",
          "dash": "solid"
         },
         "marker": {
          "symbol": "circle"
         },
         "mode": "lines",
         "name": "14",
         "orientation": "v",
         "showlegend": true,
         "type": "scatter",
         "x": [
          0,
          1,
          2,
          3,
          4,
          5,
          6,
          7,
          8,
          9,
          10,
          11,
          12,
          13,
          14,
          15,
          16,
          17
         ],
         "xaxis": "x",
         "y": [
          0,
          0,
          0.1453336477279663,
          0.16394346952438354,
          0.264459490776062,
          0.25457924604415894,
          0.1327357292175293,
          0.02740246057510376,
          0.05577915906906128,
          -0.01172482967376709,
          0.1068386435508728,
          0.023708999156951904,
          0.025452017784118652,
          0.03748565912246704,
          0.07831865549087524,
          0.11686575412750244,
          0.036934077739715576,
          -0.3276388645172119
         ],
         "yaxis": "y"
        },
        {
         "hovertemplate": "batch=15<br>Layer=%{x}<br>KL Div Recovery=%{y}<extra></extra>",
         "legendgroup": "15",
         "line": {
          "color": "#19d3f3",
          "dash": "solid"
         },
         "marker": {
          "symbol": "circle"
         },
         "mode": "lines",
         "name": "15",
         "orientation": "v",
         "showlegend": true,
         "type": "scatter",
         "x": [
          0,
          1,
          2,
          3,
          4,
          5,
          6,
          7,
          8,
          9,
          10,
          11,
          12,
          13,
          14,
          15,
          16,
          17
         ],
         "xaxis": "x",
         "y": [
          0,
          0,
          -0.20559895038604736,
          0.23995375633239746,
          0.4246085286140442,
          0.21372324228286743,
          0.11301881074905396,
          -0.021528124809265137,
          0.19956755638122559,
          0.12305408716201782,
          -0.17749440670013428,
          -0.008039355278015137,
          0.05875962972640991,
          0.1750340461730957,
          0.07535970211029053,
          0.05538010597229004,
          -0.1649554967880249,
          -0.40252161026000977
         ],
         "yaxis": "y"
        },
        {
         "hovertemplate": "batch=16<br>Layer=%{x}<br>KL Div Recovery=%{y}<extra></extra>",
         "legendgroup": "16",
         "line": {
          "color": "#FF6692",
          "dash": "solid"
         },
         "marker": {
          "symbol": "circle"
         },
         "mode": "lines",
         "name": "16",
         "orientation": "v",
         "showlegend": true,
         "type": "scatter",
         "x": [
          0,
          1,
          2,
          3,
          4,
          5,
          6,
          7,
          8,
          9,
          10,
          11,
          12,
          13,
          14,
          15,
          16,
          17
         ],
         "xaxis": "x",
         "y": [
          0,
          0,
          -0.0434190034866333,
          -0.11406373977661133,
          0.22916066646575928,
          0.1997109055519104,
          0.32273536920547485,
          -0.01925647258758545,
          0.03853565454483032,
          0.09716123342514038,
          0.007731616497039795,
          0.09332382678985596,
          0.08260136842727661,
          0.10393023490905762,
          0.08994454145431519,
          -0.4288417100906372,
          -0.0014119148254394531,
          -0.33264875411987305
         ],
         "yaxis": "y"
        },
        {
         "hovertemplate": "batch=17<br>Layer=%{x}<br>KL Div Recovery=%{y}<extra></extra>",
         "legendgroup": "17",
         "line": {
          "color": "#B6E880",
          "dash": "solid"
         },
         "marker": {
          "symbol": "circle"
         },
         "mode": "lines",
         "name": "17",
         "orientation": "v",
         "showlegend": true,
         "type": "scatter",
         "x": [
          0,
          1,
          2,
          3,
          4,
          5,
          6,
          7,
          8,
          9,
          10,
          11,
          12,
          13,
          14,
          15,
          16,
          17
         ],
         "xaxis": "x",
         "y": [
          0,
          0,
          0.150621235370636,
          0.23501527309417725,
          0.22709470987319946,
          0.3195624351501465,
          0.17103725671768188,
          0.10281574726104736,
          -0.005620241165161133,
          0.08929455280303955,
          0.07374125719070435,
          0.09810405969619751,
          0.2537050247192383,
          0.11567884683609009,
          0.09661263227462769,
          -0.02330458164215088,
          0.12388008832931519,
          -0.6511688232421875
         ],
         "yaxis": "y"
        },
        {
         "hovertemplate": "batch=18<br>Layer=%{x}<br>KL Div Recovery=%{y}<extra></extra>",
         "legendgroup": "18",
         "line": {
          "color": "#FF97FF",
          "dash": "solid"
         },
         "marker": {
          "symbol": "circle"
         },
         "mode": "lines",
         "name": "18",
         "orientation": "v",
         "showlegend": true,
         "type": "scatter",
         "x": [
          0,
          1,
          2,
          3,
          4,
          5,
          6,
          7,
          8,
          9,
          10,
          11,
          12,
          13,
          14,
          15,
          16,
          17
         ],
         "xaxis": "x",
         "y": [
          0,
          0,
          0.3161267042160034,
          0.2424057126045227,
          0.04710876941680908,
          0.11039209365844727,
          0.13752198219299316,
          -0.02997612953186035,
          0.03777188062667847,
          0.016919851303100586,
          0.14177757501602173,
          0.05033087730407715,
          0.023026704788208008,
          0.06283444166183472,
          0.10935693979263306,
          -0.0636286735534668,
          0.024332761764526367,
          -0.508468508720398
         ],
         "yaxis": "y"
        },
        {
         "hovertemplate": "batch=19<br>Layer=%{x}<br>KL Div Recovery=%{y}<extra></extra>",
         "legendgroup": "19",
         "line": {
          "color": "#FECB52",
          "dash": "solid"
         },
         "marker": {
          "symbol": "circle"
         },
         "mode": "lines",
         "name": "19",
         "orientation": "v",
         "showlegend": true,
         "type": "scatter",
         "x": [
          0,
          1,
          2,
          3,
          4,
          5,
          6,
          7,
          8,
          9,
          10,
          11,
          12,
          13,
          14,
          15,
          16,
          17
         ],
         "xaxis": "x",
         "y": [
          0,
          0,
          0.2436755895614624,
          0.005925416946411133,
          0.30036360025405884,
          0.24860161542892456,
          0.46559399366378784,
          0.15216290950775146,
          0.07470047473907471,
          0.035041213035583496,
          0.09269338846206665,
          0.07843202352523804,
          0.07213342189788818,
          -0.05633342266082764,
          0.08889544010162354,
          -0.07963001728057861,
          -0.02371668815612793,
          -0.5020506381988525
         ],
         "yaxis": "y"
        }
       ],
       "layout": {
        "height": 600,
        "legend": {
         "title": {
          "text": "batch"
         },
         "tracegroupgap": 0
        },
        "shapes": [
         {
          "line": {
           "color": "black",
           "dash": "dot"
          },
          "type": "line",
          "x0": 0,
          "x1": 1,
          "xref": "x domain",
          "y0": 0,
          "y1": 0,
          "yref": "y"
         }
        ],
        "template": {
         "data": {
          "bar": [
           {
            "error_x": {
             "color": "#2a3f5f"
            },
            "error_y": {
             "color": "#2a3f5f"
            },
            "marker": {
             "line": {
              "color": "#E5ECF6",
              "width": 0.5
             },
             "pattern": {
              "fillmode": "overlay",
              "size": 10,
              "solidity": 0.2
             }
            },
            "type": "bar"
           }
          ],
          "barpolar": [
           {
            "marker": {
             "line": {
              "color": "#E5ECF6",
              "width": 0.5
             },
             "pattern": {
              "fillmode": "overlay",
              "size": 10,
              "solidity": 0.2
             }
            },
            "type": "barpolar"
           }
          ],
          "carpet": [
           {
            "aaxis": {
             "endlinecolor": "#2a3f5f",
             "gridcolor": "white",
             "linecolor": "white",
             "minorgridcolor": "white",
             "startlinecolor": "#2a3f5f"
            },
            "baxis": {
             "endlinecolor": "#2a3f5f",
             "gridcolor": "white",
             "linecolor": "white",
             "minorgridcolor": "white",
             "startlinecolor": "#2a3f5f"
            },
            "type": "carpet"
           }
          ],
          "choropleth": [
           {
            "colorbar": {
             "outlinewidth": 0,
             "ticks": ""
            },
            "type": "choropleth"
           }
          ],
          "contour": [
           {
            "colorbar": {
             "outlinewidth": 0,
             "ticks": ""
            },
            "colorscale": [
             [
              0,
              "#0d0887"
             ],
             [
              0.1111111111111111,
              "#46039f"
             ],
             [
              0.2222222222222222,
              "#7201a8"
             ],
             [
              0.3333333333333333,
              "#9c179e"
             ],
             [
              0.4444444444444444,
              "#bd3786"
             ],
             [
              0.5555555555555556,
              "#d8576b"
             ],
             [
              0.6666666666666666,
              "#ed7953"
             ],
             [
              0.7777777777777778,
              "#fb9f3a"
             ],
             [
              0.8888888888888888,
              "#fdca26"
             ],
             [
              1,
              "#f0f921"
             ]
            ],
            "type": "contour"
           }
          ],
          "contourcarpet": [
           {
            "colorbar": {
             "outlinewidth": 0,
             "ticks": ""
            },
            "type": "contourcarpet"
           }
          ],
          "heatmap": [
           {
            "colorbar": {
             "outlinewidth": 0,
             "ticks": ""
            },
            "colorscale": [
             [
              0,
              "#0d0887"
             ],
             [
              0.1111111111111111,
              "#46039f"
             ],
             [
              0.2222222222222222,
              "#7201a8"
             ],
             [
              0.3333333333333333,
              "#9c179e"
             ],
             [
              0.4444444444444444,
              "#bd3786"
             ],
             [
              0.5555555555555556,
              "#d8576b"
             ],
             [
              0.6666666666666666,
              "#ed7953"
             ],
             [
              0.7777777777777778,
              "#fb9f3a"
             ],
             [
              0.8888888888888888,
              "#fdca26"
             ],
             [
              1,
              "#f0f921"
             ]
            ],
            "type": "heatmap"
           }
          ],
          "heatmapgl": [
           {
            "colorbar": {
             "outlinewidth": 0,
             "ticks": ""
            },
            "colorscale": [
             [
              0,
              "#0d0887"
             ],
             [
              0.1111111111111111,
              "#46039f"
             ],
             [
              0.2222222222222222,
              "#7201a8"
             ],
             [
              0.3333333333333333,
              "#9c179e"
             ],
             [
              0.4444444444444444,
              "#bd3786"
             ],
             [
              0.5555555555555556,
              "#d8576b"
             ],
             [
              0.6666666666666666,
              "#ed7953"
             ],
             [
              0.7777777777777778,
              "#fb9f3a"
             ],
             [
              0.8888888888888888,
              "#fdca26"
             ],
             [
              1,
              "#f0f921"
             ]
            ],
            "type": "heatmapgl"
           }
          ],
          "histogram": [
           {
            "marker": {
             "pattern": {
              "fillmode": "overlay",
              "size": 10,
              "solidity": 0.2
             }
            },
            "type": "histogram"
           }
          ],
          "histogram2d": [
           {
            "colorbar": {
             "outlinewidth": 0,
             "ticks": ""
            },
            "colorscale": [
             [
              0,
              "#0d0887"
             ],
             [
              0.1111111111111111,
              "#46039f"
             ],
             [
              0.2222222222222222,
              "#7201a8"
             ],
             [
              0.3333333333333333,
              "#9c179e"
             ],
             [
              0.4444444444444444,
              "#bd3786"
             ],
             [
              0.5555555555555556,
              "#d8576b"
             ],
             [
              0.6666666666666666,
              "#ed7953"
             ],
             [
              0.7777777777777778,
              "#fb9f3a"
             ],
             [
              0.8888888888888888,
              "#fdca26"
             ],
             [
              1,
              "#f0f921"
             ]
            ],
            "type": "histogram2d"
           }
          ],
          "histogram2dcontour": [
           {
            "colorbar": {
             "outlinewidth": 0,
             "ticks": ""
            },
            "colorscale": [
             [
              0,
              "#0d0887"
             ],
             [
              0.1111111111111111,
              "#46039f"
             ],
             [
              0.2222222222222222,
              "#7201a8"
             ],
             [
              0.3333333333333333,
              "#9c179e"
             ],
             [
              0.4444444444444444,
              "#bd3786"
             ],
             [
              0.5555555555555556,
              "#d8576b"
             ],
             [
              0.6666666666666666,
              "#ed7953"
             ],
             [
              0.7777777777777778,
              "#fb9f3a"
             ],
             [
              0.8888888888888888,
              "#fdca26"
             ],
             [
              1,
              "#f0f921"
             ]
            ],
            "type": "histogram2dcontour"
           }
          ],
          "mesh3d": [
           {
            "colorbar": {
             "outlinewidth": 0,
             "ticks": ""
            },
            "type": "mesh3d"
           }
          ],
          "parcoords": [
           {
            "line": {
             "colorbar": {
              "outlinewidth": 0,
              "ticks": ""
             }
            },
            "type": "parcoords"
           }
          ],
          "pie": [
           {
            "automargin": true,
            "type": "pie"
           }
          ],
          "scatter": [
           {
            "fillpattern": {
             "fillmode": "overlay",
             "size": 10,
             "solidity": 0.2
            },
            "type": "scatter"
           }
          ],
          "scatter3d": [
           {
            "line": {
             "colorbar": {
              "outlinewidth": 0,
              "ticks": ""
             }
            },
            "marker": {
             "colorbar": {
              "outlinewidth": 0,
              "ticks": ""
             }
            },
            "type": "scatter3d"
           }
          ],
          "scattercarpet": [
           {
            "marker": {
             "colorbar": {
              "outlinewidth": 0,
              "ticks": ""
             }
            },
            "type": "scattercarpet"
           }
          ],
          "scattergeo": [
           {
            "marker": {
             "colorbar": {
              "outlinewidth": 0,
              "ticks": ""
             }
            },
            "type": "scattergeo"
           }
          ],
          "scattergl": [
           {
            "marker": {
             "colorbar": {
              "outlinewidth": 0,
              "ticks": ""
             }
            },
            "type": "scattergl"
           }
          ],
          "scattermapbox": [
           {
            "marker": {
             "colorbar": {
              "outlinewidth": 0,
              "ticks": ""
             }
            },
            "type": "scattermapbox"
           }
          ],
          "scatterpolar": [
           {
            "marker": {
             "colorbar": {
              "outlinewidth": 0,
              "ticks": ""
             }
            },
            "type": "scatterpolar"
           }
          ],
          "scatterpolargl": [
           {
            "marker": {
             "colorbar": {
              "outlinewidth": 0,
              "ticks": ""
             }
            },
            "type": "scatterpolargl"
           }
          ],
          "scatterternary": [
           {
            "marker": {
             "colorbar": {
              "outlinewidth": 0,
              "ticks": ""
             }
            },
            "type": "scatterternary"
           }
          ],
          "surface": [
           {
            "colorbar": {
             "outlinewidth": 0,
             "ticks": ""
            },
            "colorscale": [
             [
              0,
              "#0d0887"
             ],
             [
              0.1111111111111111,
              "#46039f"
             ],
             [
              0.2222222222222222,
              "#7201a8"
             ],
             [
              0.3333333333333333,
              "#9c179e"
             ],
             [
              0.4444444444444444,
              "#bd3786"
             ],
             [
              0.5555555555555556,
              "#d8576b"
             ],
             [
              0.6666666666666666,
              "#ed7953"
             ],
             [
              0.7777777777777778,
              "#fb9f3a"
             ],
             [
              0.8888888888888888,
              "#fdca26"
             ],
             [
              1,
              "#f0f921"
             ]
            ],
            "type": "surface"
           }
          ],
          "table": [
           {
            "cells": {
             "fill": {
              "color": "#EBF0F8"
             },
             "line": {
              "color": "white"
             }
            },
            "header": {
             "fill": {
              "color": "#C8D4E3"
             },
             "line": {
              "color": "white"
             }
            },
            "type": "table"
           }
          ]
         },
         "layout": {
          "annotationdefaults": {
           "arrowcolor": "#2a3f5f",
           "arrowhead": 0,
           "arrowwidth": 1
          },
          "autotypenumbers": "strict",
          "coloraxis": {
           "colorbar": {
            "outlinewidth": 0,
            "ticks": ""
           }
          },
          "colorscale": {
           "diverging": [
            [
             0,
             "#8e0152"
            ],
            [
             0.1,
             "#c51b7d"
            ],
            [
             0.2,
             "#de77ae"
            ],
            [
             0.3,
             "#f1b6da"
            ],
            [
             0.4,
             "#fde0ef"
            ],
            [
             0.5,
             "#f7f7f7"
            ],
            [
             0.6,
             "#e6f5d0"
            ],
            [
             0.7,
             "#b8e186"
            ],
            [
             0.8,
             "#7fbc41"
            ],
            [
             0.9,
             "#4d9221"
            ],
            [
             1,
             "#276419"
            ]
           ],
           "sequential": [
            [
             0,
             "#0d0887"
            ],
            [
             0.1111111111111111,
             "#46039f"
            ],
            [
             0.2222222222222222,
             "#7201a8"
            ],
            [
             0.3333333333333333,
             "#9c179e"
            ],
            [
             0.4444444444444444,
             "#bd3786"
            ],
            [
             0.5555555555555556,
             "#d8576b"
            ],
            [
             0.6666666666666666,
             "#ed7953"
            ],
            [
             0.7777777777777778,
             "#fb9f3a"
            ],
            [
             0.8888888888888888,
             "#fdca26"
            ],
            [
             1,
             "#f0f921"
            ]
           ],
           "sequentialminus": [
            [
             0,
             "#0d0887"
            ],
            [
             0.1111111111111111,
             "#46039f"
            ],
            [
             0.2222222222222222,
             "#7201a8"
            ],
            [
             0.3333333333333333,
             "#9c179e"
            ],
            [
             0.4444444444444444,
             "#bd3786"
            ],
            [
             0.5555555555555556,
             "#d8576b"
            ],
            [
             0.6666666666666666,
             "#ed7953"
            ],
            [
             0.7777777777777778,
             "#fb9f3a"
            ],
            [
             0.8888888888888888,
             "#fdca26"
            ],
            [
             1,
             "#f0f921"
            ]
           ]
          },
          "colorway": [
           "#636efa",
           "#EF553B",
           "#00cc96",
           "#ab63fa",
           "#FFA15A",
           "#19d3f3",
           "#FF6692",
           "#B6E880",
           "#FF97FF",
           "#FECB52"
          ],
          "font": {
           "color": "#2a3f5f"
          },
          "geo": {
           "bgcolor": "white",
           "lakecolor": "white",
           "landcolor": "#E5ECF6",
           "showlakes": true,
           "showland": true,
           "subunitcolor": "white"
          },
          "hoverlabel": {
           "align": "left"
          },
          "hovermode": "closest",
          "mapbox": {
           "style": "light"
          },
          "paper_bgcolor": "white",
          "plot_bgcolor": "#E5ECF6",
          "polar": {
           "angularaxis": {
            "gridcolor": "white",
            "linecolor": "white",
            "ticks": ""
           },
           "bgcolor": "#E5ECF6",
           "radialaxis": {
            "gridcolor": "white",
            "linecolor": "white",
            "ticks": ""
           }
          },
          "scene": {
           "xaxis": {
            "backgroundcolor": "#E5ECF6",
            "gridcolor": "white",
            "gridwidth": 2,
            "linecolor": "white",
            "showbackground": true,
            "ticks": "",
            "zerolinecolor": "white"
           },
           "yaxis": {
            "backgroundcolor": "#E5ECF6",
            "gridcolor": "white",
            "gridwidth": 2,
            "linecolor": "white",
            "showbackground": true,
            "ticks": "",
            "zerolinecolor": "white"
           },
           "zaxis": {
            "backgroundcolor": "#E5ECF6",
            "gridcolor": "white",
            "gridwidth": 2,
            "linecolor": "white",
            "showbackground": true,
            "ticks": "",
            "zerolinecolor": "white"
           }
          },
          "shapedefaults": {
           "line": {
            "color": "#2a3f5f"
           }
          },
          "ternary": {
           "aaxis": {
            "gridcolor": "white",
            "linecolor": "white",
            "ticks": ""
           },
           "baxis": {
            "gridcolor": "white",
            "linecolor": "white",
            "ticks": ""
           },
           "bgcolor": "#E5ECF6",
           "caxis": {
            "gridcolor": "white",
            "linecolor": "white",
            "ticks": ""
           }
          },
          "title": {
           "x": 0.05
          },
          "xaxis": {
           "automargin": true,
           "gridcolor": "white",
           "linecolor": "white",
           "ticks": "",
           "title": {
            "standoff": 15
           },
           "zerolinecolor": "white",
           "zerolinewidth": 2
          },
          "yaxis": {
           "automargin": true,
           "gridcolor": "white",
           "linecolor": "white",
           "ticks": "",
           "title": {
            "standoff": 15
           },
           "zerolinecolor": "white",
           "zerolinewidth": 2
          }
         }
        },
        "title": {
         "text": "Activation Patching MLP @ All Pos"
        },
        "width": 1500,
        "xaxis": {
         "anchor": "y",
         "domain": [
          0,
          1
         ],
         "tickmode": "array",
         "ticktext": [
          14,
          15,
          16,
          17,
          18,
          19,
          20,
          21,
          22,
          23,
          24,
          25,
          26,
          27,
          28,
          29,
          30,
          31
         ],
         "tickvals": [
          0,
          1,
          2,
          3,
          4,
          5,
          6,
          7,
          8,
          9,
          10,
          11,
          12,
          13,
          14,
          15,
          16,
          17
         ],
         "title": {
          "text": "Layer"
         }
        },
        "yaxis": {
         "anchor": "x",
         "domain": [
          0,
          1
         ],
         "title": {
          "text": "KL Div Recovery"
         }
        }
       }
      },
      "text/html": [
       "<div>                            <div id=\"bf54b143-4829-4371-91fc-928f8c7be053\" class=\"plotly-graph-div\" style=\"height:600px; width:1500px;\"></div>            <script type=\"text/javascript\">                require([\"plotly\"], function(Plotly) {                    window.PLOTLYENV=window.PLOTLYENV || {};                                    if (document.getElementById(\"bf54b143-4829-4371-91fc-928f8c7be053\")) {                    Plotly.newPlot(                        \"bf54b143-4829-4371-91fc-928f8c7be053\",                        [{\"hovertemplate\":\"batch=0<br>Layer=%{x}<br>KL Div Recovery=%{y}<extra></extra>\",\"legendgroup\":\"0\",\"line\":{\"color\":\"#636efa\",\"dash\":\"solid\"},\"marker\":{\"symbol\":\"circle\"},\"mode\":\"lines\",\"name\":\"0\",\"orientation\":\"v\",\"showlegend\":true,\"x\":[0,1,2,3,4,5,6,7,8,9,10,11,12,13,14,15,16,17],\"xaxis\":\"x\",\"y\":[0.0,0.0,-0.0586237907409668,-0.00036013126373291016,0.20154207944869995,0.3709201216697693,0.5335333347320557,0.01197206974029541,0.05485254526138306,0.07985132932662964,0.1024814248085022,0.06656378507614136,0.09981042146682739,0.03798931837081909,0.10297363996505737,-0.41600966453552246,-0.10796654224395752,-0.47559237480163574],\"yaxis\":\"y\",\"type\":\"scatter\"},{\"hovertemplate\":\"batch=1<br>Layer=%{x}<br>KL Div Recovery=%{y}<extra></extra>\",\"legendgroup\":\"1\",\"line\":{\"color\":\"#EF553B\",\"dash\":\"solid\"},\"marker\":{\"symbol\":\"circle\"},\"mode\":\"lines\",\"name\":\"1\",\"orientation\":\"v\",\"showlegend\":true,\"x\":[0,1,2,3,4,5,6,7,8,9,10,11,12,13,14,15,16,17],\"xaxis\":\"x\",\"y\":[0.0,0.0,0.17196255922317505,0.15141111612319946,0.22088336944580078,0.3134598135948181,0.38513368368148804,0.09006381034851074,0.07139348983764648,0.03679990768432617,0.09278440475463867,0.03226673603057861,0.09796637296676636,0.05327242612838745,0.12509357929229736,-0.2377110719680786,0.03528803586959839,-0.5652728080749512],\"yaxis\":\"y\",\"type\":\"scatter\"},{\"hovertemplate\":\"batch=2<br>Layer=%{x}<br>KL Div Recovery=%{y}<extra></extra>\",\"legendgroup\":\"2\",\"line\":{\"color\":\"#00cc96\",\"dash\":\"solid\"},\"marker\":{\"symbol\":\"circle\"},\"mode\":\"lines\",\"name\":\"2\",\"orientation\":\"v\",\"showlegend\":true,\"x\":[0,1,2,3,4,5,6,7,8,9,10,11,12,13,14,15,16,17],\"xaxis\":\"x\",\"y\":[0.0,0.0,0.08193188905715942,0.05717951059341431,0.14088869094848633,0.16176903247833252,0.09885448217391968,-0.05684971809387207,0.04452484846115112,0.019892394542694092,0.0006935596466064453,0.03217345476150513,0.020431101322174072,0.053721070289611816,0.09498286247253418,0.06586229801177979,0.11122679710388184,-0.023180127143859863],\"yaxis\":\"y\",\"type\":\"scatter\"},{\"hovertemplate\":\"batch=3<br>Layer=%{x}<br>KL Div Recovery=%{y}<extra></extra>\",\"legendgroup\":\"3\",\"line\":{\"color\":\"#ab63fa\",\"dash\":\"solid\"},\"marker\":{\"symbol\":\"circle\"},\"mode\":\"lines\",\"name\":\"3\",\"orientation\":\"v\",\"showlegend\":true,\"x\":[0,1,2,3,4,5,6,7,8,9,10,11,12,13,14,15,16,17],\"xaxis\":\"x\",\"y\":[0.0,0.0,0.24317890405654907,-0.07717227935791016,0.3155815005302429,0.37484079599380493,0.3953282833099365,-0.001072525978088379,0.08716601133346558,-0.00014388561248779297,-0.03167736530303955,0.0501827597618103,0.10812443494796753,0.03862619400024414,0.15548020601272583,-0.31473350524902344,-0.1263575553894043,-0.45228099822998047],\"yaxis\":\"y\",\"type\":\"scatter\"},{\"hovertemplate\":\"batch=4<br>Layer=%{x}<br>KL Div Recovery=%{y}<extra></extra>\",\"legendgroup\":\"4\",\"line\":{\"color\":\"#FFA15A\",\"dash\":\"solid\"},\"marker\":{\"symbol\":\"circle\"},\"mode\":\"lines\",\"name\":\"4\",\"orientation\":\"v\",\"showlegend\":true,\"x\":[0,1,2,3,4,5,6,7,8,9,10,11,12,13,14,15,16,17],\"xaxis\":\"x\",\"y\":[0.0,0.0,0.08258926868438721,0.03751617670059204,0.14724606275558472,0.2394791841506958,0.32609331607818604,-0.09952306747436523,0.044076740741729736,0.05500197410583496,0.1327587366104126,0.03388166427612305,0.12872743606567383,0.12165325880050659,0.117145836353302,0.10343796014785767,0.09142893552780151,-0.062468647956848145],\"yaxis\":\"y\",\"type\":\"scatter\"},{\"hovertemplate\":\"batch=5<br>Layer=%{x}<br>KL Div Recovery=%{y}<extra></extra>\",\"legendgroup\":\"5\",\"line\":{\"color\":\"#19d3f3\",\"dash\":\"solid\"},\"marker\":{\"symbol\":\"circle\"},\"mode\":\"lines\",\"name\":\"5\",\"orientation\":\"v\",\"showlegend\":true,\"x\":[0,1,2,3,4,5,6,7,8,9,10,11,12,13,14,15,16,17],\"xaxis\":\"x\",\"y\":[0.0,0.0,0.398970365524292,0.19777721166610718,0.26886188983917236,0.23489737510681152,0.2150512933731079,0.13789451122283936,0.08122414350509644,0.0455588698387146,0.13326650857925415,0.04450172185897827,0.018677473068237305,0.10807842016220093,0.12421274185180664,-0.12547075748443604,0.108864426612854,-0.6063953638076782],\"yaxis\":\"y\",\"type\":\"scatter\"},{\"hovertemplate\":\"batch=6<br>Layer=%{x}<br>KL Div Recovery=%{y}<extra></extra>\",\"legendgroup\":\"6\",\"line\":{\"color\":\"#FF6692\",\"dash\":\"solid\"},\"marker\":{\"symbol\":\"circle\"},\"mode\":\"lines\",\"name\":\"6\",\"orientation\":\"v\",\"showlegend\":true,\"x\":[0,1,2,3,4,5,6,7,8,9,10,11,12,13,14,15,16,17],\"xaxis\":\"x\",\"y\":[0.0,0.0,-0.02098667621612549,-0.1513744592666626,0.14350342750549316,0.23345285654067993,0.23182308673858643,-0.030164003372192383,-0.010644912719726562,0.10030615329742432,0.10941040515899658,0.059447526931762695,0.06910789012908936,0.012651264667510986,0.051822125911712646,-0.26605260372161865,0.0031886696815490723,-0.39052915573120117],\"yaxis\":\"y\",\"type\":\"scatter\"},{\"hovertemplate\":\"batch=7<br>Layer=%{x}<br>KL Div Recovery=%{y}<extra></extra>\",\"legendgroup\":\"7\",\"line\":{\"color\":\"#B6E880\",\"dash\":\"solid\"},\"marker\":{\"symbol\":\"circle\"},\"mode\":\"lines\",\"name\":\"7\",\"orientation\":\"v\",\"showlegend\":true,\"x\":[0,1,2,3,4,5,6,7,8,9,10,11,12,13,14,15,16,17],\"xaxis\":\"x\",\"y\":[0.0,0.0,0.2770000696182251,0.12865477800369263,0.22523927688598633,0.12419742345809937,0.44336915016174316,0.021364986896514893,-0.019142508506774902,-0.01270604133605957,0.13200122117996216,-0.011391043663024902,0.10476124286651611,0.11360752582550049,0.11349743604660034,0.034175992012023926,-0.00256955623626709,-0.08395648002624512],\"yaxis\":\"y\",\"type\":\"scatter\"},{\"hovertemplate\":\"batch=8<br>Layer=%{x}<br>KL Div Recovery=%{y}<extra></extra>\",\"legendgroup\":\"8\",\"line\":{\"color\":\"#FF97FF\",\"dash\":\"solid\"},\"marker\":{\"symbol\":\"circle\"},\"mode\":\"lines\",\"name\":\"8\",\"orientation\":\"v\",\"showlegend\":true,\"x\":[0,1,2,3,4,5,6,7,8,9,10,11,12,13,14,15,16,17],\"xaxis\":\"x\",\"y\":[0.0,0.0,0.37956857681274414,0.38367974758148193,0.2884235382080078,0.08457213640213013,0.32055115699768066,-0.015657424926757812,0.014464795589447021,0.11920124292373657,0.2908684015274048,0.11734247207641602,0.03978121280670166,-0.0006872415542602539,0.15806233882904053,-0.012899637222290039,0.10578799247741699,-0.09860599040985107],\"yaxis\":\"y\",\"type\":\"scatter\"},{\"hovertemplate\":\"batch=9<br>Layer=%{x}<br>KL Div Recovery=%{y}<extra></extra>\",\"legendgroup\":\"9\",\"line\":{\"color\":\"#FECB52\",\"dash\":\"solid\"},\"marker\":{\"symbol\":\"circle\"},\"mode\":\"lines\",\"name\":\"9\",\"orientation\":\"v\",\"showlegend\":true,\"x\":[0,1,2,3,4,5,6,7,8,9,10,11,12,13,14,15,16,17],\"xaxis\":\"x\",\"y\":[0.0,0.0,0.10954129695892334,0.20381814241409302,0.23491013050079346,0.262678861618042,0.3539618253707886,0.12344467639923096,0.04237931966781616,0.0635480284690857,0.11101037263870239,0.03520148992538452,0.090798020362854,0.04095059633255005,0.13942641019821167,-0.13960576057434082,0.01626831293106079,-0.6373118162155151],\"yaxis\":\"y\",\"type\":\"scatter\"},{\"hovertemplate\":\"batch=10<br>Layer=%{x}<br>KL Div Recovery=%{y}<extra></extra>\",\"legendgroup\":\"10\",\"line\":{\"color\":\"#636efa\",\"dash\":\"solid\"},\"marker\":{\"symbol\":\"circle\"},\"mode\":\"lines\",\"name\":\"10\",\"orientation\":\"v\",\"showlegend\":true,\"x\":[0,1,2,3,4,5,6,7,8,9,10,11,12,13,14,15,16,17],\"xaxis\":\"x\",\"y\":[0.0,0.0,0.23388785123825073,0.07134497165679932,0.19666486978530884,0.16875219345092773,0.48355692625045776,0.08554667234420776,0.09425044059753418,0.025482118129730225,0.12644493579864502,0.047108352184295654,0.05145817995071411,-0.005953550338745117,0.11460596323013306,0.01865488290786743,-0.05726170539855957,-0.39150500297546387],\"yaxis\":\"y\",\"type\":\"scatter\"},{\"hovertemplate\":\"batch=11<br>Layer=%{x}<br>KL Div Recovery=%{y}<extra></extra>\",\"legendgroup\":\"11\",\"line\":{\"color\":\"#EF553B\",\"dash\":\"solid\"},\"marker\":{\"symbol\":\"circle\"},\"mode\":\"lines\",\"name\":\"11\",\"orientation\":\"v\",\"showlegend\":true,\"x\":[0,1,2,3,4,5,6,7,8,9,10,11,12,13,14,15,16,17],\"xaxis\":\"x\",\"y\":[0.0,0.0,0.26833832263946533,0.09696793556213379,0.19940102100372314,0.07191002368927002,0.43904006481170654,-0.01487278938293457,0.009456872940063477,0.021913528442382812,0.1110612154006958,0.048219919204711914,0.15772223472595215,0.04361993074417114,0.09281420707702637,0.001974165439605713,-0.10734117031097412,-0.33798956871032715],\"yaxis\":\"y\",\"type\":\"scatter\"},{\"hovertemplate\":\"batch=12<br>Layer=%{x}<br>KL Div Recovery=%{y}<extra></extra>\",\"legendgroup\":\"12\",\"line\":{\"color\":\"#00cc96\",\"dash\":\"solid\"},\"marker\":{\"symbol\":\"circle\"},\"mode\":\"lines\",\"name\":\"12\",\"orientation\":\"v\",\"showlegend\":true,\"x\":[0,1,2,3,4,5,6,7,8,9,10,11,12,13,14,15,16,17],\"xaxis\":\"x\",\"y\":[0.0,0.0,0.40644705295562744,0.15485543012619019,0.14198529720306396,0.15402871370315552,0.6391103267669678,0.020952582359313965,0.00205916166305542,-0.06623101234436035,0.07269161939620972,0.07107865810394287,0.21069711446762085,0.05721002817153931,0.08228087425231934,-0.012047052383422852,-0.25823092460632324,-0.21053779125213623],\"yaxis\":\"y\",\"type\":\"scatter\"},{\"hovertemplate\":\"batch=13<br>Layer=%{x}<br>KL Div Recovery=%{y}<extra></extra>\",\"legendgroup\":\"13\",\"line\":{\"color\":\"#ab63fa\",\"dash\":\"solid\"},\"marker\":{\"symbol\":\"circle\"},\"mode\":\"lines\",\"name\":\"13\",\"orientation\":\"v\",\"showlegend\":true,\"x\":[0,1,2,3,4,5,6,7,8,9,10,11,12,13,14,15,16,17],\"xaxis\":\"x\",\"y\":[0.0,0.0,0.20007437467575073,-0.019426584243774414,0.4016121029853821,0.3935811519622803,0.45586538314819336,0.04590177536010742,0.1883501410484314,0.09612947702407837,0.16084372997283936,0.08793580532073975,-0.03907668590545654,0.033882319927215576,0.11135387420654297,-0.20540475845336914,-0.006765007972717285,-0.33724117279052734],\"yaxis\":\"y\",\"type\":\"scatter\"},{\"hovertemplate\":\"batch=14<br>Layer=%{x}<br>KL Div Recovery=%{y}<extra></extra>\",\"legendgroup\":\"14\",\"line\":{\"color\":\"#FFA15A\",\"dash\":\"solid\"},\"marker\":{\"symbol\":\"circle\"},\"mode\":\"lines\",\"name\":\"14\",\"orientation\":\"v\",\"showlegend\":true,\"x\":[0,1,2,3,4,5,6,7,8,9,10,11,12,13,14,15,16,17],\"xaxis\":\"x\",\"y\":[0.0,0.0,0.1453336477279663,0.16394346952438354,0.264459490776062,0.25457924604415894,0.1327357292175293,0.02740246057510376,0.05577915906906128,-0.01172482967376709,0.1068386435508728,0.023708999156951904,0.025452017784118652,0.03748565912246704,0.07831865549087524,0.11686575412750244,0.036934077739715576,-0.3276388645172119],\"yaxis\":\"y\",\"type\":\"scatter\"},{\"hovertemplate\":\"batch=15<br>Layer=%{x}<br>KL Div Recovery=%{y}<extra></extra>\",\"legendgroup\":\"15\",\"line\":{\"color\":\"#19d3f3\",\"dash\":\"solid\"},\"marker\":{\"symbol\":\"circle\"},\"mode\":\"lines\",\"name\":\"15\",\"orientation\":\"v\",\"showlegend\":true,\"x\":[0,1,2,3,4,5,6,7,8,9,10,11,12,13,14,15,16,17],\"xaxis\":\"x\",\"y\":[0.0,0.0,-0.20559895038604736,0.23995375633239746,0.4246085286140442,0.21372324228286743,0.11301881074905396,-0.021528124809265137,0.19956755638122559,0.12305408716201782,-0.17749440670013428,-0.008039355278015137,0.05875962972640991,0.1750340461730957,0.07535970211029053,0.05538010597229004,-0.1649554967880249,-0.40252161026000977],\"yaxis\":\"y\",\"type\":\"scatter\"},{\"hovertemplate\":\"batch=16<br>Layer=%{x}<br>KL Div Recovery=%{y}<extra></extra>\",\"legendgroup\":\"16\",\"line\":{\"color\":\"#FF6692\",\"dash\":\"solid\"},\"marker\":{\"symbol\":\"circle\"},\"mode\":\"lines\",\"name\":\"16\",\"orientation\":\"v\",\"showlegend\":true,\"x\":[0,1,2,3,4,5,6,7,8,9,10,11,12,13,14,15,16,17],\"xaxis\":\"x\",\"y\":[0.0,0.0,-0.0434190034866333,-0.11406373977661133,0.22916066646575928,0.1997109055519104,0.32273536920547485,-0.01925647258758545,0.03853565454483032,0.09716123342514038,0.007731616497039795,0.09332382678985596,0.08260136842727661,0.10393023490905762,0.08994454145431519,-0.4288417100906372,-0.0014119148254394531,-0.33264875411987305],\"yaxis\":\"y\",\"type\":\"scatter\"},{\"hovertemplate\":\"batch=17<br>Layer=%{x}<br>KL Div Recovery=%{y}<extra></extra>\",\"legendgroup\":\"17\",\"line\":{\"color\":\"#B6E880\",\"dash\":\"solid\"},\"marker\":{\"symbol\":\"circle\"},\"mode\":\"lines\",\"name\":\"17\",\"orientation\":\"v\",\"showlegend\":true,\"x\":[0,1,2,3,4,5,6,7,8,9,10,11,12,13,14,15,16,17],\"xaxis\":\"x\",\"y\":[0.0,0.0,0.150621235370636,0.23501527309417725,0.22709470987319946,0.3195624351501465,0.17103725671768188,0.10281574726104736,-0.005620241165161133,0.08929455280303955,0.07374125719070435,0.09810405969619751,0.2537050247192383,0.11567884683609009,0.09661263227462769,-0.02330458164215088,0.12388008832931519,-0.6511688232421875],\"yaxis\":\"y\",\"type\":\"scatter\"},{\"hovertemplate\":\"batch=18<br>Layer=%{x}<br>KL Div Recovery=%{y}<extra></extra>\",\"legendgroup\":\"18\",\"line\":{\"color\":\"#FF97FF\",\"dash\":\"solid\"},\"marker\":{\"symbol\":\"circle\"},\"mode\":\"lines\",\"name\":\"18\",\"orientation\":\"v\",\"showlegend\":true,\"x\":[0,1,2,3,4,5,6,7,8,9,10,11,12,13,14,15,16,17],\"xaxis\":\"x\",\"y\":[0.0,0.0,0.3161267042160034,0.2424057126045227,0.04710876941680908,0.11039209365844727,0.13752198219299316,-0.02997612953186035,0.03777188062667847,0.016919851303100586,0.14177757501602173,0.05033087730407715,0.023026704788208008,0.06283444166183472,0.10935693979263306,-0.0636286735534668,0.024332761764526367,-0.508468508720398],\"yaxis\":\"y\",\"type\":\"scatter\"},{\"hovertemplate\":\"batch=19<br>Layer=%{x}<br>KL Div Recovery=%{y}<extra></extra>\",\"legendgroup\":\"19\",\"line\":{\"color\":\"#FECB52\",\"dash\":\"solid\"},\"marker\":{\"symbol\":\"circle\"},\"mode\":\"lines\",\"name\":\"19\",\"orientation\":\"v\",\"showlegend\":true,\"x\":[0,1,2,3,4,5,6,7,8,9,10,11,12,13,14,15,16,17],\"xaxis\":\"x\",\"y\":[0.0,0.0,0.2436755895614624,0.005925416946411133,0.30036360025405884,0.24860161542892456,0.46559399366378784,0.15216290950775146,0.07470047473907471,0.035041213035583496,0.09269338846206665,0.07843202352523804,0.07213342189788818,-0.05633342266082764,0.08889544010162354,-0.07963001728057861,-0.02371668815612793,-0.5020506381988525],\"yaxis\":\"y\",\"type\":\"scatter\"}],                        {\"template\":{\"data\":{\"histogram2dcontour\":[{\"type\":\"histogram2dcontour\",\"colorbar\":{\"outlinewidth\":0,\"ticks\":\"\"},\"colorscale\":[[0.0,\"#0d0887\"],[0.1111111111111111,\"#46039f\"],[0.2222222222222222,\"#7201a8\"],[0.3333333333333333,\"#9c179e\"],[0.4444444444444444,\"#bd3786\"],[0.5555555555555556,\"#d8576b\"],[0.6666666666666666,\"#ed7953\"],[0.7777777777777778,\"#fb9f3a\"],[0.8888888888888888,\"#fdca26\"],[1.0,\"#f0f921\"]]}],\"choropleth\":[{\"type\":\"choropleth\",\"colorbar\":{\"outlinewidth\":0,\"ticks\":\"\"}}],\"histogram2d\":[{\"type\":\"histogram2d\",\"colorbar\":{\"outlinewidth\":0,\"ticks\":\"\"},\"colorscale\":[[0.0,\"#0d0887\"],[0.1111111111111111,\"#46039f\"],[0.2222222222222222,\"#7201a8\"],[0.3333333333333333,\"#9c179e\"],[0.4444444444444444,\"#bd3786\"],[0.5555555555555556,\"#d8576b\"],[0.6666666666666666,\"#ed7953\"],[0.7777777777777778,\"#fb9f3a\"],[0.8888888888888888,\"#fdca26\"],[1.0,\"#f0f921\"]]}],\"heatmap\":[{\"type\":\"heatmap\",\"colorbar\":{\"outlinewidth\":0,\"ticks\":\"\"},\"colorscale\":[[0.0,\"#0d0887\"],[0.1111111111111111,\"#46039f\"],[0.2222222222222222,\"#7201a8\"],[0.3333333333333333,\"#9c179e\"],[0.4444444444444444,\"#bd3786\"],[0.5555555555555556,\"#d8576b\"],[0.6666666666666666,\"#ed7953\"],[0.7777777777777778,\"#fb9f3a\"],[0.8888888888888888,\"#fdca26\"],[1.0,\"#f0f921\"]]}],\"heatmapgl\":[{\"type\":\"heatmapgl\",\"colorbar\":{\"outlinewidth\":0,\"ticks\":\"\"},\"colorscale\":[[0.0,\"#0d0887\"],[0.1111111111111111,\"#46039f\"],[0.2222222222222222,\"#7201a8\"],[0.3333333333333333,\"#9c179e\"],[0.4444444444444444,\"#bd3786\"],[0.5555555555555556,\"#d8576b\"],[0.6666666666666666,\"#ed7953\"],[0.7777777777777778,\"#fb9f3a\"],[0.8888888888888888,\"#fdca26\"],[1.0,\"#f0f921\"]]}],\"contourcarpet\":[{\"type\":\"contourcarpet\",\"colorbar\":{\"outlinewidth\":0,\"ticks\":\"\"}}],\"contour\":[{\"type\":\"contour\",\"colorbar\":{\"outlinewidth\":0,\"ticks\":\"\"},\"colorscale\":[[0.0,\"#0d0887\"],[0.1111111111111111,\"#46039f\"],[0.2222222222222222,\"#7201a8\"],[0.3333333333333333,\"#9c179e\"],[0.4444444444444444,\"#bd3786\"],[0.5555555555555556,\"#d8576b\"],[0.6666666666666666,\"#ed7953\"],[0.7777777777777778,\"#fb9f3a\"],[0.8888888888888888,\"#fdca26\"],[1.0,\"#f0f921\"]]}],\"surface\":[{\"type\":\"surface\",\"colorbar\":{\"outlinewidth\":0,\"ticks\":\"\"},\"colorscale\":[[0.0,\"#0d0887\"],[0.1111111111111111,\"#46039f\"],[0.2222222222222222,\"#7201a8\"],[0.3333333333333333,\"#9c179e\"],[0.4444444444444444,\"#bd3786\"],[0.5555555555555556,\"#d8576b\"],[0.6666666666666666,\"#ed7953\"],[0.7777777777777778,\"#fb9f3a\"],[0.8888888888888888,\"#fdca26\"],[1.0,\"#f0f921\"]]}],\"mesh3d\":[{\"type\":\"mesh3d\",\"colorbar\":{\"outlinewidth\":0,\"ticks\":\"\"}}],\"scatter\":[{\"fillpattern\":{\"fillmode\":\"overlay\",\"size\":10,\"solidity\":0.2},\"type\":\"scatter\"}],\"parcoords\":[{\"type\":\"parcoords\",\"line\":{\"colorbar\":{\"outlinewidth\":0,\"ticks\":\"\"}}}],\"scatterpolargl\":[{\"type\":\"scatterpolargl\",\"marker\":{\"colorbar\":{\"outlinewidth\":0,\"ticks\":\"\"}}}],\"bar\":[{\"error_x\":{\"color\":\"#2a3f5f\"},\"error_y\":{\"color\":\"#2a3f5f\"},\"marker\":{\"line\":{\"color\":\"#E5ECF6\",\"width\":0.5},\"pattern\":{\"fillmode\":\"overlay\",\"size\":10,\"solidity\":0.2}},\"type\":\"bar\"}],\"scattergeo\":[{\"type\":\"scattergeo\",\"marker\":{\"colorbar\":{\"outlinewidth\":0,\"ticks\":\"\"}}}],\"scatterpolar\":[{\"type\":\"scatterpolar\",\"marker\":{\"colorbar\":{\"outlinewidth\":0,\"ticks\":\"\"}}}],\"histogram\":[{\"marker\":{\"pattern\":{\"fillmode\":\"overlay\",\"size\":10,\"solidity\":0.2}},\"type\":\"histogram\"}],\"scattergl\":[{\"type\":\"scattergl\",\"marker\":{\"colorbar\":{\"outlinewidth\":0,\"ticks\":\"\"}}}],\"scatter3d\":[{\"type\":\"scatter3d\",\"line\":{\"colorbar\":{\"outlinewidth\":0,\"ticks\":\"\"}},\"marker\":{\"colorbar\":{\"outlinewidth\":0,\"ticks\":\"\"}}}],\"scattermapbox\":[{\"type\":\"scattermapbox\",\"marker\":{\"colorbar\":{\"outlinewidth\":0,\"ticks\":\"\"}}}],\"scatterternary\":[{\"type\":\"scatterternary\",\"marker\":{\"colorbar\":{\"outlinewidth\":0,\"ticks\":\"\"}}}],\"scattercarpet\":[{\"type\":\"scattercarpet\",\"marker\":{\"colorbar\":{\"outlinewidth\":0,\"ticks\":\"\"}}}],\"carpet\":[{\"aaxis\":{\"endlinecolor\":\"#2a3f5f\",\"gridcolor\":\"white\",\"linecolor\":\"white\",\"minorgridcolor\":\"white\",\"startlinecolor\":\"#2a3f5f\"},\"baxis\":{\"endlinecolor\":\"#2a3f5f\",\"gridcolor\":\"white\",\"linecolor\":\"white\",\"minorgridcolor\":\"white\",\"startlinecolor\":\"#2a3f5f\"},\"type\":\"carpet\"}],\"table\":[{\"cells\":{\"fill\":{\"color\":\"#EBF0F8\"},\"line\":{\"color\":\"white\"}},\"header\":{\"fill\":{\"color\":\"#C8D4E3\"},\"line\":{\"color\":\"white\"}},\"type\":\"table\"}],\"barpolar\":[{\"marker\":{\"line\":{\"color\":\"#E5ECF6\",\"width\":0.5},\"pattern\":{\"fillmode\":\"overlay\",\"size\":10,\"solidity\":0.2}},\"type\":\"barpolar\"}],\"pie\":[{\"automargin\":true,\"type\":\"pie\"}]},\"layout\":{\"autotypenumbers\":\"strict\",\"colorway\":[\"#636efa\",\"#EF553B\",\"#00cc96\",\"#ab63fa\",\"#FFA15A\",\"#19d3f3\",\"#FF6692\",\"#B6E880\",\"#FF97FF\",\"#FECB52\"],\"font\":{\"color\":\"#2a3f5f\"},\"hovermode\":\"closest\",\"hoverlabel\":{\"align\":\"left\"},\"paper_bgcolor\":\"white\",\"plot_bgcolor\":\"#E5ECF6\",\"polar\":{\"bgcolor\":\"#E5ECF6\",\"angularaxis\":{\"gridcolor\":\"white\",\"linecolor\":\"white\",\"ticks\":\"\"},\"radialaxis\":{\"gridcolor\":\"white\",\"linecolor\":\"white\",\"ticks\":\"\"}},\"ternary\":{\"bgcolor\":\"#E5ECF6\",\"aaxis\":{\"gridcolor\":\"white\",\"linecolor\":\"white\",\"ticks\":\"\"},\"baxis\":{\"gridcolor\":\"white\",\"linecolor\":\"white\",\"ticks\":\"\"},\"caxis\":{\"gridcolor\":\"white\",\"linecolor\":\"white\",\"ticks\":\"\"}},\"coloraxis\":{\"colorbar\":{\"outlinewidth\":0,\"ticks\":\"\"}},\"colorscale\":{\"sequential\":[[0.0,\"#0d0887\"],[0.1111111111111111,\"#46039f\"],[0.2222222222222222,\"#7201a8\"],[0.3333333333333333,\"#9c179e\"],[0.4444444444444444,\"#bd3786\"],[0.5555555555555556,\"#d8576b\"],[0.6666666666666666,\"#ed7953\"],[0.7777777777777778,\"#fb9f3a\"],[0.8888888888888888,\"#fdca26\"],[1.0,\"#f0f921\"]],\"sequentialminus\":[[0.0,\"#0d0887\"],[0.1111111111111111,\"#46039f\"],[0.2222222222222222,\"#7201a8\"],[0.3333333333333333,\"#9c179e\"],[0.4444444444444444,\"#bd3786\"],[0.5555555555555556,\"#d8576b\"],[0.6666666666666666,\"#ed7953\"],[0.7777777777777778,\"#fb9f3a\"],[0.8888888888888888,\"#fdca26\"],[1.0,\"#f0f921\"]],\"diverging\":[[0,\"#8e0152\"],[0.1,\"#c51b7d\"],[0.2,\"#de77ae\"],[0.3,\"#f1b6da\"],[0.4,\"#fde0ef\"],[0.5,\"#f7f7f7\"],[0.6,\"#e6f5d0\"],[0.7,\"#b8e186\"],[0.8,\"#7fbc41\"],[0.9,\"#4d9221\"],[1,\"#276419\"]]},\"xaxis\":{\"gridcolor\":\"white\",\"linecolor\":\"white\",\"ticks\":\"\",\"title\":{\"standoff\":15},\"zerolinecolor\":\"white\",\"automargin\":true,\"zerolinewidth\":2},\"yaxis\":{\"gridcolor\":\"white\",\"linecolor\":\"white\",\"ticks\":\"\",\"title\":{\"standoff\":15},\"zerolinecolor\":\"white\",\"automargin\":true,\"zerolinewidth\":2},\"scene\":{\"xaxis\":{\"backgroundcolor\":\"#E5ECF6\",\"gridcolor\":\"white\",\"linecolor\":\"white\",\"showbackground\":true,\"ticks\":\"\",\"zerolinecolor\":\"white\",\"gridwidth\":2},\"yaxis\":{\"backgroundcolor\":\"#E5ECF6\",\"gridcolor\":\"white\",\"linecolor\":\"white\",\"showbackground\":true,\"ticks\":\"\",\"zerolinecolor\":\"white\",\"gridwidth\":2},\"zaxis\":{\"backgroundcolor\":\"#E5ECF6\",\"gridcolor\":\"white\",\"linecolor\":\"white\",\"showbackground\":true,\"ticks\":\"\",\"zerolinecolor\":\"white\",\"gridwidth\":2}},\"shapedefaults\":{\"line\":{\"color\":\"#2a3f5f\"}},\"annotationdefaults\":{\"arrowcolor\":\"#2a3f5f\",\"arrowhead\":0,\"arrowwidth\":1},\"geo\":{\"bgcolor\":\"white\",\"landcolor\":\"#E5ECF6\",\"subunitcolor\":\"white\",\"showland\":true,\"showlakes\":true,\"lakecolor\":\"white\"},\"title\":{\"x\":0.05},\"mapbox\":{\"style\":\"light\"}}},\"xaxis\":{\"anchor\":\"y\",\"domain\":[0.0,1.0],\"title\":{\"text\":\"Layer\"},\"tickmode\":\"array\",\"tickvals\":[0,1,2,3,4,5,6,7,8,9,10,11,12,13,14,15,16,17],\"ticktext\":[14,15,16,17,18,19,20,21,22,23,24,25,26,27,28,29,30,31]},\"yaxis\":{\"anchor\":\"x\",\"domain\":[0.0,1.0],\"title\":{\"text\":\"KL Div Recovery\"}},\"legend\":{\"title\":{\"text\":\"batch\"},\"tracegroupgap\":0},\"title\":{\"text\":\"Activation Patching MLP @ All Pos\"},\"height\":600,\"width\":1500,\"shapes\":[{\"line\":{\"color\":\"black\",\"dash\":\"dot\"},\"type\":\"line\",\"x0\":0,\"x1\":1,\"xref\":\"x domain\",\"y0\":0,\"y1\":0,\"yref\":\"y\"}]},                        {\"responsive\": true}                    ).then(function(){\n",
       "                            \n",
       "var gd = document.getElementById('bf54b143-4829-4371-91fc-928f8c7be053');\n",
       "var x = new MutationObserver(function (mutations, observer) {{\n",
       "        var display = window.getComputedStyle(gd).display;\n",
       "        if (!display || display === 'none') {{\n",
       "            console.log([gd, 'removed!']);\n",
       "            Plotly.purge(gd);\n",
       "            observer.disconnect();\n",
       "        }}\n",
       "}});\n",
       "\n",
       "// Listen for the removal of the full notebook cells\n",
       "var notebookContainer = gd.closest('#notebook-container');\n",
       "if (notebookContainer) {{\n",
       "    x.observe(notebookContainer, {childList: true});\n",
       "}}\n",
       "\n",
       "// Listen for the clearing of the current output cell\n",
       "var outputEl = gd.closest('.output');\n",
       "if (outputEl) {{\n",
       "    x.observe(outputEl, {childList: true});\n",
       "}}\n",
       "\n",
       "                        })                };                });            </script>        </div>"
      ]
     },
     "metadata": {},
     "output_type": "display_data"
    }
   ],
   "source": [
    "fig = plot_act_patch_component_all_pos(\n",
    "    kld_recovery[2],\n",
    "    layers_to_patch,\n",
    "    metric_name=\"KL Div Recovery\",\n",
    "    title=\"Activation Patching MLP @ All Pos\",\n",
    ")\n",
    "fig.write_html(\"figs/patch-exp2-mlp-all-pos-kld.html\")\n",
    "fig.show()"
   ]
  },
  {
   "cell_type": "code",
   "execution_count": 78,
   "metadata": {},
   "outputs": [
    {
     "data": {
      "application/vnd.plotly.v1+json": {
       "config": {
        "plotlyServerURL": "https://plot.ly"
       },
       "data": [
        {
         "hovertemplate": "batch=0<br>Layer=%{x}<br>Logprob Diff Recovery=%{y}<extra></extra>",
         "legendgroup": "0",
         "line": {
          "color": "#636efa",
          "dash": "solid"
         },
         "marker": {
          "symbol": "circle"
         },
         "mode": "lines",
         "name": "0",
         "orientation": "v",
         "showlegend": true,
         "type": "scatter",
         "x": [
          0,
          1,
          2,
          3,
          4,
          5,
          6,
          7,
          8,
          9,
          10,
          11,
          12,
          13,
          14,
          15,
          16,
          17
         ],
         "xaxis": "x",
         "y": [
          0,
          0,
          -0.052794042974710464,
          -0.04752623662352562,
          0.17280058562755585,
          0.3666660189628601,
          0.5174564719200134,
          0.03525373712182045,
          0.07578740268945694,
          0.08802416175603867,
          0.046868037432432175,
          0.08585882931947708,
          0.058394841849803925,
          0.06448663771152496,
          0.08391926437616348,
          -0.4861283302307129,
          -0.13345716893672943,
          -0.3932822346687317
         ],
         "yaxis": "y"
        },
        {
         "hovertemplate": "batch=1<br>Layer=%{x}<br>Logprob Diff Recovery=%{y}<extra></extra>",
         "legendgroup": "1",
         "line": {
          "color": "#EF553B",
          "dash": "solid"
         },
         "marker": {
          "symbol": "circle"
         },
         "mode": "lines",
         "name": "1",
         "orientation": "v",
         "showlegend": true,
         "type": "scatter",
         "x": [
          0,
          1,
          2,
          3,
          4,
          5,
          6,
          7,
          8,
          9,
          10,
          11,
          12,
          13,
          14,
          15,
          16,
          17
         ],
         "xaxis": "x",
         "y": [
          0,
          0,
          0.2318418025970459,
          -0.17302019894123077,
          0.2826308012008667,
          0.43309545516967773,
          0.48948031663894653,
          0.040563520044088364,
          0.13755275309085846,
          0.013473661616444588,
          -0.005116248968988657,
          0.06889864057302475,
          0.05665586516261101,
          0.07688306272029877,
          0.04777775704860687,
          -0.6414406299591064,
          -0.031984031200408936,
          -0.5777934789657593
         ],
         "yaxis": "y"
        },
        {
         "hovertemplate": "batch=2<br>Layer=%{x}<br>Logprob Diff Recovery=%{y}<extra></extra>",
         "legendgroup": "2",
         "line": {
          "color": "#00cc96",
          "dash": "solid"
         },
         "marker": {
          "symbol": "circle"
         },
         "mode": "lines",
         "name": "2",
         "orientation": "v",
         "showlegend": true,
         "type": "scatter",
         "x": [
          0,
          1,
          2,
          3,
          4,
          5,
          6,
          7,
          8,
          9,
          10,
          11,
          12,
          13,
          14,
          15,
          16,
          17
         ],
         "xaxis": "x",
         "y": [
          0,
          0,
          0.22565102577209473,
          -0.5308889150619507,
          0.25097280740737915,
          0.03478000685572624,
          -0.17215734720230103,
          0.6836652755737305,
          -0.3419450521469116,
          -0.9481415748596191,
          1.9254779815673828,
          0.5306283235549927,
          -0.0947856456041336,
          -0.6880321502685547,
          -0.45408299565315247,
          0.10626213252544403,
          0.8119757175445557,
          0.6612551808357239
         ],
         "yaxis": "y"
        },
        {
         "hovertemplate": "batch=3<br>Layer=%{x}<br>Logprob Diff Recovery=%{y}<extra></extra>",
         "legendgroup": "3",
         "line": {
          "color": "#ab63fa",
          "dash": "solid"
         },
         "marker": {
          "symbol": "circle"
         },
         "mode": "lines",
         "name": "3",
         "orientation": "v",
         "showlegend": true,
         "type": "scatter",
         "x": [
          0,
          1,
          2,
          3,
          4,
          5,
          6,
          7,
          8,
          9,
          10,
          11,
          12,
          13,
          14,
          15,
          16,
          17
         ],
         "xaxis": "x",
         "y": [
          0,
          0,
          0.2848431468009949,
          -0.1522185355424881,
          0.3101228177547455,
          0.38028684258461,
          0.39532333612442017,
          -0.03028007782995701,
          0.08599533885717392,
          -0.02055330201983452,
          -0.05395364388823509,
          0.06034667417407036,
          0.08370517939329147,
          0.07610049843788147,
          0.1456768810749054,
          -0.3909221589565277,
          -0.158462256193161,
          -0.445426881313324
         ],
         "yaxis": "y"
        },
        {
         "hovertemplate": "batch=4<br>Layer=%{x}<br>Logprob Diff Recovery=%{y}<extra></extra>",
         "legendgroup": "4",
         "line": {
          "color": "#FFA15A",
          "dash": "solid"
         },
         "marker": {
          "symbol": "circle"
         },
         "mode": "lines",
         "name": "4",
         "orientation": "v",
         "showlegend": true,
         "type": "scatter",
         "x": [
          0,
          1,
          2,
          3,
          4,
          5,
          6,
          7,
          8,
          9,
          10,
          11,
          12,
          13,
          14,
          15,
          16,
          17
         ],
         "xaxis": "x",
         "y": [
          0,
          0,
          0.24956998229026794,
          -0.17134299874305725,
          0.2658970355987549,
          0.4233373701572418,
          0.505790114402771,
          -0.22758664190769196,
          0.09059139341115952,
          0.04010587930679321,
          0.22244730591773987,
          0.030765444040298462,
          -0.0903262346982956,
          0.2990381717681885,
          0.12132521718740463,
          -0.0783323422074318,
          0.022799940779805183,
          -0.1510317325592041
         ],
         "yaxis": "y"
        },
        {
         "hovertemplate": "batch=5<br>Layer=%{x}<br>Logprob Diff Recovery=%{y}<extra></extra>",
         "legendgroup": "5",
         "line": {
          "color": "#19d3f3",
          "dash": "solid"
         },
         "marker": {
          "symbol": "circle"
         },
         "mode": "lines",
         "name": "5",
         "orientation": "v",
         "showlegend": true,
         "type": "scatter",
         "x": [
          0,
          1,
          2,
          3,
          4,
          5,
          6,
          7,
          8,
          9,
          10,
          11,
          12,
          13,
          14,
          15,
          16,
          17
         ],
         "xaxis": "x",
         "y": [
          0,
          0,
          0.6015570163726807,
          -0.3904872238636017,
          0.37977540493011475,
          0.3258076012134552,
          0.2939329445362091,
          0.15837018191814423,
          0.08087453991174698,
          0.08889798074960709,
          0.03812020644545555,
          0.0836087241768837,
          0.10776759684085846,
          0.09535717964172363,
          0.05560743063688278,
          -0.7306812405586243,
          0.041862133890390396,
          -0.7204787731170654
         ],
         "yaxis": "y"
        },
        {
         "hovertemplate": "batch=6<br>Layer=%{x}<br>Logprob Diff Recovery=%{y}<extra></extra>",
         "legendgroup": "6",
         "line": {
          "color": "#FF6692",
          "dash": "solid"
         },
         "marker": {
          "symbol": "circle"
         },
         "mode": "lines",
         "name": "6",
         "orientation": "v",
         "showlegend": true,
         "type": "scatter",
         "x": [
          0,
          1,
          2,
          3,
          4,
          5,
          6,
          7,
          8,
          9,
          10,
          11,
          12,
          13,
          14,
          15,
          16,
          17
         ],
         "xaxis": "x",
         "y": [
          0,
          0,
          0.015213627368211746,
          -0.37740495800971985,
          0.06669603288173676,
          0.2783649265766144,
          0.24961978197097778,
          -0.020576519891619682,
          0.0011294608702883124,
          0.15459270775318146,
          0.08218692243099213,
          0.06639864295721054,
          0.04186895862221718,
          0.023724602535367012,
          0.017604973167181015,
          -0.5449177026748657,
          -0.061350442469120026,
          -0.41650450229644775
         ],
         "yaxis": "y"
        },
        {
         "hovertemplate": "batch=7<br>Layer=%{x}<br>Logprob Diff Recovery=%{y}<extra></extra>",
         "legendgroup": "7",
         "line": {
          "color": "#B6E880",
          "dash": "solid"
         },
         "marker": {
          "symbol": "circle"
         },
         "mode": "lines",
         "name": "7",
         "orientation": "v",
         "showlegend": true,
         "type": "scatter",
         "x": [
          0,
          1,
          2,
          3,
          4,
          5,
          6,
          7,
          8,
          9,
          10,
          11,
          12,
          13,
          14,
          15,
          16,
          17
         ],
         "xaxis": "x",
         "y": [
          0,
          0,
          0.34853628277778625,
          0.08261078596115112,
          0.2626720666885376,
          0.14718636870384216,
          0.5399259924888611,
          0.029832741245627403,
          -0.016180988401174545,
          -0.03541284054517746,
          0.11720477789640427,
          -0.0013500970089808106,
          0.09758824855089188,
          0.14071124792099,
          0.08982657641172409,
          -0.0031011011451482773,
          -0.053320448845624924,
          -0.14931349456310272
         ],
         "yaxis": "y"
        },
        {
         "hovertemplate": "batch=8<br>Layer=%{x}<br>Logprob Diff Recovery=%{y}<extra></extra>",
         "legendgroup": "8",
         "line": {
          "color": "#FF97FF",
          "dash": "solid"
         },
         "marker": {
          "symbol": "circle"
         },
         "mode": "lines",
         "name": "8",
         "orientation": "v",
         "showlegend": true,
         "type": "scatter",
         "x": [
          0,
          1,
          2,
          3,
          4,
          5,
          6,
          7,
          8,
          9,
          10,
          11,
          12,
          13,
          14,
          15,
          16,
          17
         ],
         "xaxis": "x",
         "y": [
          0,
          0,
          0.686249315738678,
          0.6615235805511475,
          0.4773203730583191,
          0.13026194274425507,
          0.5304087400436401,
          -0.02880200929939747,
          -0.07099645584821701,
          0.21045415103435516,
          0.4497648775577545,
          0.177553191781044,
          0.03626897931098938,
          -0.04655737802386284,
          0.2054104059934616,
          -0.11915840208530426,
          0.07990838587284088,
          -0.2405063360929489
         ],
         "yaxis": "y"
        },
        {
         "hovertemplate": "batch=9<br>Layer=%{x}<br>Logprob Diff Recovery=%{y}<extra></extra>",
         "legendgroup": "9",
         "line": {
          "color": "#FECB52",
          "dash": "solid"
         },
         "marker": {
          "symbol": "circle"
         },
         "mode": "lines",
         "name": "9",
         "orientation": "v",
         "showlegend": true,
         "type": "scatter",
         "x": [
          0,
          1,
          2,
          3,
          4,
          5,
          6,
          7,
          8,
          9,
          10,
          11,
          12,
          13,
          14,
          15,
          16,
          17
         ],
         "xaxis": "x",
         "y": [
          0,
          0,
          0.27110493183135986,
          0.004755890462547541,
          0.263658344745636,
          0.28919780254364014,
          0.3598301112651825,
          0.054544977843761444,
          0.04356562718749046,
          0.05419737100601196,
          0.014660011045634747,
          0.08542323112487793,
          0.07227423042058945,
          0.05894143134355545,
          0.10976241528987885,
          -0.30981963872909546,
          -0.049535512924194336,
          -0.6097414493560791
         ],
         "yaxis": "y"
        },
        {
         "hovertemplate": "batch=10<br>Layer=%{x}<br>Logprob Diff Recovery=%{y}<extra></extra>",
         "legendgroup": "10",
         "line": {
          "color": "#636efa",
          "dash": "solid"
         },
         "marker": {
          "symbol": "circle"
         },
         "mode": "lines",
         "name": "10",
         "orientation": "v",
         "showlegend": true,
         "type": "scatter",
         "x": [
          0,
          1,
          2,
          3,
          4,
          5,
          6,
          7,
          8,
          9,
          10,
          11,
          12,
          13,
          14,
          15,
          16,
          17
         ],
         "xaxis": "x",
         "y": [
          0,
          0,
          0.2605026960372925,
          0.03971093147993088,
          0.20122498273849487,
          0.14187778532505035,
          0.47768256068229675,
          0.0973622053861618,
          0.11283913254737854,
          0.011470455676317215,
          0.09328769147396088,
          0.05308559909462929,
          0.021168505772948265,
          0.010728209279477596,
          0.10204467922449112,
          0.00393178965896368,
          -0.0799466222524643,
          -0.34870219230651855
         ],
         "yaxis": "y"
        },
        {
         "hovertemplate": "batch=11<br>Layer=%{x}<br>Logprob Diff Recovery=%{y}<extra></extra>",
         "legendgroup": "11",
         "line": {
          "color": "#EF553B",
          "dash": "solid"
         },
         "marker": {
          "symbol": "circle"
         },
         "mode": "lines",
         "name": "11",
         "orientation": "v",
         "showlegend": true,
         "type": "scatter",
         "x": [
          0,
          1,
          2,
          3,
          4,
          5,
          6,
          7,
          8,
          9,
          10,
          11,
          12,
          13,
          14,
          15,
          16,
          17
         ],
         "xaxis": "x",
         "y": [
          0,
          0,
          0.31481388211250305,
          0.022711923345923424,
          0.19522057473659515,
          0.0722891315817833,
          0.4196420907974243,
          -0.02577228844165802,
          0.0031730898190289736,
          0.0003317072696518153,
          0.08351988345384598,
          0.0488697774708271,
          0.14432218670845032,
          0.052980758249759674,
          0.07866492867469788,
          -0.013895709998905659,
          -0.10847310721874237,
          -0.31627559661865234
         ],
         "yaxis": "y"
        },
        {
         "hovertemplate": "batch=12<br>Layer=%{x}<br>Logprob Diff Recovery=%{y}<extra></extra>",
         "legendgroup": "12",
         "line": {
          "color": "#00cc96",
          "dash": "solid"
         },
         "marker": {
          "symbol": "circle"
         },
         "mode": "lines",
         "name": "12",
         "orientation": "v",
         "showlegend": true,
         "type": "scatter",
         "x": [
          0,
          1,
          2,
          3,
          4,
          5,
          6,
          7,
          8,
          9,
          10,
          11,
          12,
          13,
          14,
          15,
          16,
          17
         ],
         "xaxis": "x",
         "y": [
          0,
          0,
          0.425541490316391,
          0.1467965990304947,
          0.14043399691581726,
          0.15187647938728333,
          0.6618887782096863,
          0.012805177830159664,
          0.00020125643641222268,
          -0.08036179840564728,
          0.07271679490804672,
          0.07054796814918518,
          0.2147921323776245,
          0.05588280037045479,
          0.0828620120882988,
          -0.029225384816527367,
          -0.2802349328994751,
          -0.22315607964992523
         ],
         "yaxis": "y"
        },
        {
         "hovertemplate": "batch=13<br>Layer=%{x}<br>Logprob Diff Recovery=%{y}<extra></extra>",
         "legendgroup": "13",
         "line": {
          "color": "#ab63fa",
          "dash": "solid"
         },
         "marker": {
          "symbol": "circle"
         },
         "mode": "lines",
         "name": "13",
         "orientation": "v",
         "showlegend": true,
         "type": "scatter",
         "x": [
          0,
          1,
          2,
          3,
          4,
          5,
          6,
          7,
          8,
          9,
          10,
          11,
          12,
          13,
          14,
          15,
          16,
          17
         ],
         "xaxis": "x",
         "y": [
          0,
          0,
          0.20125219225883484,
          -0.04712359234690666,
          0.40822523832321167,
          0.390486478805542,
          0.44549986720085144,
          0.04677329212427139,
          0.19359810650348663,
          0.0920272096991539,
          0.13994650542736053,
          0.07124638557434082,
          -0.055256638675928116,
          0.036290913820266724,
          0.10041264444589615,
          -0.22756169736385345,
          -0.022163525223731995,
          -0.3299124240875244
         ],
         "yaxis": "y"
        },
        {
         "hovertemplate": "batch=14<br>Layer=%{x}<br>Logprob Diff Recovery=%{y}<extra></extra>",
         "legendgroup": "14",
         "line": {
          "color": "#FFA15A",
          "dash": "solid"
         },
         "marker": {
          "symbol": "circle"
         },
         "mode": "lines",
         "name": "14",
         "orientation": "v",
         "showlegend": true,
         "type": "scatter",
         "x": [
          0,
          1,
          2,
          3,
          4,
          5,
          6,
          7,
          8,
          9,
          10,
          11,
          12,
          13,
          14,
          15,
          16,
          17
         ],
         "xaxis": "x",
         "y": [
          0,
          0,
          -0.03918100893497467,
          -0.06762029975652695,
          0.07092279195785522,
          -0.016953591257333755,
          0.05334705114364624,
          -0.00839306227862835,
          -0.07249819487333298,
          -0.089243084192276,
          0.4021744728088379,
          -0.002320684492588043,
          0.06902600079774857,
          -0.1982330083847046,
          -0.020100224763154984,
          0.06365528702735901,
          0.09458287060260773,
          -0.30007731914520264
         ],
         "yaxis": "y"
        },
        {
         "hovertemplate": "batch=15<br>Layer=%{x}<br>Logprob Diff Recovery=%{y}<extra></extra>",
         "legendgroup": "15",
         "line": {
          "color": "#19d3f3",
          "dash": "solid"
         },
         "marker": {
          "symbol": "circle"
         },
         "mode": "lines",
         "name": "15",
         "orientation": "v",
         "showlegend": true,
         "type": "scatter",
         "x": [
          0,
          1,
          2,
          3,
          4,
          5,
          6,
          7,
          8,
          9,
          10,
          11,
          12,
          13,
          14,
          15,
          16,
          17
         ],
         "xaxis": "x",
         "y": [
          0,
          0,
          -0.27256226539611816,
          0.2301512360572815,
          0.503243625164032,
          0.1855481117963791,
          0.08293523639440536,
          -0.02416624315083027,
          0.21360482275485992,
          0.1559254378080368,
          -0.41244521737098694,
          -0.04950309172272682,
          0.07962384819984436,
          0.2758660316467285,
          0.036285776644945145,
          0.03364421799778938,
          -0.2561963200569153,
          -0.3773867189884186
         ],
         "yaxis": "y"
        },
        {
         "hovertemplate": "batch=16<br>Layer=%{x}<br>Logprob Diff Recovery=%{y}<extra></extra>",
         "legendgroup": "16",
         "line": {
          "color": "#FF6692",
          "dash": "solid"
         },
         "marker": {
          "symbol": "circle"
         },
         "mode": "lines",
         "name": "16",
         "orientation": "v",
         "showlegend": true,
         "type": "scatter",
         "x": [
          0,
          1,
          2,
          3,
          4,
          5,
          6,
          7,
          8,
          9,
          10,
          11,
          12,
          13,
          14,
          15,
          16,
          17
         ],
         "xaxis": "x",
         "y": [
          0,
          0,
          -0.02210772968828678,
          -0.1403123140335083,
          0.21385003626346588,
          0.17340347170829773,
          0.32108256220817566,
          0.0001687085605226457,
          0.045228034257888794,
          0.10430992394685745,
          -0.025987811386585236,
          0.09267518669366837,
          0.07388690114021301,
          0.10744986683130264,
          0.0674593523144722,
          -0.4746950566768646,
          -0.022544775158166885,
          -0.3077208697795868
         ],
         "yaxis": "y"
        },
        {
         "hovertemplate": "batch=17<br>Layer=%{x}<br>Logprob Diff Recovery=%{y}<extra></extra>",
         "legendgroup": "17",
         "line": {
          "color": "#B6E880",
          "dash": "solid"
         },
         "marker": {
          "symbol": "circle"
         },
         "mode": "lines",
         "name": "17",
         "orientation": "v",
         "showlegend": true,
         "type": "scatter",
         "x": [
          0,
          1,
          2,
          3,
          4,
          5,
          6,
          7,
          8,
          9,
          10,
          11,
          12,
          13,
          14,
          15,
          16,
          17
         ],
         "xaxis": "x",
         "y": [
          0,
          0,
          -0.0316595733165741,
          -0.2302895486354828,
          0.023552773520350456,
          0.5641968250274658,
          0.2232181578874588,
          0.25860121846199036,
          -0.12555882334709167,
          0.253317654132843,
          0.000044413653085939586,
          0.12168391048908234,
          0.18318815529346466,
          0.20109468698501587,
          0.05477236583828926,
          -0.6218030452728271,
          0.041139867156744,
          -0.8594597578048706
         ],
         "yaxis": "y"
        },
        {
         "hovertemplate": "batch=18<br>Layer=%{x}<br>Logprob Diff Recovery=%{y}<extra></extra>",
         "legendgroup": "18",
         "line": {
          "color": "#FF97FF",
          "dash": "solid"
         },
         "marker": {
          "symbol": "circle"
         },
         "mode": "lines",
         "name": "18",
         "orientation": "v",
         "showlegend": true,
         "type": "scatter",
         "x": [
          0,
          1,
          2,
          3,
          4,
          5,
          6,
          7,
          8,
          9,
          10,
          11,
          12,
          13,
          14,
          15,
          16,
          17
         ],
         "xaxis": "x",
         "y": [
          0,
          0,
          0.2472439557313919,
          0.1625375598669052,
          0.05308761075139046,
          0.03730157017707825,
          0.08660963922739029,
          0.036193836480379105,
          0.052436333149671555,
          0.026192696765065193,
          0.13056102395057678,
          0.01819491572678089,
          0.022929608821868896,
          0.022141749039292336,
          0.09674476832151413,
          -0.004927041940391064,
          0.0436473973095417,
          -0.4612003564834595
         ],
         "yaxis": "y"
        },
        {
         "hovertemplate": "batch=19<br>Layer=%{x}<br>Logprob Diff Recovery=%{y}<extra></extra>",
         "legendgroup": "19",
         "line": {
          "color": "#FECB52",
          "dash": "solid"
         },
         "marker": {
          "symbol": "circle"
         },
         "mode": "lines",
         "name": "19",
         "orientation": "v",
         "showlegend": true,
         "type": "scatter",
         "x": [
          0,
          1,
          2,
          3,
          4,
          5,
          6,
          7,
          8,
          9,
          10,
          11,
          12,
          13,
          14,
          15,
          16,
          17
         ],
         "xaxis": "x",
         "y": [
          0,
          0,
          0.2787490487098694,
          -0.07522246241569519,
          0.28719937801361084,
          0.24439440667629242,
          0.43951910734176636,
          0.15127719938755035,
          0.0765087679028511,
          0.01793459989130497,
          0.052747733891010284,
          0.08159500360488892,
          0.03419334441423416,
          -0.06445842236280441,
          0.07027967274188995,
          -0.10247950255870819,
          -0.04167713224887848,
          -0.4910934269428253
         ],
         "yaxis": "y"
        }
       ],
       "layout": {
        "height": 600,
        "legend": {
         "title": {
          "text": "batch"
         },
         "tracegroupgap": 0
        },
        "shapes": [
         {
          "line": {
           "color": "black",
           "dash": "dot"
          },
          "type": "line",
          "x0": 0,
          "x1": 1,
          "xref": "x domain",
          "y0": 0,
          "y1": 0,
          "yref": "y"
         }
        ],
        "template": {
         "data": {
          "bar": [
           {
            "error_x": {
             "color": "#2a3f5f"
            },
            "error_y": {
             "color": "#2a3f5f"
            },
            "marker": {
             "line": {
              "color": "#E5ECF6",
              "width": 0.5
             },
             "pattern": {
              "fillmode": "overlay",
              "size": 10,
              "solidity": 0.2
             }
            },
            "type": "bar"
           }
          ],
          "barpolar": [
           {
            "marker": {
             "line": {
              "color": "#E5ECF6",
              "width": 0.5
             },
             "pattern": {
              "fillmode": "overlay",
              "size": 10,
              "solidity": 0.2
             }
            },
            "type": "barpolar"
           }
          ],
          "carpet": [
           {
            "aaxis": {
             "endlinecolor": "#2a3f5f",
             "gridcolor": "white",
             "linecolor": "white",
             "minorgridcolor": "white",
             "startlinecolor": "#2a3f5f"
            },
            "baxis": {
             "endlinecolor": "#2a3f5f",
             "gridcolor": "white",
             "linecolor": "white",
             "minorgridcolor": "white",
             "startlinecolor": "#2a3f5f"
            },
            "type": "carpet"
           }
          ],
          "choropleth": [
           {
            "colorbar": {
             "outlinewidth": 0,
             "ticks": ""
            },
            "type": "choropleth"
           }
          ],
          "contour": [
           {
            "colorbar": {
             "outlinewidth": 0,
             "ticks": ""
            },
            "colorscale": [
             [
              0,
              "#0d0887"
             ],
             [
              0.1111111111111111,
              "#46039f"
             ],
             [
              0.2222222222222222,
              "#7201a8"
             ],
             [
              0.3333333333333333,
              "#9c179e"
             ],
             [
              0.4444444444444444,
              "#bd3786"
             ],
             [
              0.5555555555555556,
              "#d8576b"
             ],
             [
              0.6666666666666666,
              "#ed7953"
             ],
             [
              0.7777777777777778,
              "#fb9f3a"
             ],
             [
              0.8888888888888888,
              "#fdca26"
             ],
             [
              1,
              "#f0f921"
             ]
            ],
            "type": "contour"
           }
          ],
          "contourcarpet": [
           {
            "colorbar": {
             "outlinewidth": 0,
             "ticks": ""
            },
            "type": "contourcarpet"
           }
          ],
          "heatmap": [
           {
            "colorbar": {
             "outlinewidth": 0,
             "ticks": ""
            },
            "colorscale": [
             [
              0,
              "#0d0887"
             ],
             [
              0.1111111111111111,
              "#46039f"
             ],
             [
              0.2222222222222222,
              "#7201a8"
             ],
             [
              0.3333333333333333,
              "#9c179e"
             ],
             [
              0.4444444444444444,
              "#bd3786"
             ],
             [
              0.5555555555555556,
              "#d8576b"
             ],
             [
              0.6666666666666666,
              "#ed7953"
             ],
             [
              0.7777777777777778,
              "#fb9f3a"
             ],
             [
              0.8888888888888888,
              "#fdca26"
             ],
             [
              1,
              "#f0f921"
             ]
            ],
            "type": "heatmap"
           }
          ],
          "heatmapgl": [
           {
            "colorbar": {
             "outlinewidth": 0,
             "ticks": ""
            },
            "colorscale": [
             [
              0,
              "#0d0887"
             ],
             [
              0.1111111111111111,
              "#46039f"
             ],
             [
              0.2222222222222222,
              "#7201a8"
             ],
             [
              0.3333333333333333,
              "#9c179e"
             ],
             [
              0.4444444444444444,
              "#bd3786"
             ],
             [
              0.5555555555555556,
              "#d8576b"
             ],
             [
              0.6666666666666666,
              "#ed7953"
             ],
             [
              0.7777777777777778,
              "#fb9f3a"
             ],
             [
              0.8888888888888888,
              "#fdca26"
             ],
             [
              1,
              "#f0f921"
             ]
            ],
            "type": "heatmapgl"
           }
          ],
          "histogram": [
           {
            "marker": {
             "pattern": {
              "fillmode": "overlay",
              "size": 10,
              "solidity": 0.2
             }
            },
            "type": "histogram"
           }
          ],
          "histogram2d": [
           {
            "colorbar": {
             "outlinewidth": 0,
             "ticks": ""
            },
            "colorscale": [
             [
              0,
              "#0d0887"
             ],
             [
              0.1111111111111111,
              "#46039f"
             ],
             [
              0.2222222222222222,
              "#7201a8"
             ],
             [
              0.3333333333333333,
              "#9c179e"
             ],
             [
              0.4444444444444444,
              "#bd3786"
             ],
             [
              0.5555555555555556,
              "#d8576b"
             ],
             [
              0.6666666666666666,
              "#ed7953"
             ],
             [
              0.7777777777777778,
              "#fb9f3a"
             ],
             [
              0.8888888888888888,
              "#fdca26"
             ],
             [
              1,
              "#f0f921"
             ]
            ],
            "type": "histogram2d"
           }
          ],
          "histogram2dcontour": [
           {
            "colorbar": {
             "outlinewidth": 0,
             "ticks": ""
            },
            "colorscale": [
             [
              0,
              "#0d0887"
             ],
             [
              0.1111111111111111,
              "#46039f"
             ],
             [
              0.2222222222222222,
              "#7201a8"
             ],
             [
              0.3333333333333333,
              "#9c179e"
             ],
             [
              0.4444444444444444,
              "#bd3786"
             ],
             [
              0.5555555555555556,
              "#d8576b"
             ],
             [
              0.6666666666666666,
              "#ed7953"
             ],
             [
              0.7777777777777778,
              "#fb9f3a"
             ],
             [
              0.8888888888888888,
              "#fdca26"
             ],
             [
              1,
              "#f0f921"
             ]
            ],
            "type": "histogram2dcontour"
           }
          ],
          "mesh3d": [
           {
            "colorbar": {
             "outlinewidth": 0,
             "ticks": ""
            },
            "type": "mesh3d"
           }
          ],
          "parcoords": [
           {
            "line": {
             "colorbar": {
              "outlinewidth": 0,
              "ticks": ""
             }
            },
            "type": "parcoords"
           }
          ],
          "pie": [
           {
            "automargin": true,
            "type": "pie"
           }
          ],
          "scatter": [
           {
            "fillpattern": {
             "fillmode": "overlay",
             "size": 10,
             "solidity": 0.2
            },
            "type": "scatter"
           }
          ],
          "scatter3d": [
           {
            "line": {
             "colorbar": {
              "outlinewidth": 0,
              "ticks": ""
             }
            },
            "marker": {
             "colorbar": {
              "outlinewidth": 0,
              "ticks": ""
             }
            },
            "type": "scatter3d"
           }
          ],
          "scattercarpet": [
           {
            "marker": {
             "colorbar": {
              "outlinewidth": 0,
              "ticks": ""
             }
            },
            "type": "scattercarpet"
           }
          ],
          "scattergeo": [
           {
            "marker": {
             "colorbar": {
              "outlinewidth": 0,
              "ticks": ""
             }
            },
            "type": "scattergeo"
           }
          ],
          "scattergl": [
           {
            "marker": {
             "colorbar": {
              "outlinewidth": 0,
              "ticks": ""
             }
            },
            "type": "scattergl"
           }
          ],
          "scattermapbox": [
           {
            "marker": {
             "colorbar": {
              "outlinewidth": 0,
              "ticks": ""
             }
            },
            "type": "scattermapbox"
           }
          ],
          "scatterpolar": [
           {
            "marker": {
             "colorbar": {
              "outlinewidth": 0,
              "ticks": ""
             }
            },
            "type": "scatterpolar"
           }
          ],
          "scatterpolargl": [
           {
            "marker": {
             "colorbar": {
              "outlinewidth": 0,
              "ticks": ""
             }
            },
            "type": "scatterpolargl"
           }
          ],
          "scatterternary": [
           {
            "marker": {
             "colorbar": {
              "outlinewidth": 0,
              "ticks": ""
             }
            },
            "type": "scatterternary"
           }
          ],
          "surface": [
           {
            "colorbar": {
             "outlinewidth": 0,
             "ticks": ""
            },
            "colorscale": [
             [
              0,
              "#0d0887"
             ],
             [
              0.1111111111111111,
              "#46039f"
             ],
             [
              0.2222222222222222,
              "#7201a8"
             ],
             [
              0.3333333333333333,
              "#9c179e"
             ],
             [
              0.4444444444444444,
              "#bd3786"
             ],
             [
              0.5555555555555556,
              "#d8576b"
             ],
             [
              0.6666666666666666,
              "#ed7953"
             ],
             [
              0.7777777777777778,
              "#fb9f3a"
             ],
             [
              0.8888888888888888,
              "#fdca26"
             ],
             [
              1,
              "#f0f921"
             ]
            ],
            "type": "surface"
           }
          ],
          "table": [
           {
            "cells": {
             "fill": {
              "color": "#EBF0F8"
             },
             "line": {
              "color": "white"
             }
            },
            "header": {
             "fill": {
              "color": "#C8D4E3"
             },
             "line": {
              "color": "white"
             }
            },
            "type": "table"
           }
          ]
         },
         "layout": {
          "annotationdefaults": {
           "arrowcolor": "#2a3f5f",
           "arrowhead": 0,
           "arrowwidth": 1
          },
          "autotypenumbers": "strict",
          "coloraxis": {
           "colorbar": {
            "outlinewidth": 0,
            "ticks": ""
           }
          },
          "colorscale": {
           "diverging": [
            [
             0,
             "#8e0152"
            ],
            [
             0.1,
             "#c51b7d"
            ],
            [
             0.2,
             "#de77ae"
            ],
            [
             0.3,
             "#f1b6da"
            ],
            [
             0.4,
             "#fde0ef"
            ],
            [
             0.5,
             "#f7f7f7"
            ],
            [
             0.6,
             "#e6f5d0"
            ],
            [
             0.7,
             "#b8e186"
            ],
            [
             0.8,
             "#7fbc41"
            ],
            [
             0.9,
             "#4d9221"
            ],
            [
             1,
             "#276419"
            ]
           ],
           "sequential": [
            [
             0,
             "#0d0887"
            ],
            [
             0.1111111111111111,
             "#46039f"
            ],
            [
             0.2222222222222222,
             "#7201a8"
            ],
            [
             0.3333333333333333,
             "#9c179e"
            ],
            [
             0.4444444444444444,
             "#bd3786"
            ],
            [
             0.5555555555555556,
             "#d8576b"
            ],
            [
             0.6666666666666666,
             "#ed7953"
            ],
            [
             0.7777777777777778,
             "#fb9f3a"
            ],
            [
             0.8888888888888888,
             "#fdca26"
            ],
            [
             1,
             "#f0f921"
            ]
           ],
           "sequentialminus": [
            [
             0,
             "#0d0887"
            ],
            [
             0.1111111111111111,
             "#46039f"
            ],
            [
             0.2222222222222222,
             "#7201a8"
            ],
            [
             0.3333333333333333,
             "#9c179e"
            ],
            [
             0.4444444444444444,
             "#bd3786"
            ],
            [
             0.5555555555555556,
             "#d8576b"
            ],
            [
             0.6666666666666666,
             "#ed7953"
            ],
            [
             0.7777777777777778,
             "#fb9f3a"
            ],
            [
             0.8888888888888888,
             "#fdca26"
            ],
            [
             1,
             "#f0f921"
            ]
           ]
          },
          "colorway": [
           "#636efa",
           "#EF553B",
           "#00cc96",
           "#ab63fa",
           "#FFA15A",
           "#19d3f3",
           "#FF6692",
           "#B6E880",
           "#FF97FF",
           "#FECB52"
          ],
          "font": {
           "color": "#2a3f5f"
          },
          "geo": {
           "bgcolor": "white",
           "lakecolor": "white",
           "landcolor": "#E5ECF6",
           "showlakes": true,
           "showland": true,
           "subunitcolor": "white"
          },
          "hoverlabel": {
           "align": "left"
          },
          "hovermode": "closest",
          "mapbox": {
           "style": "light"
          },
          "paper_bgcolor": "white",
          "plot_bgcolor": "#E5ECF6",
          "polar": {
           "angularaxis": {
            "gridcolor": "white",
            "linecolor": "white",
            "ticks": ""
           },
           "bgcolor": "#E5ECF6",
           "radialaxis": {
            "gridcolor": "white",
            "linecolor": "white",
            "ticks": ""
           }
          },
          "scene": {
           "xaxis": {
            "backgroundcolor": "#E5ECF6",
            "gridcolor": "white",
            "gridwidth": 2,
            "linecolor": "white",
            "showbackground": true,
            "ticks": "",
            "zerolinecolor": "white"
           },
           "yaxis": {
            "backgroundcolor": "#E5ECF6",
            "gridcolor": "white",
            "gridwidth": 2,
            "linecolor": "white",
            "showbackground": true,
            "ticks": "",
            "zerolinecolor": "white"
           },
           "zaxis": {
            "backgroundcolor": "#E5ECF6",
            "gridcolor": "white",
            "gridwidth": 2,
            "linecolor": "white",
            "showbackground": true,
            "ticks": "",
            "zerolinecolor": "white"
           }
          },
          "shapedefaults": {
           "line": {
            "color": "#2a3f5f"
           }
          },
          "ternary": {
           "aaxis": {
            "gridcolor": "white",
            "linecolor": "white",
            "ticks": ""
           },
           "baxis": {
            "gridcolor": "white",
            "linecolor": "white",
            "ticks": ""
           },
           "bgcolor": "#E5ECF6",
           "caxis": {
            "gridcolor": "white",
            "linecolor": "white",
            "ticks": ""
           }
          },
          "title": {
           "x": 0.05
          },
          "xaxis": {
           "automargin": true,
           "gridcolor": "white",
           "linecolor": "white",
           "ticks": "",
           "title": {
            "standoff": 15
           },
           "zerolinecolor": "white",
           "zerolinewidth": 2
          },
          "yaxis": {
           "automargin": true,
           "gridcolor": "white",
           "linecolor": "white",
           "ticks": "",
           "title": {
            "standoff": 15
           },
           "zerolinecolor": "white",
           "zerolinewidth": 2
          }
         }
        },
        "title": {
         "text": "Activation Patching MLP @ All Pos"
        },
        "width": 1500,
        "xaxis": {
         "anchor": "y",
         "domain": [
          0,
          1
         ],
         "tickmode": "array",
         "ticktext": [
          14,
          15,
          16,
          17,
          18,
          19,
          20,
          21,
          22,
          23,
          24,
          25,
          26,
          27,
          28,
          29,
          30,
          31
         ],
         "tickvals": [
          0,
          1,
          2,
          3,
          4,
          5,
          6,
          7,
          8,
          9,
          10,
          11,
          12,
          13,
          14,
          15,
          16,
          17
         ],
         "title": {
          "text": "Layer"
         }
        },
        "yaxis": {
         "anchor": "x",
         "domain": [
          0,
          1
         ],
         "title": {
          "text": "Logprob Diff Recovery"
         }
        }
       }
      },
      "text/html": [
       "<div>                            <div id=\"c9f92026-ec04-4f35-a667-8960fb09febf\" class=\"plotly-graph-div\" style=\"height:600px; width:1500px;\"></div>            <script type=\"text/javascript\">                require([\"plotly\"], function(Plotly) {                    window.PLOTLYENV=window.PLOTLYENV || {};                                    if (document.getElementById(\"c9f92026-ec04-4f35-a667-8960fb09febf\")) {                    Plotly.newPlot(                        \"c9f92026-ec04-4f35-a667-8960fb09febf\",                        [{\"hovertemplate\":\"batch=0<br>Layer=%{x}<br>Logprob Diff Recovery=%{y}<extra></extra>\",\"legendgroup\":\"0\",\"line\":{\"color\":\"#636efa\",\"dash\":\"solid\"},\"marker\":{\"symbol\":\"circle\"},\"mode\":\"lines\",\"name\":\"0\",\"orientation\":\"v\",\"showlegend\":true,\"x\":[0,1,2,3,4,5,6,7,8,9,10,11,12,13,14,15,16,17],\"xaxis\":\"x\",\"y\":[0.0,0.0,-0.052794042974710464,-0.04752623662352562,0.17280058562755585,0.3666660189628601,0.5174564719200134,0.03525373712182045,0.07578740268945694,0.08802416175603867,0.046868037432432175,0.08585882931947708,0.058394841849803925,0.06448663771152496,0.08391926437616348,-0.4861283302307129,-0.13345716893672943,-0.3932822346687317],\"yaxis\":\"y\",\"type\":\"scatter\"},{\"hovertemplate\":\"batch=1<br>Layer=%{x}<br>Logprob Diff Recovery=%{y}<extra></extra>\",\"legendgroup\":\"1\",\"line\":{\"color\":\"#EF553B\",\"dash\":\"solid\"},\"marker\":{\"symbol\":\"circle\"},\"mode\":\"lines\",\"name\":\"1\",\"orientation\":\"v\",\"showlegend\":true,\"x\":[0,1,2,3,4,5,6,7,8,9,10,11,12,13,14,15,16,17],\"xaxis\":\"x\",\"y\":[0.0,0.0,0.2318418025970459,-0.17302019894123077,0.2826308012008667,0.43309545516967773,0.48948031663894653,0.040563520044088364,0.13755275309085846,0.013473661616444588,-0.005116248968988657,0.06889864057302475,0.05665586516261101,0.07688306272029877,0.04777775704860687,-0.6414406299591064,-0.031984031200408936,-0.5777934789657593],\"yaxis\":\"y\",\"type\":\"scatter\"},{\"hovertemplate\":\"batch=2<br>Layer=%{x}<br>Logprob Diff Recovery=%{y}<extra></extra>\",\"legendgroup\":\"2\",\"line\":{\"color\":\"#00cc96\",\"dash\":\"solid\"},\"marker\":{\"symbol\":\"circle\"},\"mode\":\"lines\",\"name\":\"2\",\"orientation\":\"v\",\"showlegend\":true,\"x\":[0,1,2,3,4,5,6,7,8,9,10,11,12,13,14,15,16,17],\"xaxis\":\"x\",\"y\":[-0.0,-0.0,0.22565102577209473,-0.5308889150619507,0.25097280740737915,0.03478000685572624,-0.17215734720230103,0.6836652755737305,-0.3419450521469116,-0.9481415748596191,1.9254779815673828,0.5306283235549927,-0.0947856456041336,-0.6880321502685547,-0.45408299565315247,0.10626213252544403,0.8119757175445557,0.6612551808357239],\"yaxis\":\"y\",\"type\":\"scatter\"},{\"hovertemplate\":\"batch=3<br>Layer=%{x}<br>Logprob Diff Recovery=%{y}<extra></extra>\",\"legendgroup\":\"3\",\"line\":{\"color\":\"#ab63fa\",\"dash\":\"solid\"},\"marker\":{\"symbol\":\"circle\"},\"mode\":\"lines\",\"name\":\"3\",\"orientation\":\"v\",\"showlegend\":true,\"x\":[0,1,2,3,4,5,6,7,8,9,10,11,12,13,14,15,16,17],\"xaxis\":\"x\",\"y\":[0.0,0.0,0.2848431468009949,-0.1522185355424881,0.3101228177547455,0.38028684258461,0.39532333612442017,-0.03028007782995701,0.08599533885717392,-0.02055330201983452,-0.05395364388823509,0.06034667417407036,0.08370517939329147,0.07610049843788147,0.1456768810749054,-0.3909221589565277,-0.158462256193161,-0.445426881313324],\"yaxis\":\"y\",\"type\":\"scatter\"},{\"hovertemplate\":\"batch=4<br>Layer=%{x}<br>Logprob Diff Recovery=%{y}<extra></extra>\",\"legendgroup\":\"4\",\"line\":{\"color\":\"#FFA15A\",\"dash\":\"solid\"},\"marker\":{\"symbol\":\"circle\"},\"mode\":\"lines\",\"name\":\"4\",\"orientation\":\"v\",\"showlegend\":true,\"x\":[0,1,2,3,4,5,6,7,8,9,10,11,12,13,14,15,16,17],\"xaxis\":\"x\",\"y\":[0.0,0.0,0.24956998229026794,-0.17134299874305725,0.2658970355987549,0.4233373701572418,0.505790114402771,-0.22758664190769196,0.09059139341115952,0.04010587930679321,0.22244730591773987,0.030765444040298462,-0.0903262346982956,0.2990381717681885,0.12132521718740463,-0.0783323422074318,0.022799940779805183,-0.1510317325592041],\"yaxis\":\"y\",\"type\":\"scatter\"},{\"hovertemplate\":\"batch=5<br>Layer=%{x}<br>Logprob Diff Recovery=%{y}<extra></extra>\",\"legendgroup\":\"5\",\"line\":{\"color\":\"#19d3f3\",\"dash\":\"solid\"},\"marker\":{\"symbol\":\"circle\"},\"mode\":\"lines\",\"name\":\"5\",\"orientation\":\"v\",\"showlegend\":true,\"x\":[0,1,2,3,4,5,6,7,8,9,10,11,12,13,14,15,16,17],\"xaxis\":\"x\",\"y\":[0.0,0.0,0.6015570163726807,-0.3904872238636017,0.37977540493011475,0.3258076012134552,0.2939329445362091,0.15837018191814423,0.08087453991174698,0.08889798074960709,0.03812020644545555,0.0836087241768837,0.10776759684085846,0.09535717964172363,0.05560743063688278,-0.7306812405586243,0.041862133890390396,-0.7204787731170654],\"yaxis\":\"y\",\"type\":\"scatter\"},{\"hovertemplate\":\"batch=6<br>Layer=%{x}<br>Logprob Diff Recovery=%{y}<extra></extra>\",\"legendgroup\":\"6\",\"line\":{\"color\":\"#FF6692\",\"dash\":\"solid\"},\"marker\":{\"symbol\":\"circle\"},\"mode\":\"lines\",\"name\":\"6\",\"orientation\":\"v\",\"showlegend\":true,\"x\":[0,1,2,3,4,5,6,7,8,9,10,11,12,13,14,15,16,17],\"xaxis\":\"x\",\"y\":[0.0,0.0,0.015213627368211746,-0.37740495800971985,0.06669603288173676,0.2783649265766144,0.24961978197097778,-0.020576519891619682,0.0011294608702883124,0.15459270775318146,0.08218692243099213,0.06639864295721054,0.04186895862221718,0.023724602535367012,0.017604973167181015,-0.5449177026748657,-0.061350442469120026,-0.41650450229644775],\"yaxis\":\"y\",\"type\":\"scatter\"},{\"hovertemplate\":\"batch=7<br>Layer=%{x}<br>Logprob Diff Recovery=%{y}<extra></extra>\",\"legendgroup\":\"7\",\"line\":{\"color\":\"#B6E880\",\"dash\":\"solid\"},\"marker\":{\"symbol\":\"circle\"},\"mode\":\"lines\",\"name\":\"7\",\"orientation\":\"v\",\"showlegend\":true,\"x\":[0,1,2,3,4,5,6,7,8,9,10,11,12,13,14,15,16,17],\"xaxis\":\"x\",\"y\":[0.0,0.0,0.34853628277778625,0.08261078596115112,0.2626720666885376,0.14718636870384216,0.5399259924888611,0.029832741245627403,-0.016180988401174545,-0.03541284054517746,0.11720477789640427,-0.0013500970089808106,0.09758824855089188,0.14071124792099,0.08982657641172409,-0.0031011011451482773,-0.053320448845624924,-0.14931349456310272],\"yaxis\":\"y\",\"type\":\"scatter\"},{\"hovertemplate\":\"batch=8<br>Layer=%{x}<br>Logprob Diff Recovery=%{y}<extra></extra>\",\"legendgroup\":\"8\",\"line\":{\"color\":\"#FF97FF\",\"dash\":\"solid\"},\"marker\":{\"symbol\":\"circle\"},\"mode\":\"lines\",\"name\":\"8\",\"orientation\":\"v\",\"showlegend\":true,\"x\":[0,1,2,3,4,5,6,7,8,9,10,11,12,13,14,15,16,17],\"xaxis\":\"x\",\"y\":[0.0,0.0,0.686249315738678,0.6615235805511475,0.4773203730583191,0.13026194274425507,0.5304087400436401,-0.02880200929939747,-0.07099645584821701,0.21045415103435516,0.4497648775577545,0.177553191781044,0.03626897931098938,-0.04655737802386284,0.2054104059934616,-0.11915840208530426,0.07990838587284088,-0.2405063360929489],\"yaxis\":\"y\",\"type\":\"scatter\"},{\"hovertemplate\":\"batch=9<br>Layer=%{x}<br>Logprob Diff Recovery=%{y}<extra></extra>\",\"legendgroup\":\"9\",\"line\":{\"color\":\"#FECB52\",\"dash\":\"solid\"},\"marker\":{\"symbol\":\"circle\"},\"mode\":\"lines\",\"name\":\"9\",\"orientation\":\"v\",\"showlegend\":true,\"x\":[0,1,2,3,4,5,6,7,8,9,10,11,12,13,14,15,16,17],\"xaxis\":\"x\",\"y\":[0.0,0.0,0.27110493183135986,0.004755890462547541,0.263658344745636,0.28919780254364014,0.3598301112651825,0.054544977843761444,0.04356562718749046,0.05419737100601196,0.014660011045634747,0.08542323112487793,0.07227423042058945,0.05894143134355545,0.10976241528987885,-0.30981963872909546,-0.049535512924194336,-0.6097414493560791],\"yaxis\":\"y\",\"type\":\"scatter\"},{\"hovertemplate\":\"batch=10<br>Layer=%{x}<br>Logprob Diff Recovery=%{y}<extra></extra>\",\"legendgroup\":\"10\",\"line\":{\"color\":\"#636efa\",\"dash\":\"solid\"},\"marker\":{\"symbol\":\"circle\"},\"mode\":\"lines\",\"name\":\"10\",\"orientation\":\"v\",\"showlegend\":true,\"x\":[0,1,2,3,4,5,6,7,8,9,10,11,12,13,14,15,16,17],\"xaxis\":\"x\",\"y\":[0.0,0.0,0.2605026960372925,0.03971093147993088,0.20122498273849487,0.14187778532505035,0.47768256068229675,0.0973622053861618,0.11283913254737854,0.011470455676317215,0.09328769147396088,0.05308559909462929,0.021168505772948265,0.010728209279477596,0.10204467922449112,0.00393178965896368,-0.0799466222524643,-0.34870219230651855],\"yaxis\":\"y\",\"type\":\"scatter\"},{\"hovertemplate\":\"batch=11<br>Layer=%{x}<br>Logprob Diff Recovery=%{y}<extra></extra>\",\"legendgroup\":\"11\",\"line\":{\"color\":\"#EF553B\",\"dash\":\"solid\"},\"marker\":{\"symbol\":\"circle\"},\"mode\":\"lines\",\"name\":\"11\",\"orientation\":\"v\",\"showlegend\":true,\"x\":[0,1,2,3,4,5,6,7,8,9,10,11,12,13,14,15,16,17],\"xaxis\":\"x\",\"y\":[0.0,0.0,0.31481388211250305,0.022711923345923424,0.19522057473659515,0.0722891315817833,0.4196420907974243,-0.02577228844165802,0.0031730898190289736,0.0003317072696518153,0.08351988345384598,0.0488697774708271,0.14432218670845032,0.052980758249759674,0.07866492867469788,-0.013895709998905659,-0.10847310721874237,-0.31627559661865234],\"yaxis\":\"y\",\"type\":\"scatter\"},{\"hovertemplate\":\"batch=12<br>Layer=%{x}<br>Logprob Diff Recovery=%{y}<extra></extra>\",\"legendgroup\":\"12\",\"line\":{\"color\":\"#00cc96\",\"dash\":\"solid\"},\"marker\":{\"symbol\":\"circle\"},\"mode\":\"lines\",\"name\":\"12\",\"orientation\":\"v\",\"showlegend\":true,\"x\":[0,1,2,3,4,5,6,7,8,9,10,11,12,13,14,15,16,17],\"xaxis\":\"x\",\"y\":[0.0,0.0,0.425541490316391,0.1467965990304947,0.14043399691581726,0.15187647938728333,0.6618887782096863,0.012805177830159664,0.00020125643641222268,-0.08036179840564728,0.07271679490804672,0.07054796814918518,0.2147921323776245,0.05588280037045479,0.0828620120882988,-0.029225384816527367,-0.2802349328994751,-0.22315607964992523],\"yaxis\":\"y\",\"type\":\"scatter\"},{\"hovertemplate\":\"batch=13<br>Layer=%{x}<br>Logprob Diff Recovery=%{y}<extra></extra>\",\"legendgroup\":\"13\",\"line\":{\"color\":\"#ab63fa\",\"dash\":\"solid\"},\"marker\":{\"symbol\":\"circle\"},\"mode\":\"lines\",\"name\":\"13\",\"orientation\":\"v\",\"showlegend\":true,\"x\":[0,1,2,3,4,5,6,7,8,9,10,11,12,13,14,15,16,17],\"xaxis\":\"x\",\"y\":[0.0,0.0,0.20125219225883484,-0.04712359234690666,0.40822523832321167,0.390486478805542,0.44549986720085144,0.04677329212427139,0.19359810650348663,0.0920272096991539,0.13994650542736053,0.07124638557434082,-0.055256638675928116,0.036290913820266724,0.10041264444589615,-0.22756169736385345,-0.022163525223731995,-0.3299124240875244],\"yaxis\":\"y\",\"type\":\"scatter\"},{\"hovertemplate\":\"batch=14<br>Layer=%{x}<br>Logprob Diff Recovery=%{y}<extra></extra>\",\"legendgroup\":\"14\",\"line\":{\"color\":\"#FFA15A\",\"dash\":\"solid\"},\"marker\":{\"symbol\":\"circle\"},\"mode\":\"lines\",\"name\":\"14\",\"orientation\":\"v\",\"showlegend\":true,\"x\":[0,1,2,3,4,5,6,7,8,9,10,11,12,13,14,15,16,17],\"xaxis\":\"x\",\"y\":[-0.0,-0.0,-0.03918100893497467,-0.06762029975652695,0.07092279195785522,-0.016953591257333755,0.05334705114364624,-0.00839306227862835,-0.07249819487333298,-0.089243084192276,0.4021744728088379,-0.002320684492588043,0.06902600079774857,-0.1982330083847046,-0.020100224763154984,0.06365528702735901,0.09458287060260773,-0.30007731914520264],\"yaxis\":\"y\",\"type\":\"scatter\"},{\"hovertemplate\":\"batch=15<br>Layer=%{x}<br>Logprob Diff Recovery=%{y}<extra></extra>\",\"legendgroup\":\"15\",\"line\":{\"color\":\"#19d3f3\",\"dash\":\"solid\"},\"marker\":{\"symbol\":\"circle\"},\"mode\":\"lines\",\"name\":\"15\",\"orientation\":\"v\",\"showlegend\":true,\"x\":[0,1,2,3,4,5,6,7,8,9,10,11,12,13,14,15,16,17],\"xaxis\":\"x\",\"y\":[0.0,0.0,-0.27256226539611816,0.2301512360572815,0.503243625164032,0.1855481117963791,0.08293523639440536,-0.02416624315083027,0.21360482275485992,0.1559254378080368,-0.41244521737098694,-0.04950309172272682,0.07962384819984436,0.2758660316467285,0.036285776644945145,0.03364421799778938,-0.2561963200569153,-0.3773867189884186],\"yaxis\":\"y\",\"type\":\"scatter\"},{\"hovertemplate\":\"batch=16<br>Layer=%{x}<br>Logprob Diff Recovery=%{y}<extra></extra>\",\"legendgroup\":\"16\",\"line\":{\"color\":\"#FF6692\",\"dash\":\"solid\"},\"marker\":{\"symbol\":\"circle\"},\"mode\":\"lines\",\"name\":\"16\",\"orientation\":\"v\",\"showlegend\":true,\"x\":[0,1,2,3,4,5,6,7,8,9,10,11,12,13,14,15,16,17],\"xaxis\":\"x\",\"y\":[0.0,0.0,-0.02210772968828678,-0.1403123140335083,0.21385003626346588,0.17340347170829773,0.32108256220817566,0.0001687085605226457,0.045228034257888794,0.10430992394685745,-0.025987811386585236,0.09267518669366837,0.07388690114021301,0.10744986683130264,0.0674593523144722,-0.4746950566768646,-0.022544775158166885,-0.3077208697795868],\"yaxis\":\"y\",\"type\":\"scatter\"},{\"hovertemplate\":\"batch=17<br>Layer=%{x}<br>Logprob Diff Recovery=%{y}<extra></extra>\",\"legendgroup\":\"17\",\"line\":{\"color\":\"#B6E880\",\"dash\":\"solid\"},\"marker\":{\"symbol\":\"circle\"},\"mode\":\"lines\",\"name\":\"17\",\"orientation\":\"v\",\"showlegend\":true,\"x\":[0,1,2,3,4,5,6,7,8,9,10,11,12,13,14,15,16,17],\"xaxis\":\"x\",\"y\":[0.0,0.0,-0.0316595733165741,-0.2302895486354828,0.023552773520350456,0.5641968250274658,0.2232181578874588,0.25860121846199036,-0.12555882334709167,0.253317654132843,4.4413653085939586e-05,0.12168391048908234,0.18318815529346466,0.20109468698501587,0.05477236583828926,-0.6218030452728271,0.041139867156744,-0.8594597578048706],\"yaxis\":\"y\",\"type\":\"scatter\"},{\"hovertemplate\":\"batch=18<br>Layer=%{x}<br>Logprob Diff Recovery=%{y}<extra></extra>\",\"legendgroup\":\"18\",\"line\":{\"color\":\"#FF97FF\",\"dash\":\"solid\"},\"marker\":{\"symbol\":\"circle\"},\"mode\":\"lines\",\"name\":\"18\",\"orientation\":\"v\",\"showlegend\":true,\"x\":[0,1,2,3,4,5,6,7,8,9,10,11,12,13,14,15,16,17],\"xaxis\":\"x\",\"y\":[0.0,0.0,0.2472439557313919,0.1625375598669052,0.05308761075139046,0.03730157017707825,0.08660963922739029,0.036193836480379105,0.052436333149671555,0.026192696765065193,0.13056102395057678,0.01819491572678089,0.022929608821868896,0.022141749039292336,0.09674476832151413,-0.004927041940391064,0.0436473973095417,-0.4612003564834595],\"yaxis\":\"y\",\"type\":\"scatter\"},{\"hovertemplate\":\"batch=19<br>Layer=%{x}<br>Logprob Diff Recovery=%{y}<extra></extra>\",\"legendgroup\":\"19\",\"line\":{\"color\":\"#FECB52\",\"dash\":\"solid\"},\"marker\":{\"symbol\":\"circle\"},\"mode\":\"lines\",\"name\":\"19\",\"orientation\":\"v\",\"showlegend\":true,\"x\":[0,1,2,3,4,5,6,7,8,9,10,11,12,13,14,15,16,17],\"xaxis\":\"x\",\"y\":[0.0,0.0,0.2787490487098694,-0.07522246241569519,0.28719937801361084,0.24439440667629242,0.43951910734176636,0.15127719938755035,0.0765087679028511,0.01793459989130497,0.052747733891010284,0.08159500360488892,0.03419334441423416,-0.06445842236280441,0.07027967274188995,-0.10247950255870819,-0.04167713224887848,-0.4910934269428253],\"yaxis\":\"y\",\"type\":\"scatter\"}],                        {\"template\":{\"data\":{\"histogram2dcontour\":[{\"type\":\"histogram2dcontour\",\"colorbar\":{\"outlinewidth\":0,\"ticks\":\"\"},\"colorscale\":[[0.0,\"#0d0887\"],[0.1111111111111111,\"#46039f\"],[0.2222222222222222,\"#7201a8\"],[0.3333333333333333,\"#9c179e\"],[0.4444444444444444,\"#bd3786\"],[0.5555555555555556,\"#d8576b\"],[0.6666666666666666,\"#ed7953\"],[0.7777777777777778,\"#fb9f3a\"],[0.8888888888888888,\"#fdca26\"],[1.0,\"#f0f921\"]]}],\"choropleth\":[{\"type\":\"choropleth\",\"colorbar\":{\"outlinewidth\":0,\"ticks\":\"\"}}],\"histogram2d\":[{\"type\":\"histogram2d\",\"colorbar\":{\"outlinewidth\":0,\"ticks\":\"\"},\"colorscale\":[[0.0,\"#0d0887\"],[0.1111111111111111,\"#46039f\"],[0.2222222222222222,\"#7201a8\"],[0.3333333333333333,\"#9c179e\"],[0.4444444444444444,\"#bd3786\"],[0.5555555555555556,\"#d8576b\"],[0.6666666666666666,\"#ed7953\"],[0.7777777777777778,\"#fb9f3a\"],[0.8888888888888888,\"#fdca26\"],[1.0,\"#f0f921\"]]}],\"heatmap\":[{\"type\":\"heatmap\",\"colorbar\":{\"outlinewidth\":0,\"ticks\":\"\"},\"colorscale\":[[0.0,\"#0d0887\"],[0.1111111111111111,\"#46039f\"],[0.2222222222222222,\"#7201a8\"],[0.3333333333333333,\"#9c179e\"],[0.4444444444444444,\"#bd3786\"],[0.5555555555555556,\"#d8576b\"],[0.6666666666666666,\"#ed7953\"],[0.7777777777777778,\"#fb9f3a\"],[0.8888888888888888,\"#fdca26\"],[1.0,\"#f0f921\"]]}],\"heatmapgl\":[{\"type\":\"heatmapgl\",\"colorbar\":{\"outlinewidth\":0,\"ticks\":\"\"},\"colorscale\":[[0.0,\"#0d0887\"],[0.1111111111111111,\"#46039f\"],[0.2222222222222222,\"#7201a8\"],[0.3333333333333333,\"#9c179e\"],[0.4444444444444444,\"#bd3786\"],[0.5555555555555556,\"#d8576b\"],[0.6666666666666666,\"#ed7953\"],[0.7777777777777778,\"#fb9f3a\"],[0.8888888888888888,\"#fdca26\"],[1.0,\"#f0f921\"]]}],\"contourcarpet\":[{\"type\":\"contourcarpet\",\"colorbar\":{\"outlinewidth\":0,\"ticks\":\"\"}}],\"contour\":[{\"type\":\"contour\",\"colorbar\":{\"outlinewidth\":0,\"ticks\":\"\"},\"colorscale\":[[0.0,\"#0d0887\"],[0.1111111111111111,\"#46039f\"],[0.2222222222222222,\"#7201a8\"],[0.3333333333333333,\"#9c179e\"],[0.4444444444444444,\"#bd3786\"],[0.5555555555555556,\"#d8576b\"],[0.6666666666666666,\"#ed7953\"],[0.7777777777777778,\"#fb9f3a\"],[0.8888888888888888,\"#fdca26\"],[1.0,\"#f0f921\"]]}],\"surface\":[{\"type\":\"surface\",\"colorbar\":{\"outlinewidth\":0,\"ticks\":\"\"},\"colorscale\":[[0.0,\"#0d0887\"],[0.1111111111111111,\"#46039f\"],[0.2222222222222222,\"#7201a8\"],[0.3333333333333333,\"#9c179e\"],[0.4444444444444444,\"#bd3786\"],[0.5555555555555556,\"#d8576b\"],[0.6666666666666666,\"#ed7953\"],[0.7777777777777778,\"#fb9f3a\"],[0.8888888888888888,\"#fdca26\"],[1.0,\"#f0f921\"]]}],\"mesh3d\":[{\"type\":\"mesh3d\",\"colorbar\":{\"outlinewidth\":0,\"ticks\":\"\"}}],\"scatter\":[{\"fillpattern\":{\"fillmode\":\"overlay\",\"size\":10,\"solidity\":0.2},\"type\":\"scatter\"}],\"parcoords\":[{\"type\":\"parcoords\",\"line\":{\"colorbar\":{\"outlinewidth\":0,\"ticks\":\"\"}}}],\"scatterpolargl\":[{\"type\":\"scatterpolargl\",\"marker\":{\"colorbar\":{\"outlinewidth\":0,\"ticks\":\"\"}}}],\"bar\":[{\"error_x\":{\"color\":\"#2a3f5f\"},\"error_y\":{\"color\":\"#2a3f5f\"},\"marker\":{\"line\":{\"color\":\"#E5ECF6\",\"width\":0.5},\"pattern\":{\"fillmode\":\"overlay\",\"size\":10,\"solidity\":0.2}},\"type\":\"bar\"}],\"scattergeo\":[{\"type\":\"scattergeo\",\"marker\":{\"colorbar\":{\"outlinewidth\":0,\"ticks\":\"\"}}}],\"scatterpolar\":[{\"type\":\"scatterpolar\",\"marker\":{\"colorbar\":{\"outlinewidth\":0,\"ticks\":\"\"}}}],\"histogram\":[{\"marker\":{\"pattern\":{\"fillmode\":\"overlay\",\"size\":10,\"solidity\":0.2}},\"type\":\"histogram\"}],\"scattergl\":[{\"type\":\"scattergl\",\"marker\":{\"colorbar\":{\"outlinewidth\":0,\"ticks\":\"\"}}}],\"scatter3d\":[{\"type\":\"scatter3d\",\"line\":{\"colorbar\":{\"outlinewidth\":0,\"ticks\":\"\"}},\"marker\":{\"colorbar\":{\"outlinewidth\":0,\"ticks\":\"\"}}}],\"scattermapbox\":[{\"type\":\"scattermapbox\",\"marker\":{\"colorbar\":{\"outlinewidth\":0,\"ticks\":\"\"}}}],\"scatterternary\":[{\"type\":\"scatterternary\",\"marker\":{\"colorbar\":{\"outlinewidth\":0,\"ticks\":\"\"}}}],\"scattercarpet\":[{\"type\":\"scattercarpet\",\"marker\":{\"colorbar\":{\"outlinewidth\":0,\"ticks\":\"\"}}}],\"carpet\":[{\"aaxis\":{\"endlinecolor\":\"#2a3f5f\",\"gridcolor\":\"white\",\"linecolor\":\"white\",\"minorgridcolor\":\"white\",\"startlinecolor\":\"#2a3f5f\"},\"baxis\":{\"endlinecolor\":\"#2a3f5f\",\"gridcolor\":\"white\",\"linecolor\":\"white\",\"minorgridcolor\":\"white\",\"startlinecolor\":\"#2a3f5f\"},\"type\":\"carpet\"}],\"table\":[{\"cells\":{\"fill\":{\"color\":\"#EBF0F8\"},\"line\":{\"color\":\"white\"}},\"header\":{\"fill\":{\"color\":\"#C8D4E3\"},\"line\":{\"color\":\"white\"}},\"type\":\"table\"}],\"barpolar\":[{\"marker\":{\"line\":{\"color\":\"#E5ECF6\",\"width\":0.5},\"pattern\":{\"fillmode\":\"overlay\",\"size\":10,\"solidity\":0.2}},\"type\":\"barpolar\"}],\"pie\":[{\"automargin\":true,\"type\":\"pie\"}]},\"layout\":{\"autotypenumbers\":\"strict\",\"colorway\":[\"#636efa\",\"#EF553B\",\"#00cc96\",\"#ab63fa\",\"#FFA15A\",\"#19d3f3\",\"#FF6692\",\"#B6E880\",\"#FF97FF\",\"#FECB52\"],\"font\":{\"color\":\"#2a3f5f\"},\"hovermode\":\"closest\",\"hoverlabel\":{\"align\":\"left\"},\"paper_bgcolor\":\"white\",\"plot_bgcolor\":\"#E5ECF6\",\"polar\":{\"bgcolor\":\"#E5ECF6\",\"angularaxis\":{\"gridcolor\":\"white\",\"linecolor\":\"white\",\"ticks\":\"\"},\"radialaxis\":{\"gridcolor\":\"white\",\"linecolor\":\"white\",\"ticks\":\"\"}},\"ternary\":{\"bgcolor\":\"#E5ECF6\",\"aaxis\":{\"gridcolor\":\"white\",\"linecolor\":\"white\",\"ticks\":\"\"},\"baxis\":{\"gridcolor\":\"white\",\"linecolor\":\"white\",\"ticks\":\"\"},\"caxis\":{\"gridcolor\":\"white\",\"linecolor\":\"white\",\"ticks\":\"\"}},\"coloraxis\":{\"colorbar\":{\"outlinewidth\":0,\"ticks\":\"\"}},\"colorscale\":{\"sequential\":[[0.0,\"#0d0887\"],[0.1111111111111111,\"#46039f\"],[0.2222222222222222,\"#7201a8\"],[0.3333333333333333,\"#9c179e\"],[0.4444444444444444,\"#bd3786\"],[0.5555555555555556,\"#d8576b\"],[0.6666666666666666,\"#ed7953\"],[0.7777777777777778,\"#fb9f3a\"],[0.8888888888888888,\"#fdca26\"],[1.0,\"#f0f921\"]],\"sequentialminus\":[[0.0,\"#0d0887\"],[0.1111111111111111,\"#46039f\"],[0.2222222222222222,\"#7201a8\"],[0.3333333333333333,\"#9c179e\"],[0.4444444444444444,\"#bd3786\"],[0.5555555555555556,\"#d8576b\"],[0.6666666666666666,\"#ed7953\"],[0.7777777777777778,\"#fb9f3a\"],[0.8888888888888888,\"#fdca26\"],[1.0,\"#f0f921\"]],\"diverging\":[[0,\"#8e0152\"],[0.1,\"#c51b7d\"],[0.2,\"#de77ae\"],[0.3,\"#f1b6da\"],[0.4,\"#fde0ef\"],[0.5,\"#f7f7f7\"],[0.6,\"#e6f5d0\"],[0.7,\"#b8e186\"],[0.8,\"#7fbc41\"],[0.9,\"#4d9221\"],[1,\"#276419\"]]},\"xaxis\":{\"gridcolor\":\"white\",\"linecolor\":\"white\",\"ticks\":\"\",\"title\":{\"standoff\":15},\"zerolinecolor\":\"white\",\"automargin\":true,\"zerolinewidth\":2},\"yaxis\":{\"gridcolor\":\"white\",\"linecolor\":\"white\",\"ticks\":\"\",\"title\":{\"standoff\":15},\"zerolinecolor\":\"white\",\"automargin\":true,\"zerolinewidth\":2},\"scene\":{\"xaxis\":{\"backgroundcolor\":\"#E5ECF6\",\"gridcolor\":\"white\",\"linecolor\":\"white\",\"showbackground\":true,\"ticks\":\"\",\"zerolinecolor\":\"white\",\"gridwidth\":2},\"yaxis\":{\"backgroundcolor\":\"#E5ECF6\",\"gridcolor\":\"white\",\"linecolor\":\"white\",\"showbackground\":true,\"ticks\":\"\",\"zerolinecolor\":\"white\",\"gridwidth\":2},\"zaxis\":{\"backgroundcolor\":\"#E5ECF6\",\"gridcolor\":\"white\",\"linecolor\":\"white\",\"showbackground\":true,\"ticks\":\"\",\"zerolinecolor\":\"white\",\"gridwidth\":2}},\"shapedefaults\":{\"line\":{\"color\":\"#2a3f5f\"}},\"annotationdefaults\":{\"arrowcolor\":\"#2a3f5f\",\"arrowhead\":0,\"arrowwidth\":1},\"geo\":{\"bgcolor\":\"white\",\"landcolor\":\"#E5ECF6\",\"subunitcolor\":\"white\",\"showland\":true,\"showlakes\":true,\"lakecolor\":\"white\"},\"title\":{\"x\":0.05},\"mapbox\":{\"style\":\"light\"}}},\"xaxis\":{\"anchor\":\"y\",\"domain\":[0.0,1.0],\"title\":{\"text\":\"Layer\"},\"tickmode\":\"array\",\"tickvals\":[0,1,2,3,4,5,6,7,8,9,10,11,12,13,14,15,16,17],\"ticktext\":[14,15,16,17,18,19,20,21,22,23,24,25,26,27,28,29,30,31]},\"yaxis\":{\"anchor\":\"x\",\"domain\":[0.0,1.0],\"title\":{\"text\":\"Logprob Diff Recovery\"}},\"legend\":{\"title\":{\"text\":\"batch\"},\"tracegroupgap\":0},\"title\":{\"text\":\"Activation Patching MLP @ All Pos\"},\"height\":600,\"width\":1500,\"shapes\":[{\"line\":{\"color\":\"black\",\"dash\":\"dot\"},\"type\":\"line\",\"x0\":0,\"x1\":1,\"xref\":\"x domain\",\"y0\":0,\"y1\":0,\"yref\":\"y\"}]},                        {\"responsive\": true}                    ).then(function(){\n",
       "                            \n",
       "var gd = document.getElementById('c9f92026-ec04-4f35-a667-8960fb09febf');\n",
       "var x = new MutationObserver(function (mutations, observer) {{\n",
       "        var display = window.getComputedStyle(gd).display;\n",
       "        if (!display || display === 'none') {{\n",
       "            console.log([gd, 'removed!']);\n",
       "            Plotly.purge(gd);\n",
       "            observer.disconnect();\n",
       "        }}\n",
       "}});\n",
       "\n",
       "// Listen for the removal of the full notebook cells\n",
       "var notebookContainer = gd.closest('#notebook-container');\n",
       "if (notebookContainer) {{\n",
       "    x.observe(notebookContainer, {childList: true});\n",
       "}}\n",
       "\n",
       "// Listen for the clearing of the current output cell\n",
       "var outputEl = gd.closest('.output');\n",
       "if (outputEl) {{\n",
       "    x.observe(outputEl, {childList: true});\n",
       "}}\n",
       "\n",
       "                        })                };                });            </script>        </div>"
      ]
     },
     "metadata": {},
     "output_type": "display_data"
    }
   ],
   "source": [
    "fig = plot_act_patch_component_all_pos(\n",
    "    logprob_diff_recovery[2],\n",
    "    layers_to_patch,\n",
    "    metric_name=\"Logprob Diff Recovery\",\n",
    "    title=\"Activation Patching MLP @ All Pos\",\n",
    ")\n",
    "fig.write_html(\"figs/patch-exp2-mlp-all-pos-logprob-diff.html\")\n",
    "fig.show()"
   ]
  },
  {
   "cell_type": "markdown",
   "metadata": {},
   "source": [
    "## Sanity Check: Injecting vs. Patching in Direction15 @ Last Pos"
   ]
  },
  {
   "cell_type": "code",
   "execution_count": 84,
   "metadata": {},
   "outputs": [],
   "source": [
    "adder_store = []\n",
    "patcher_store = []\n",
    "\n",
    "def direction15_adder_last_pos(module, input, output):\n",
    "    new_output = [o for o in output]\n",
    "    new_output[0][:, -1] += direction15\n",
    "    return tuple(new_output)\n",
    "\n",
    "def direction15_patcher_last_pos(module, input, output):\n",
    "    new_output = [o for o in output]\n",
    "    new_output[0][:, -1, :] = clean_cache[\"model.layers.15\"][:, -1, :]\n",
    "    return tuple(new_output)\n",
    "\n",
    "# Run with adder\n",
    "model.reset_hooks()\n",
    "model.add_hook(\"model.layers.15\", direction15_adder_last_pos)\n",
    "logits_adder = model(input_tokens)\n",
    "\n",
    "# Run with patcher\n",
    "model.reset_hooks()\n",
    "model.add_hook(\"model.layers.15\", direction15_patcher_last_pos)\n",
    "logits_patcher = model(input_tokens)"
   ]
  },
  {
   "cell_type": "code",
   "execution_count": 94,
   "metadata": {},
   "outputs": [
    {
     "data": {
      "text/plain": [
       "tensor([0.3013, 0.3387, 1.0599, 0.3137, 1.0658, 0.1697, 0.6040, 0.9999, 1.3309,\n",
       "        0.2608, 0.6965, 0.4981, 1.9561, 0.3048, 0.4808, 0.5307, 0.8967, 0.4463,\n",
       "        0.5609, 0.4119], device='cuda:0')"
      ]
     },
     "execution_count": 94,
     "metadata": {},
     "output_type": "execute_result"
    }
   ],
   "source": [
    "t.nn.functional.kl_div(\n",
    "    logits_patcher[:, -1].log_softmax(dim=-1),\n",
    "    clean_logits[:, -1].log_softmax(dim=-1),\n",
    "    log_target=True,\n",
    "    reduction=\"none\",\n",
    ").sum(dim=-1)  # [batch]"
   ]
  },
  {
   "cell_type": "code",
   "execution_count": 95,
   "metadata": {},
   "outputs": [
    {
     "data": {
      "text/plain": [
       "tensor([0.3013, 0.3387, 1.0599, 0.3137, 1.0658, 0.1697, 0.6040, 0.9999, 1.3309,\n",
       "        0.2608, 0.6965, 0.4981, 1.9561, 0.3048, 0.4808, 0.5307, 0.8967, 0.4463,\n",
       "        0.5609, 0.4119], device='cuda:0')"
      ]
     },
     "execution_count": 95,
     "metadata": {},
     "output_type": "execute_result"
    }
   ],
   "source": [
    "t.nn.functional.kl_div(\n",
    "    logits_adder[:, -1].log_softmax(dim=-1),\n",
    "    clean_logits[:, -1].log_softmax(dim=-1),\n",
    "    log_target=True,\n",
    "    reduction=\"none\",\n",
    ").sum(dim=-1)  # [batch]"
   ]
  },
  {
   "cell_type": "code",
   "execution_count": 96,
   "metadata": {},
   "outputs": [
    {
     "data": {
      "text/plain": [
       "tensor([0., 0., 0., 0., 0., 0., 0., 0., 0., 0., 0., 0., 0., 0., 0., 0., 0., 0., 0., 0.],\n",
       "       device='cuda:0')"
      ]
     },
     "execution_count": 96,
     "metadata": {},
     "output_type": "execute_result"
    }
   ],
   "source": [
    "t.nn.functional.kl_div(\n",
    "    logits_adder[:, -1].log_softmax(dim=-1),\n",
    "    logits_patcher[:, -1].log_softmax(dim=-1),\n",
    "    log_target=True,\n",
    "    reduction=\"none\",\n",
    ").sum(dim=-1)  # [batch]"
   ]
  },
  {
   "cell_type": "code",
   "execution_count": null,
   "metadata": {},
   "outputs": [],
   "source": []
  },
  {
   "cell_type": "code",
   "execution_count": null,
   "metadata": {},
   "outputs": [],
   "source": []
  },
  {
   "cell_type": "code",
   "execution_count": null,
   "metadata": {},
   "outputs": [],
   "source": []
  },
  {
   "cell_type": "code",
   "execution_count": null,
   "metadata": {},
   "outputs": [],
   "source": []
  },
  {
   "cell_type": "code",
   "execution_count": null,
   "metadata": {},
   "outputs": [],
   "source": []
  }
 ],
 "metadata": {
  "kernelspec": {
   "display_name": "Python 3",
   "language": "python",
   "name": "python3"
  },
  "language_info": {
   "codemirror_mode": {
    "name": "ipython",
    "version": 3
   },
   "file_extension": ".py",
   "mimetype": "text/x-python",
   "name": "python",
   "nbconvert_exporter": "python",
   "pygments_lexer": "ipython3",
   "version": "3.10.13"
  }
 },
 "nbformat": 4,
 "nbformat_minor": 2
}
